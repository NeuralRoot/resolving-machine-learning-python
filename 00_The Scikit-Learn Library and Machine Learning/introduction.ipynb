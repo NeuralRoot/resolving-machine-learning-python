{
 "cells": [
  {
   "cell_type": "markdown",
   "id": "1750aa3a-1a6e-4fcd-8bd8-a9c69a4b9d67",
   "metadata": {},
   "source": [
    "1. Machine Learning, what does it mean?\n",
    "2. Types of Machine Learning Equations\n",
    "    1. Supervised\n",
    "        - Regressors: Target Continuous Variable\n",
    "        - Classifiers: Target Categorical Variable\n",
    "    2. Unsupervised\n",
    "        - Clustering: Target ??\n",
    "3. The sklearn library\n",
    "    - How sklearn library is organised?\n",
    "    - The linear regression model"
   ]
  },
  {
   "cell_type": "markdown",
   "id": "e7fe836e-d945-41f9-add2-aaedb07cd3c5",
   "metadata": {},
   "source": [
    "# (28/11/2022)"
   ]
  },
  {
   "cell_type": "markdown",
   "id": "9c7fe693-0699-42ed-bd53-744586049785",
   "metadata": {},
   "source": [
    "Mentalidad para grabar los video perfectos (sobreentendiendo que todo el mundo sabe). De lo contrario voy a caer en redundancias que podria explicar en otros videos."
   ]
  }
 ],
 "metadata": {
  "kernelspec": {
   "display_name": "Python 3 (ipykernel)",
   "language": "python",
   "name": "python3"
  },
  "language_info": {
   "codemirror_mode": {
    "name": "ipython",
    "version": 3
   },
   "file_extension": ".py",
   "mimetype": "text/x-python",
   "name": "python",
   "nbconvert_exporter": "python",
   "pygments_lexer": "ipython3",
   "version": "3.9.12"
  }
 },
 "nbformat": 4,
 "nbformat_minor": 5
}
