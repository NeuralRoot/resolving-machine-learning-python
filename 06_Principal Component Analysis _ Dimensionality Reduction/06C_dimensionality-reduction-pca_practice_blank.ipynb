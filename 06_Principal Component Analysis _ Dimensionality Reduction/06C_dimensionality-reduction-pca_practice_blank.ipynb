{
 "cells": [
  {
   "cell_type": "markdown",
   "metadata": {},
   "source": [
    "![](../src/logo.svg)\n",
    "\n",
    "**© Jesús López**\n",
    "\n",
    "Ask him any doubt on **[Twitter](https://twitter.com/jsulopz)** or **[LinkedIn](https://linkedin.com/in/jsulopz)**"
   ]
  },
  {
   "cell_type": "markdown",
   "metadata": {},
   "source": [
    "<a href=\"https://colab.research.google.com/github/jsulopz/resolving-machine-learning/blob/main/06_Principal%20Component%20Analysis%20%28PCA%29/06_dimensionality-reduction-pca_practice_solution.ipynb\">\n",
    "  <img src=\"https://colab.research.google.com/assets/colab-badge.svg\" alt=\"Open In Colab\"/>\n",
    "</a>"
   ]
  },
  {
   "cell_type": "markdown",
   "metadata": {},
   "source": [
    "# 06 | Principal Component Analysis (PCA)"
   ]
  },
  {
   "cell_type": "markdown",
   "metadata": {},
   "source": [
    "## Load the Data"
   ]
  },
  {
   "cell_type": "markdown",
   "metadata": {},
   "source": [
    "- Simply execute the following lines of code to load the data\n",
    "- This dataset contains **statistics** (columns)\n",
    "- About **Car Models** (rows)"
   ]
  },
  {
   "cell_type": "code",
   "execution_count": 125,
   "metadata": {},
   "outputs": [
    {
     "data": {
      "text/html": [
       "<div>\n",
       "<style scoped>\n",
       "    .dataframe tbody tr th:only-of-type {\n",
       "        vertical-align: middle;\n",
       "    }\n",
       "\n",
       "    .dataframe tbody tr th {\n",
       "        vertical-align: top;\n",
       "    }\n",
       "\n",
       "    .dataframe thead th {\n",
       "        text-align: right;\n",
       "    }\n",
       "</style>\n",
       "<table border=\"1\" class=\"dataframe\">\n",
       "  <thead>\n",
       "    <tr style=\"text-align: right;\">\n",
       "      <th></th>\n",
       "      <th>mpg</th>\n",
       "      <th>cylinders</th>\n",
       "      <th>displacement</th>\n",
       "      <th>horsepower</th>\n",
       "      <th>weight</th>\n",
       "      <th>acceleration</th>\n",
       "      <th>model_year</th>\n",
       "      <th>origin</th>\n",
       "    </tr>\n",
       "    <tr>\n",
       "      <th>name</th>\n",
       "      <th></th>\n",
       "      <th></th>\n",
       "      <th></th>\n",
       "      <th></th>\n",
       "      <th></th>\n",
       "      <th></th>\n",
       "      <th></th>\n",
       "      <th></th>\n",
       "    </tr>\n",
       "  </thead>\n",
       "  <tbody>\n",
       "    <tr>\n",
       "      <th>ford mustang ii</th>\n",
       "      <td>13.0</td>\n",
       "      <td>8</td>\n",
       "      <td>302.0</td>\n",
       "      <td>129.0</td>\n",
       "      <td>3169</td>\n",
       "      <td>12.0</td>\n",
       "      <td>75</td>\n",
       "      <td>usa</td>\n",
       "    </tr>\n",
       "    <tr>\n",
       "      <th>datsun b210 gx</th>\n",
       "      <td>39.4</td>\n",
       "      <td>4</td>\n",
       "      <td>85.0</td>\n",
       "      <td>70.0</td>\n",
       "      <td>2070</td>\n",
       "      <td>18.6</td>\n",
       "      <td>78</td>\n",
       "      <td>japan</td>\n",
       "    </tr>\n",
       "    <tr>\n",
       "      <th>ford fairmont (man)</th>\n",
       "      <td>25.1</td>\n",
       "      <td>4</td>\n",
       "      <td>140.0</td>\n",
       "      <td>88.0</td>\n",
       "      <td>2720</td>\n",
       "      <td>15.4</td>\n",
       "      <td>78</td>\n",
       "      <td>usa</td>\n",
       "    </tr>\n",
       "    <tr>\n",
       "      <th>fiat 124 sport coupe</th>\n",
       "      <td>26.0</td>\n",
       "      <td>4</td>\n",
       "      <td>98.0</td>\n",
       "      <td>90.0</td>\n",
       "      <td>2265</td>\n",
       "      <td>15.5</td>\n",
       "      <td>73</td>\n",
       "      <td>europe</td>\n",
       "    </tr>\n",
       "    <tr>\n",
       "      <th>datsun 210</th>\n",
       "      <td>40.8</td>\n",
       "      <td>4</td>\n",
       "      <td>85.0</td>\n",
       "      <td>65.0</td>\n",
       "      <td>2110</td>\n",
       "      <td>19.2</td>\n",
       "      <td>80</td>\n",
       "      <td>japan</td>\n",
       "    </tr>\n",
       "  </tbody>\n",
       "</table>\n",
       "</div>"
      ],
      "text/plain": [
       "                       mpg  cylinders  displacement  horsepower  weight  \\\n",
       "name                                                                      \n",
       "ford mustang ii       13.0          8         302.0       129.0    3169   \n",
       "datsun b210 gx        39.4          4          85.0        70.0    2070   \n",
       "ford fairmont (man)   25.1          4         140.0        88.0    2720   \n",
       "fiat 124 sport coupe  26.0          4          98.0        90.0    2265   \n",
       "datsun 210            40.8          4          85.0        65.0    2110   \n",
       "\n",
       "                      acceleration  model_year  origin  \n",
       "name                                                    \n",
       "ford mustang ii               12.0          75     usa  \n",
       "datsun b210 gx                18.6          78   japan  \n",
       "ford fairmont (man)           15.4          78     usa  \n",
       "fiat 124 sport coupe          15.5          73  europe  \n",
       "datsun 210                    19.2          80   japan  "
      ]
     },
     "execution_count": 125,
     "metadata": {},
     "output_type": "execute_result"
    }
   ],
   "source": [
    "import seaborn as sns #!\n",
    "\n",
    "df = sns.load_dataset(name='mpg', index_col='name')\n",
    "df.sample(5)"
   ]
  },
  {
   "cell_type": "markdown",
   "metadata": {},
   "source": [
    "## Data Preprocessing\n",
    "\n",
    "- All variables need to be **comparables**.\n",
    "- It is not the same to increase 1kg of weight, than 1m of height.\n",
    "- We will use `StandardScaler()`."
   ]
  },
  {
   "cell_type": "markdown",
   "metadata": {},
   "source": [
    "*Converting categorical data to numerical data*"
   ]
  },
  {
   "cell_type": "code",
   "execution_count": 126,
   "metadata": {},
   "outputs": [
    {
     "data": {
      "text/html": [
       "<div>\n",
       "<style scoped>\n",
       "    .dataframe tbody tr th:only-of-type {\n",
       "        vertical-align: middle;\n",
       "    }\n",
       "\n",
       "    .dataframe tbody tr th {\n",
       "        vertical-align: top;\n",
       "    }\n",
       "\n",
       "    .dataframe thead th {\n",
       "        text-align: right;\n",
       "    }\n",
       "</style>\n",
       "<table border=\"1\" class=\"dataframe\">\n",
       "  <thead>\n",
       "    <tr style=\"text-align: right;\">\n",
       "      <th></th>\n",
       "      <th>mpg</th>\n",
       "      <th>cylinders</th>\n",
       "      <th>displacement</th>\n",
       "      <th>horsepower</th>\n",
       "      <th>weight</th>\n",
       "      <th>acceleration</th>\n",
       "      <th>model_year</th>\n",
       "      <th>origin_japan</th>\n",
       "      <th>origin_usa</th>\n",
       "    </tr>\n",
       "    <tr>\n",
       "      <th>name</th>\n",
       "      <th></th>\n",
       "      <th></th>\n",
       "      <th></th>\n",
       "      <th></th>\n",
       "      <th></th>\n",
       "      <th></th>\n",
       "      <th></th>\n",
       "      <th></th>\n",
       "      <th></th>\n",
       "    </tr>\n",
       "  </thead>\n",
       "  <tbody>\n",
       "    <tr>\n",
       "      <th>chevrolet chevelle malibu</th>\n",
       "      <td>18.0</td>\n",
       "      <td>8</td>\n",
       "      <td>307.0</td>\n",
       "      <td>130.0</td>\n",
       "      <td>3504</td>\n",
       "      <td>12.0</td>\n",
       "      <td>70</td>\n",
       "      <td>0</td>\n",
       "      <td>1</td>\n",
       "    </tr>\n",
       "    <tr>\n",
       "      <th>buick skylark 320</th>\n",
       "      <td>15.0</td>\n",
       "      <td>8</td>\n",
       "      <td>350.0</td>\n",
       "      <td>165.0</td>\n",
       "      <td>3693</td>\n",
       "      <td>11.5</td>\n",
       "      <td>70</td>\n",
       "      <td>0</td>\n",
       "      <td>1</td>\n",
       "    </tr>\n",
       "    <tr>\n",
       "      <th>plymouth satellite</th>\n",
       "      <td>18.0</td>\n",
       "      <td>8</td>\n",
       "      <td>318.0</td>\n",
       "      <td>150.0</td>\n",
       "      <td>3436</td>\n",
       "      <td>11.0</td>\n",
       "      <td>70</td>\n",
       "      <td>0</td>\n",
       "      <td>1</td>\n",
       "    </tr>\n",
       "    <tr>\n",
       "      <th>amc rebel sst</th>\n",
       "      <td>16.0</td>\n",
       "      <td>8</td>\n",
       "      <td>304.0</td>\n",
       "      <td>150.0</td>\n",
       "      <td>3433</td>\n",
       "      <td>12.0</td>\n",
       "      <td>70</td>\n",
       "      <td>0</td>\n",
       "      <td>1</td>\n",
       "    </tr>\n",
       "    <tr>\n",
       "      <th>ford torino</th>\n",
       "      <td>17.0</td>\n",
       "      <td>8</td>\n",
       "      <td>302.0</td>\n",
       "      <td>140.0</td>\n",
       "      <td>3449</td>\n",
       "      <td>10.5</td>\n",
       "      <td>70</td>\n",
       "      <td>0</td>\n",
       "      <td>1</td>\n",
       "    </tr>\n",
       "  </tbody>\n",
       "</table>\n",
       "</div>"
      ],
      "text/plain": [
       "                            mpg  cylinders  displacement  horsepower  weight  \\\n",
       "name                                                                           \n",
       "chevrolet chevelle malibu  18.0          8         307.0       130.0    3504   \n",
       "buick skylark 320          15.0          8         350.0       165.0    3693   \n",
       "plymouth satellite         18.0          8         318.0       150.0    3436   \n",
       "amc rebel sst              16.0          8         304.0       150.0    3433   \n",
       "ford torino                17.0          8         302.0       140.0    3449   \n",
       "\n",
       "                           acceleration  model_year  origin_japan  origin_usa  \n",
       "name                                                                           \n",
       "chevrolet chevelle malibu          12.0          70             0           1  \n",
       "buick skylark 320                  11.5          70             0           1  \n",
       "plymouth satellite                 11.0          70             0           1  \n",
       "amc rebel sst                      12.0          70             0           1  \n",
       "ford torino                        10.5          70             0           1  "
      ]
     },
     "execution_count": 126,
     "metadata": {},
     "output_type": "execute_result"
    }
   ],
   "source": [
    "import pandas as pd\n",
    "\n",
    "df = pd.get_dummies(df, drop_first=True)\n",
    "\n",
    "df.head()"
   ]
  },
  {
   "cell_type": "markdown",
   "metadata": {},
   "source": [
    "*Dropping NaN values*"
   ]
  },
  {
   "cell_type": "code",
   "execution_count": 127,
   "metadata": {},
   "outputs": [
    {
     "data": {
      "text/plain": [
       "mpg             0\n",
       "cylinders       0\n",
       "displacement    0\n",
       "horsepower      6\n",
       "weight          0\n",
       "acceleration    0\n",
       "model_year      0\n",
       "origin_japan    0\n",
       "origin_usa      0\n",
       "dtype: int64"
      ]
     },
     "execution_count": 127,
     "metadata": {},
     "output_type": "execute_result"
    }
   ],
   "source": [
    "df.isnull().sum()"
   ]
  },
  {
   "cell_type": "code",
   "execution_count": 128,
   "metadata": {},
   "outputs": [],
   "source": [
    "df.dropna(inplace=True)"
   ]
  },
  {
   "cell_type": "markdown",
   "metadata": {},
   "source": [
    "*Scaling the data with `StandarScaler()`*"
   ]
  },
  {
   "cell_type": "markdown",
   "metadata": {},
   "source": [
    "Note: *The MinMaxscaler is a type of scaler that scales the minimum and maximum values to be 0 and 1 respectively. While the StandardScaler scales all values between min and max so that they fall within a range from min to max.*"
   ]
  },
  {
   "cell_type": "code",
   "execution_count": 129,
   "metadata": {},
   "outputs": [],
   "source": [
    "from sklearn.preprocessing import StandardScaler"
   ]
  },
  {
   "cell_type": "code",
   "execution_count": 130,
   "metadata": {},
   "outputs": [],
   "source": [
    "scaler = StandardScaler()"
   ]
  },
  {
   "cell_type": "code",
   "execution_count": 131,
   "metadata": {},
   "outputs": [],
   "source": [
    "data = scaler.fit_transform(df)"
   ]
  },
  {
   "cell_type": "code",
   "execution_count": 132,
   "metadata": {},
   "outputs": [
    {
     "data": {
      "text/plain": [
       "array([-1.08349824,  1.48394702,  2.244637  ,  2.43302983,  1.60719812,\n",
       "       -2.01112047, -1.62531533, -0.50239045,  0.77459667])"
      ]
     },
     "execution_count": 132,
     "metadata": {},
     "output_type": "execute_result"
    }
   ],
   "source": [
    "data[5]"
   ]
  },
  {
   "cell_type": "code",
   "execution_count": 133,
   "metadata": {},
   "outputs": [],
   "source": [
    "df_scaled = pd.DataFrame(data=data, index=df.index, columns=df.columns)"
   ]
  },
  {
   "cell_type": "code",
   "execution_count": 134,
   "metadata": {},
   "outputs": [
    {
     "data": {
      "text/html": [
       "<div>\n",
       "<style scoped>\n",
       "    .dataframe tbody tr th:only-of-type {\n",
       "        vertical-align: middle;\n",
       "    }\n",
       "\n",
       "    .dataframe tbody tr th {\n",
       "        vertical-align: top;\n",
       "    }\n",
       "\n",
       "    .dataframe thead th {\n",
       "        text-align: right;\n",
       "    }\n",
       "</style>\n",
       "<table border=\"1\" class=\"dataframe\">\n",
       "  <thead>\n",
       "    <tr style=\"text-align: right;\">\n",
       "      <th></th>\n",
       "      <th>mpg</th>\n",
       "      <th>cylinders</th>\n",
       "      <th>displacement</th>\n",
       "      <th>horsepower</th>\n",
       "      <th>weight</th>\n",
       "      <th>acceleration</th>\n",
       "      <th>model_year</th>\n",
       "      <th>origin_japan</th>\n",
       "      <th>origin_usa</th>\n",
       "    </tr>\n",
       "    <tr>\n",
       "      <th>name</th>\n",
       "      <th></th>\n",
       "      <th></th>\n",
       "      <th></th>\n",
       "      <th></th>\n",
       "      <th></th>\n",
       "      <th></th>\n",
       "      <th></th>\n",
       "      <th></th>\n",
       "      <th></th>\n",
       "    </tr>\n",
       "  </thead>\n",
       "  <tbody>\n",
       "    <tr>\n",
       "      <th>chevrolet chevelle malibu</th>\n",
       "      <td>-0.698638</td>\n",
       "      <td>1.483947</td>\n",
       "      <td>1.077290</td>\n",
       "      <td>0.664133</td>\n",
       "      <td>0.620540</td>\n",
       "      <td>-1.285258</td>\n",
       "      <td>-1.625315</td>\n",
       "      <td>-0.50239</td>\n",
       "      <td>0.774597</td>\n",
       "    </tr>\n",
       "    <tr>\n",
       "      <th>buick skylark 320</th>\n",
       "      <td>-1.083498</td>\n",
       "      <td>1.483947</td>\n",
       "      <td>1.488732</td>\n",
       "      <td>1.574594</td>\n",
       "      <td>0.843334</td>\n",
       "      <td>-1.466724</td>\n",
       "      <td>-1.625315</td>\n",
       "      <td>-0.50239</td>\n",
       "      <td>0.774597</td>\n",
       "    </tr>\n",
       "    <tr>\n",
       "      <th>plymouth satellite</th>\n",
       "      <td>-0.698638</td>\n",
       "      <td>1.483947</td>\n",
       "      <td>1.182542</td>\n",
       "      <td>1.184397</td>\n",
       "      <td>0.540382</td>\n",
       "      <td>-1.648189</td>\n",
       "      <td>-1.625315</td>\n",
       "      <td>-0.50239</td>\n",
       "      <td>0.774597</td>\n",
       "    </tr>\n",
       "    <tr>\n",
       "      <th>amc rebel sst</th>\n",
       "      <td>-0.955212</td>\n",
       "      <td>1.483947</td>\n",
       "      <td>1.048584</td>\n",
       "      <td>1.184397</td>\n",
       "      <td>0.536845</td>\n",
       "      <td>-1.285258</td>\n",
       "      <td>-1.625315</td>\n",
       "      <td>-0.50239</td>\n",
       "      <td>0.774597</td>\n",
       "    </tr>\n",
       "    <tr>\n",
       "      <th>ford torino</th>\n",
       "      <td>-0.826925</td>\n",
       "      <td>1.483947</td>\n",
       "      <td>1.029447</td>\n",
       "      <td>0.924265</td>\n",
       "      <td>0.555706</td>\n",
       "      <td>-1.829655</td>\n",
       "      <td>-1.625315</td>\n",
       "      <td>-0.50239</td>\n",
       "      <td>0.774597</td>\n",
       "    </tr>\n",
       "  </tbody>\n",
       "</table>\n",
       "</div>"
      ],
      "text/plain": [
       "                                mpg  cylinders  displacement  horsepower  \\\n",
       "name                                                                       \n",
       "chevrolet chevelle malibu -0.698638   1.483947      1.077290    0.664133   \n",
       "buick skylark 320         -1.083498   1.483947      1.488732    1.574594   \n",
       "plymouth satellite        -0.698638   1.483947      1.182542    1.184397   \n",
       "amc rebel sst             -0.955212   1.483947      1.048584    1.184397   \n",
       "ford torino               -0.826925   1.483947      1.029447    0.924265   \n",
       "\n",
       "                             weight  acceleration  model_year  origin_japan  \\\n",
       "name                                                                          \n",
       "chevrolet chevelle malibu  0.620540     -1.285258   -1.625315      -0.50239   \n",
       "buick skylark 320          0.843334     -1.466724   -1.625315      -0.50239   \n",
       "plymouth satellite         0.540382     -1.648189   -1.625315      -0.50239   \n",
       "amc rebel sst              0.536845     -1.285258   -1.625315      -0.50239   \n",
       "ford torino                0.555706     -1.829655   -1.625315      -0.50239   \n",
       "\n",
       "                           origin_usa  \n",
       "name                                   \n",
       "chevrolet chevelle malibu    0.774597  \n",
       "buick skylark 320            0.774597  \n",
       "plymouth satellite           0.774597  \n",
       "amc rebel sst                0.774597  \n",
       "ford torino                  0.774597  "
      ]
     },
     "execution_count": 134,
     "metadata": {},
     "output_type": "execute_result"
    }
   ],
   "source": [
    "df_scaled.head()"
   ]
  },
  {
   "cell_type": "markdown",
   "metadata": {},
   "source": [
    "## `KMeans()` Model in Python"
   ]
  },
  {
   "cell_type": "markdown",
   "metadata": {},
   "source": [
    "### Fit the Model"
   ]
  },
  {
   "cell_type": "code",
   "execution_count": 135,
   "metadata": {},
   "outputs": [],
   "source": [
    "from sklearn.cluster import KMeans"
   ]
  },
  {
   "cell_type": "markdown",
   "metadata": {},
   "source": [
    "*We will create three clusters for the cars*"
   ]
  },
  {
   "cell_type": "code",
   "execution_count": 136,
   "metadata": {},
   "outputs": [],
   "source": [
    "model_km = KMeans(n_clusters=3)"
   ]
  },
  {
   "cell_type": "code",
   "execution_count": 137,
   "metadata": {},
   "outputs": [
    {
     "data": {
      "text/html": [
       "<style>#sk-container-id-3 {color: black;background-color: white;}#sk-container-id-3 pre{padding: 0;}#sk-container-id-3 div.sk-toggleable {background-color: white;}#sk-container-id-3 label.sk-toggleable__label {cursor: pointer;display: block;width: 100%;margin-bottom: 0;padding: 0.3em;box-sizing: border-box;text-align: center;}#sk-container-id-3 label.sk-toggleable__label-arrow:before {content: \"▸\";float: left;margin-right: 0.25em;color: #696969;}#sk-container-id-3 label.sk-toggleable__label-arrow:hover:before {color: black;}#sk-container-id-3 div.sk-estimator:hover label.sk-toggleable__label-arrow:before {color: black;}#sk-container-id-3 div.sk-toggleable__content {max-height: 0;max-width: 0;overflow: hidden;text-align: left;background-color: #f0f8ff;}#sk-container-id-3 div.sk-toggleable__content pre {margin: 0.2em;color: black;border-radius: 0.25em;background-color: #f0f8ff;}#sk-container-id-3 input.sk-toggleable__control:checked~div.sk-toggleable__content {max-height: 200px;max-width: 100%;overflow: auto;}#sk-container-id-3 input.sk-toggleable__control:checked~label.sk-toggleable__label-arrow:before {content: \"▾\";}#sk-container-id-3 div.sk-estimator input.sk-toggleable__control:checked~label.sk-toggleable__label {background-color: #d4ebff;}#sk-container-id-3 div.sk-label input.sk-toggleable__control:checked~label.sk-toggleable__label {background-color: #d4ebff;}#sk-container-id-3 input.sk-hidden--visually {border: 0;clip: rect(1px 1px 1px 1px);clip: rect(1px, 1px, 1px, 1px);height: 1px;margin: -1px;overflow: hidden;padding: 0;position: absolute;width: 1px;}#sk-container-id-3 div.sk-estimator {font-family: monospace;background-color: #f0f8ff;border: 1px dotted black;border-radius: 0.25em;box-sizing: border-box;margin-bottom: 0.5em;}#sk-container-id-3 div.sk-estimator:hover {background-color: #d4ebff;}#sk-container-id-3 div.sk-parallel-item::after {content: \"\";width: 100%;border-bottom: 1px solid gray;flex-grow: 1;}#sk-container-id-3 div.sk-label:hover label.sk-toggleable__label {background-color: #d4ebff;}#sk-container-id-3 div.sk-serial::before {content: \"\";position: absolute;border-left: 1px solid gray;box-sizing: border-box;top: 0;bottom: 0;left: 50%;z-index: 0;}#sk-container-id-3 div.sk-serial {display: flex;flex-direction: column;align-items: center;background-color: white;padding-right: 0.2em;padding-left: 0.2em;position: relative;}#sk-container-id-3 div.sk-item {position: relative;z-index: 1;}#sk-container-id-3 div.sk-parallel {display: flex;align-items: stretch;justify-content: center;background-color: white;position: relative;}#sk-container-id-3 div.sk-item::before, #sk-container-id-3 div.sk-parallel-item::before {content: \"\";position: absolute;border-left: 1px solid gray;box-sizing: border-box;top: 0;bottom: 0;left: 50%;z-index: -1;}#sk-container-id-3 div.sk-parallel-item {display: flex;flex-direction: column;z-index: 1;position: relative;background-color: white;}#sk-container-id-3 div.sk-parallel-item:first-child::after {align-self: flex-end;width: 50%;}#sk-container-id-3 div.sk-parallel-item:last-child::after {align-self: flex-start;width: 50%;}#sk-container-id-3 div.sk-parallel-item:only-child::after {width: 0;}#sk-container-id-3 div.sk-dashed-wrapped {border: 1px dashed gray;margin: 0 0.4em 0.5em 0.4em;box-sizing: border-box;padding-bottom: 0.4em;background-color: white;}#sk-container-id-3 div.sk-label label {font-family: monospace;font-weight: bold;display: inline-block;line-height: 1.2em;}#sk-container-id-3 div.sk-label-container {text-align: center;}#sk-container-id-3 div.sk-container {/* jupyter's `normalize.less` sets `[hidden] { display: none; }` but bootstrap.min.css set `[hidden] { display: none !important; }` so we also need the `!important` here to be able to override the default hidden behavior on the sphinx rendered scikit-learn.org. See: https://github.com/scikit-learn/scikit-learn/issues/21755 */display: inline-block !important;position: relative;}#sk-container-id-3 div.sk-text-repr-fallback {display: none;}</style><div id=\"sk-container-id-3\" class=\"sk-top-container\"><div class=\"sk-text-repr-fallback\"><pre>KMeans(n_clusters=3)</pre><b>In a Jupyter environment, please rerun this cell to show the HTML representation or trust the notebook. <br />On GitHub, the HTML representation is unable to render, please try loading this page with nbviewer.org.</b></div><div class=\"sk-container\" hidden><div class=\"sk-item\"><div class=\"sk-estimator sk-toggleable\"><input class=\"sk-toggleable__control sk-hidden--visually\" id=\"sk-estimator-id-3\" type=\"checkbox\" checked><label for=\"sk-estimator-id-3\" class=\"sk-toggleable__label sk-toggleable__label-arrow\">KMeans</label><div class=\"sk-toggleable__content\"><pre>KMeans(n_clusters=3)</pre></div></div></div></div></div>"
      ],
      "text/plain": [
       "KMeans(n_clusters=3)"
      ]
     },
     "execution_count": 137,
     "metadata": {},
     "output_type": "execute_result"
    }
   ],
   "source": [
    "model_km.fit(X=df_scaled)"
   ]
  },
  {
   "cell_type": "markdown",
   "metadata": {},
   "source": [
    "### Calculate Predictions"
   ]
  },
  {
   "cell_type": "code",
   "execution_count": 138,
   "metadata": {},
   "outputs": [
    {
     "data": {
      "text/plain": [
       "array([2, 2, 2, 2, 2, 2, 2, 2, 2, 2, 2, 2, 2, 2, 1, 0, 0, 0, 1, 1, 1, 1,\n",
       "       1, 1, 0, 2, 2, 2, 2, 1, 0, 1, 0, 0, 0, 0, 0, 2, 2, 2, 2, 2, 2, 2,\n",
       "       0, 0, 0, 0, 0, 1, 1, 1, 1, 1, 1, 0, 1, 0, 1, 0, 0, 2, 2, 2, 2, 2,\n",
       "       2, 2, 2, 2, 1, 2, 2, 2, 2, 1, 1, 1, 1, 0, 1, 1, 0, 1, 2, 2, 2, 2,\n",
       "       2, 2, 2, 2, 2, 2, 2, 2, 0, 0, 0, 0, 0, 1, 2, 2, 2, 2, 0, 1, 0, 1,\n",
       "       1, 0, 0, 1, 2, 2, 1, 1, 1, 1, 2, 1, 1, 2, 0, 0, 0, 1, 0, 1, 0, 0,\n",
       "       0, 0, 2, 2, 2, 2, 2, 1, 1, 1, 1, 1, 0, 1, 1, 1, 1, 1, 0, 0, 0, 0,\n",
       "       2, 2, 2, 2, 0, 0, 0, 0, 0, 2, 2, 1, 0, 0, 0, 1, 1, 1, 0, 1, 0, 1,\n",
       "       1, 1, 1, 1, 1, 1, 0, 0, 1, 2, 2, 2, 2, 0, 0, 0, 0, 0, 0, 1, 1, 0,\n",
       "       0, 0, 0, 1, 1, 1, 0, 1, 2, 0, 1, 0, 2, 2, 2, 2, 1, 0, 1, 0, 1, 2,\n",
       "       0, 2, 2, 0, 0, 0, 0, 2, 2, 2, 2, 1, 0, 1, 0, 0, 0, 1, 1, 1, 1, 1,\n",
       "       1, 0, 1, 1, 1, 0, 2, 2, 0, 0, 0, 0, 0, 0, 0, 0, 0, 0, 2, 2, 2, 2,\n",
       "       0, 1, 1, 0, 1, 0, 0, 1, 0, 0, 1, 0, 1, 1, 0, 0, 0, 0, 0, 2, 2, 2,\n",
       "       2, 2, 2, 2, 2, 1, 1, 0, 0, 0, 2, 1, 0, 0, 0, 1, 1, 0, 0, 0, 0, 1,\n",
       "       1, 0, 1, 0, 0, 0, 0, 1, 1, 1, 1, 1, 1, 0, 1, 1, 1, 1, 1, 1, 1, 1,\n",
       "       1, 1, 1, 1, 0, 0, 0, 0, 0, 1, 0, 1, 1, 1, 1, 1, 0, 0, 0, 1, 1, 1,\n",
       "       1, 1, 1, 1, 1, 1, 0, 0, 0, 0, 0, 0, 0, 0, 0, 0, 0, 1, 1, 1, 0, 0,\n",
       "       1, 1, 1, 1, 1, 1, 0, 0, 0, 0, 1, 0, 0, 0, 1, 0, 0, 0])"
      ]
     },
     "execution_count": 138,
     "metadata": {},
     "output_type": "execute_result"
    }
   ],
   "source": [
    "pred = model_km.predict(X=df_scaled)\n",
    "\n",
    "pred"
   ]
  },
  {
   "cell_type": "markdown",
   "metadata": {},
   "source": [
    "### Create a New DataFrame for the Predictions"
   ]
  },
  {
   "cell_type": "code",
   "execution_count": 139,
   "metadata": {},
   "outputs": [],
   "source": [
    "df_pred = df_scaled.copy()"
   ]
  },
  {
   "cell_type": "code",
   "execution_count": 140,
   "metadata": {},
   "outputs": [],
   "source": [
    "df_pred.insert(loc = 0,\n",
    "          column = 'pred_KM',\n",
    "          value = pred)"
   ]
  },
  {
   "cell_type": "code",
   "execution_count": 141,
   "metadata": {},
   "outputs": [
    {
     "data": {
      "text/html": [
       "<div>\n",
       "<style scoped>\n",
       "    .dataframe tbody tr th:only-of-type {\n",
       "        vertical-align: middle;\n",
       "    }\n",
       "\n",
       "    .dataframe tbody tr th {\n",
       "        vertical-align: top;\n",
       "    }\n",
       "\n",
       "    .dataframe thead th {\n",
       "        text-align: right;\n",
       "    }\n",
       "</style>\n",
       "<table border=\"1\" class=\"dataframe\">\n",
       "  <thead>\n",
       "    <tr style=\"text-align: right;\">\n",
       "      <th></th>\n",
       "      <th>pred_KM</th>\n",
       "      <th>mpg</th>\n",
       "      <th>cylinders</th>\n",
       "      <th>displacement</th>\n",
       "      <th>horsepower</th>\n",
       "      <th>weight</th>\n",
       "      <th>acceleration</th>\n",
       "      <th>model_year</th>\n",
       "      <th>origin_japan</th>\n",
       "      <th>origin_usa</th>\n",
       "    </tr>\n",
       "    <tr>\n",
       "      <th>name</th>\n",
       "      <th></th>\n",
       "      <th></th>\n",
       "      <th></th>\n",
       "      <th></th>\n",
       "      <th></th>\n",
       "      <th></th>\n",
       "      <th></th>\n",
       "      <th></th>\n",
       "      <th></th>\n",
       "      <th></th>\n",
       "    </tr>\n",
       "  </thead>\n",
       "  <tbody>\n",
       "    <tr>\n",
       "      <th>chevrolet chevelle malibu</th>\n",
       "      <td>2</td>\n",
       "      <td>-0.698638</td>\n",
       "      <td>1.483947</td>\n",
       "      <td>1.077290</td>\n",
       "      <td>0.664133</td>\n",
       "      <td>0.620540</td>\n",
       "      <td>-1.285258</td>\n",
       "      <td>-1.625315</td>\n",
       "      <td>-0.50239</td>\n",
       "      <td>0.774597</td>\n",
       "    </tr>\n",
       "    <tr>\n",
       "      <th>buick skylark 320</th>\n",
       "      <td>2</td>\n",
       "      <td>-1.083498</td>\n",
       "      <td>1.483947</td>\n",
       "      <td>1.488732</td>\n",
       "      <td>1.574594</td>\n",
       "      <td>0.843334</td>\n",
       "      <td>-1.466724</td>\n",
       "      <td>-1.625315</td>\n",
       "      <td>-0.50239</td>\n",
       "      <td>0.774597</td>\n",
       "    </tr>\n",
       "    <tr>\n",
       "      <th>plymouth satellite</th>\n",
       "      <td>2</td>\n",
       "      <td>-0.698638</td>\n",
       "      <td>1.483947</td>\n",
       "      <td>1.182542</td>\n",
       "      <td>1.184397</td>\n",
       "      <td>0.540382</td>\n",
       "      <td>-1.648189</td>\n",
       "      <td>-1.625315</td>\n",
       "      <td>-0.50239</td>\n",
       "      <td>0.774597</td>\n",
       "    </tr>\n",
       "    <tr>\n",
       "      <th>amc rebel sst</th>\n",
       "      <td>2</td>\n",
       "      <td>-0.955212</td>\n",
       "      <td>1.483947</td>\n",
       "      <td>1.048584</td>\n",
       "      <td>1.184397</td>\n",
       "      <td>0.536845</td>\n",
       "      <td>-1.285258</td>\n",
       "      <td>-1.625315</td>\n",
       "      <td>-0.50239</td>\n",
       "      <td>0.774597</td>\n",
       "    </tr>\n",
       "    <tr>\n",
       "      <th>ford torino</th>\n",
       "      <td>2</td>\n",
       "      <td>-0.826925</td>\n",
       "      <td>1.483947</td>\n",
       "      <td>1.029447</td>\n",
       "      <td>0.924265</td>\n",
       "      <td>0.555706</td>\n",
       "      <td>-1.829655</td>\n",
       "      <td>-1.625315</td>\n",
       "      <td>-0.50239</td>\n",
       "      <td>0.774597</td>\n",
       "    </tr>\n",
       "  </tbody>\n",
       "</table>\n",
       "</div>"
      ],
      "text/plain": [
       "                           pred_KM       mpg  cylinders  displacement  \\\n",
       "name                                                                    \n",
       "chevrolet chevelle malibu        2 -0.698638   1.483947      1.077290   \n",
       "buick skylark 320                2 -1.083498   1.483947      1.488732   \n",
       "plymouth satellite               2 -0.698638   1.483947      1.182542   \n",
       "amc rebel sst                    2 -0.955212   1.483947      1.048584   \n",
       "ford torino                      2 -0.826925   1.483947      1.029447   \n",
       "\n",
       "                           horsepower    weight  acceleration  model_year  \\\n",
       "name                                                                        \n",
       "chevrolet chevelle malibu    0.664133  0.620540     -1.285258   -1.625315   \n",
       "buick skylark 320            1.574594  0.843334     -1.466724   -1.625315   \n",
       "plymouth satellite           1.184397  0.540382     -1.648189   -1.625315   \n",
       "amc rebel sst                1.184397  0.536845     -1.285258   -1.625315   \n",
       "ford torino                  0.924265  0.555706     -1.829655   -1.625315   \n",
       "\n",
       "                           origin_japan  origin_usa  \n",
       "name                                                 \n",
       "chevrolet chevelle malibu      -0.50239    0.774597  \n",
       "buick skylark 320              -0.50239    0.774597  \n",
       "plymouth satellite             -0.50239    0.774597  \n",
       "amc rebel sst                  -0.50239    0.774597  \n",
       "ford torino                    -0.50239    0.774597  "
      ]
     },
     "execution_count": 141,
     "metadata": {},
     "output_type": "execute_result"
    }
   ],
   "source": [
    "df_pred.head()"
   ]
  },
  {
   "cell_type": "markdown",
   "metadata": {},
   "source": [
    "### Visualize the Model"
   ]
  },
  {
   "cell_type": "code",
   "execution_count": 142,
   "metadata": {},
   "outputs": [
    {
     "data": {
      "text/plain": [
       "<AxesSubplot: xlabel='mpg', ylabel='displacement'>"
      ]
     },
     "execution_count": 142,
     "metadata": {},
     "output_type": "execute_result"
    },
    {
     "data": {
      "image/png": "[encoded data removed]",
      "text/plain": [
       "<Figure size 640x480 with 1 Axes>"
      ]
     },
     "metadata": {},
     "output_type": "display_data"
    }
   ],
   "source": [
    "sns.scatterplot(data=df_pred, x=\"mpg\", y=\"displacement\", hue=\"pred_KM\", palette=\"Set1\")"
   ]
  },
  {
   "cell_type": "markdown",
   "metadata": {},
   "source": [
    "*Note that there are points of diferent clusters mixed, so we need to group the data with PCA*"
   ]
  },
  {
   "cell_type": "markdown",
   "metadata": {},
   "source": [
    "### Model Interpretation"
   ]
  },
  {
   "cell_type": "markdown",
   "metadata": {},
   "source": [
    "- Does the visualization makes sense?\n",
    "- The points are mixed between the groups, why?\n",
    "- We are **just representing 2 variables**\n",
    "- And the model was **fitted with 7 variables**"
   ]
  },
  {
   "cell_type": "markdown",
   "metadata": {},
   "source": [
    "## Grouping Variables with `PCA()`"
   ]
  },
  {
   "cell_type": "code",
   "execution_count": 143,
   "metadata": {
    "jupyter": {
     "source_hidden": true
    },
    "tags": []
   },
   "outputs": [
    {
     "data": {
      "text/html": [
       "\n",
       "<iframe width=\"560\" height=\"315\" src=\"https://www.youtube.com/embed/HMOI_lkzW08\" title=\"YouTube video player\" frameborder=\"0\" allow=\"accelerometer; autoplay; clipboard-write; encrypted-media; gyroscope; picture-in-picture\" allowfullscreen></iframe>\n"
      ],
      "text/plain": [
       "<IPython.core.display.HTML object>"
      ]
     },
     "metadata": {},
     "output_type": "display_data"
    }
   ],
   "source": [
    "%%HTML\n",
    "\n",
    "<iframe width=\"560\" height=\"315\" src=\"https://www.youtube.com/embed/HMOI_lkzW08\" title=\"YouTube video player\" frameborder=\"0\" allow=\"accelerometer; autoplay; clipboard-write; encrypted-media; gyroscope; picture-in-picture\" allowfullscreen></iframe>"
   ]
  },
  {
   "cell_type": "markdown",
   "metadata": {},
   "source": [
    "### Transform Data to Components"
   ]
  },
  {
   "cell_type": "markdown",
   "metadata": {},
   "source": [
    "- `PCA()` is another technique used to transform data.\n",
    "\n",
    "How has the data been manipulated so far?\n",
    "\n",
    "1. Original Data `df`\n",
    "2. Normalized Data `dfnorm`\n",
    "3. Principal Components Data `dfpca` (now)"
   ]
  },
  {
   "cell_type": "code",
   "execution_count": 144,
   "metadata": {},
   "outputs": [],
   "source": [
    "from sklearn.decomposition import PCA"
   ]
  },
  {
   "cell_type": "code",
   "execution_count": 145,
   "metadata": {},
   "outputs": [],
   "source": [
    "pca = PCA()"
   ]
  },
  {
   "cell_type": "code",
   "execution_count": 146,
   "metadata": {},
   "outputs": [],
   "source": [
    "df_pca = pd.DataFrame(data=pca.fit_transform(df_scaled), index=df_scaled.index, columns=[f'PC{i}' for i in range (1, pca.n_components_+1)])"
   ]
  },
  {
   "cell_type": "code",
   "execution_count": 147,
   "metadata": {},
   "outputs": [
    {
     "data": {
      "text/html": [
       "<div>\n",
       "<style scoped>\n",
       "    .dataframe tbody tr th:only-of-type {\n",
       "        vertical-align: middle;\n",
       "    }\n",
       "\n",
       "    .dataframe tbody tr th {\n",
       "        vertical-align: top;\n",
       "    }\n",
       "\n",
       "    .dataframe thead th {\n",
       "        text-align: right;\n",
       "    }\n",
       "</style>\n",
       "<table border=\"1\" class=\"dataframe\">\n",
       "  <thead>\n",
       "    <tr style=\"text-align: right;\">\n",
       "      <th></th>\n",
       "      <th>PC1</th>\n",
       "      <th>PC2</th>\n",
       "      <th>PC3</th>\n",
       "      <th>PC4</th>\n",
       "      <th>PC5</th>\n",
       "      <th>PC6</th>\n",
       "      <th>PC7</th>\n",
       "      <th>PC8</th>\n",
       "      <th>PC9</th>\n",
       "    </tr>\n",
       "    <tr>\n",
       "      <th>name</th>\n",
       "      <th></th>\n",
       "      <th></th>\n",
       "      <th></th>\n",
       "      <th></th>\n",
       "      <th></th>\n",
       "      <th></th>\n",
       "      <th></th>\n",
       "      <th></th>\n",
       "      <th></th>\n",
       "    </tr>\n",
       "  </thead>\n",
       "  <tbody>\n",
       "    <tr>\n",
       "      <th>chevrolet chevelle malibu</th>\n",
       "      <td>2.768102</td>\n",
       "      <td>0.653669</td>\n",
       "      <td>0.661643</td>\n",
       "      <td>-0.585333</td>\n",
       "      <td>-0.382837</td>\n",
       "      <td>0.750140</td>\n",
       "      <td>-0.468860</td>\n",
       "      <td>-0.095520</td>\n",
       "      <td>-0.120586</td>\n",
       "    </tr>\n",
       "    <tr>\n",
       "      <th>buick skylark 320</th>\n",
       "      <td>3.561796</td>\n",
       "      <td>0.961842</td>\n",
       "      <td>0.474659</td>\n",
       "      <td>-0.511149</td>\n",
       "      <td>-0.199102</td>\n",
       "      <td>0.489416</td>\n",
       "      <td>0.009370</td>\n",
       "      <td>0.213293</td>\n",
       "      <td>0.073620</td>\n",
       "    </tr>\n",
       "    <tr>\n",
       "      <th>plymouth satellite</th>\n",
       "      <td>3.070489</td>\n",
       "      <td>0.942217</td>\n",
       "      <td>0.473735</td>\n",
       "      <td>-0.870489</td>\n",
       "      <td>-0.313946</td>\n",
       "      <td>0.723960</td>\n",
       "      <td>-0.214271</td>\n",
       "      <td>0.143188</td>\n",
       "      <td>-0.083888</td>\n",
       "    </tr>\n",
       "    <tr>\n",
       "      <th>amc rebel sst</th>\n",
       "      <td>3.020337</td>\n",
       "      <td>0.789743</td>\n",
       "      <td>0.661786</td>\n",
       "      <td>-0.571355</td>\n",
       "      <td>-0.319349</td>\n",
       "      <td>0.528048</td>\n",
       "      <td>-0.229069</td>\n",
       "      <td>0.292331</td>\n",
       "      <td>-0.147325</td>\n",
       "    </tr>\n",
       "    <tr>\n",
       "      <th>ford torino</th>\n",
       "      <td>3.007717</td>\n",
       "      <td>0.965885</td>\n",
       "      <td>0.517871</td>\n",
       "      <td>-0.996022</td>\n",
       "      <td>-0.358667</td>\n",
       "      <td>0.575475</td>\n",
       "      <td>-0.469787</td>\n",
       "      <td>-0.001799</td>\n",
       "      <td>-0.174247</td>\n",
       "    </tr>\n",
       "  </tbody>\n",
       "</table>\n",
       "</div>"
      ],
      "text/plain": [
       "                                PC1       PC2       PC3       PC4       PC5  \\\n",
       "name                                                                          \n",
       "chevrolet chevelle malibu  2.768102  0.653669  0.661643 -0.585333 -0.382837   \n",
       "buick skylark 320          3.561796  0.961842  0.474659 -0.511149 -0.199102   \n",
       "plymouth satellite         3.070489  0.942217  0.473735 -0.870489 -0.313946   \n",
       "amc rebel sst              3.020337  0.789743  0.661786 -0.571355 -0.319349   \n",
       "ford torino                3.007717  0.965885  0.517871 -0.996022 -0.358667   \n",
       "\n",
       "                                PC6       PC7       PC8       PC9  \n",
       "name                                                               \n",
       "chevrolet chevelle malibu  0.750140 -0.468860 -0.095520 -0.120586  \n",
       "buick skylark 320          0.489416  0.009370  0.213293  0.073620  \n",
       "plymouth satellite         0.723960 -0.214271  0.143188 -0.083888  \n",
       "amc rebel sst              0.528048 -0.229069  0.292331 -0.147325  \n",
       "ford torino                0.575475 -0.469787 -0.001799 -0.174247  "
      ]
     },
     "execution_count": 147,
     "metadata": {},
     "output_type": "execute_result"
    }
   ],
   "source": [
    "df_pca.head()"
   ]
  },
  {
   "cell_type": "markdown",
   "metadata": {},
   "source": [
    "### Visualize Components & Clusters"
   ]
  },
  {
   "cell_type": "markdown",
   "metadata": {},
   "source": [
    "- A **scatterplot** with `PC1` & `PC2`\n",
    "- Colour points by cluster\n",
    "- Are they **mixed** now?"
   ]
  },
  {
   "cell_type": "code",
   "execution_count": 148,
   "metadata": {},
   "outputs": [],
   "source": [
    "import plotly.express as px"
   ]
  },
  {
   "cell_type": "code",
   "execution_count": 149,
   "metadata": {},
   "outputs": [
    {
     "data": {
      "application/vnd.plotly.v1+json": {
       "config": {
        "plotlyServerURL": "https://plot.ly"
       },
       "data": [
        {
         "hovertemplate": "<b>%{hovertext}</b><br><br>color=2<br>PC1=%{x}<br>PC2=%{y}<extra></extra>",
         "hovertext": [
          "chevrolet chevelle malibu",
          "buick skylark 320",
          "plymouth satellite",
          "amc rebel sst",
          "ford torino",
          "ford galaxie 500",
          "chevrolet impala",
          "plymouth fury iii",
          "pontiac catalina",
          "amc ambassador dpl",
          "dodge challenger se",
          "plymouth 'cuda 340",
          "chevrolet monte carlo",
          "buick estate wagon (sw)",
          "ford f250",
          "chevy c20",
          "dodge d200",
          "hi 1200d",
          "chevrolet impala",
          "pontiac catalina brougham",
          "ford galaxie 500",
          "plymouth fury iii",
          "dodge monaco (sw)",
          "ford country squire (sw)",
          "pontiac safari (sw)",
          "chevrolet impala",
          "pontiac catalina",
          "plymouth fury iii",
          "ford galaxie 500",
          "amc ambassador sst",
          "mercury marquis",
          "buick lesabre custom",
          "oldsmobile delta 88 royale",
          "chrysler newport royal",
          "amc matador (sw)",
          "chevrolet chevelle concours (sw)",
          "ford gran torino (sw)",
          "plymouth satellite custom (sw)",
          "buick century 350",
          "amc matador",
          "chevrolet malibu",
          "ford gran torino",
          "dodge coronet custom",
          "mercury marquis brougham",
          "chevrolet caprice classic",
          "ford ltd",
          "plymouth fury gran sedan",
          "chrysler new yorker brougham",
          "buick electra 225 custom",
          "amc ambassador brougham",
          "chevrolet impala",
          "ford country",
          "plymouth custom suburb",
          "oldsmobile vista cruiser",
          "chevrolet monte carlo s",
          "pontiac grand prix",
          "dodge dart custom",
          "oldsmobile omega",
          "ford gran torino",
          "buick century luxus (sw)",
          "dodge coronet custom (sw)",
          "ford gran torino (sw)",
          "amc matador (sw)",
          "pontiac catalina",
          "chevrolet bel air",
          "plymouth grand fury",
          "ford ltd",
          "chevrolet monza 2+2",
          "ford mustang ii",
          "chevrolet chevelle malibu classic",
          "dodge coronet brougham",
          "amc matador",
          "ford gran torino",
          "plymouth volare premier v8",
          "cadillac seville",
          "chevy c10",
          "ford f108",
          "dodge d100",
          "chevrolet caprice classic",
          "dodge monaco brougham",
          "mercury cougar brougham",
          "pontiac grand prix lj",
          "chevrolet monte carlo landau",
          "chrysler cordoba",
          "ford thunderbird",
          "dodge diplomat",
          "mercury monarch ghia",
          "chevrolet monte carlo landau",
          "buick regal sport coupe (turbo)",
          "ford futura",
          "dodge magnum xe",
          "chevrolet caprice classic",
          "ford ltd landau",
          "mercury grand marquis",
          "dodge st. regis",
          "buick estate wagon (sw)",
          "ford country squire (sw)",
          "chevrolet malibu classic (sw)",
          "chrysler lebaron town @ country (sw)",
          "cadillac eldorado"
         ],
         "legendgroup": "2",
         "marker": {
          "color": "#636efa",
          "symbol": "circle"
         },
         "mode": "markers",
         "name": "2",
         "orientation": "v",
         "showlegend": true,
         "type": "scatter",
         "x": [
          2.7681015408711955,
          3.56179561211379,
          3.070488709648946,
          3.020336929873964,
          3.0077171090836745,
          4.632490431458015,
          5.094469429700944,
          5.016170883199184,
          5.090410338149975,
          4.311461998206057,
          3.815943006597266,
          3.7997906445666954,
          3.817831087801163,
          4.474529595624322,
          4.53918410921465,
          3.9829985413493456,
          4.216507495361385,
          3.79567175564488,
          3.7469755307411186,
          4.203465298813926,
          3.4693032930810928,
          3.330087048340598,
          4.509687361981959,
          4.2858077453444485,
          4.5171236466816005,
          3.770056782051475,
          4.066901911248672,
          3.1997288007521276,
          3.4482602630809294,
          3.0177670685735385,
          4.8588089689217355,
          3.6387158952704883,
          3.7157209067479133,
          4.236928551522717,
          3.124413860993699,
          2.990526928281096,
          2.9801321348754573,
          3.1757796318058906,
          3.6446429006767413,
          3.1070904723215778,
          3.2925678303444665,
          2.8672362574814447,
          3.0708618813424025,
          4.757051654295554,
          3.8459558539097793,
          3.5991673731083695,
          3.149145667290398,
          4.86743840278331,
          5.173147058401884,
          3.7364153432611436,
          4.005886047171804,
          4.222301906026264,
          3.8880996463395467,
          3.9716695923375522,
          3.2396643945111485,
          4.64439544494527,
          3.0330227307451003,
          3.771700304215895,
          2.8371444666867793,
          3.4787800717914092,
          3.286133168478003,
          2.9805162531295926,
          2.958548083744805,
          3.9315216169370175,
          3.2038747837893307,
          3.0632838207807236,
          3.4310256548138875,
          1.7566640632710429,
          2.5505510377939395,
          2.791608842396015,
          3.00275606228804,
          2.485518030835943,
          3.2523574799124373,
          3.013839490368152,
          3.5722380568002956,
          3.2494110824627294,
          2.556064930534058,
          2.8562014796781856,
          2.6780728692684352,
          2.8353363230094213,
          2.6095896109782646,
          3.7521501976652263,
          3.4298229470206048,
          3.8249160234149127,
          2.9963455292088734,
          2.4019451841723463,
          2.251875846060635,
          2.268711187642098,
          1.7874147479698723,
          2.3300306345359965,
          2.6066208545898424,
          2.1606784576243663,
          2.2386682110746827,
          2.695438735406615,
          2.2169802029298316,
          2.874776174976425,
          2.729367640272802,
          1.7858239323350569,
          2.765621824280496,
          1.842704845674252
         ],
         "xaxis": "x",
         "y": [
          0.6536686698172093,
          0.9618424410466512,
          0.9422170408259082,
          0.7897426311564694,
          0.9658848801234102,
          1.385631719999814,
          1.6903140188207046,
          1.741291309491739,
          1.5548599921028214,
          1.598964465108217,
          1.2468001591473186,
          1.508802472872219,
          1.19969657088571,
          1.6192235455454065,
          0.8454218116774037,
          0.5960032585264778,
          0.8956975398278169,
          -0.026758099262877148,
          0.7674314988142187,
          0.9041029397038345,
          0.4537395827492977,
          0.5149241805420599,
          0.9202583268148069,
          0.7849191070376162,
          0.7962886945067532,
          0.6759449061474152,
          0.7323671916642891,
          0.33159087568377693,
          0.44189916782822763,
          0.664999039787268,
          1.1048484639522391,
          0.36063172471550825,
          0.399076885589277,
          0.7461942188215548,
          0.5037839493161864,
          0.14118617392479504,
          -0.1333068550883005,
          0.2590588173626157,
          0.4881471950506495,
          0.5884878687200882,
          0.3116796908835479,
          0.004144671501016784,
          0.41700274213847244,
          0.8474389601999827,
          0.48866500666293583,
          0.3725975468908908,
          0.07583472781987526,
          1.0377934014973884,
          1.0960730681762727,
          0.8279535841508692,
          0.14991348963541812,
          0.495147752958943,
          0.4326220505001572,
          0.5864474419466877,
          0.2953102864237035,
          1.3709932540772922,
          0.6789091257072588,
          0.8762465612864415,
          -0.007322082903606294,
          -0.030212571325996078,
          0.13346307381914563,
          -0.34434313844947084,
          -0.18388386867439444,
          0.47498693921648905,
          -0.072964490892411,
          -0.137137369087471,
          0.0221021155470871,
          -0.1873474670233367,
          0.22119249727540732,
          -0.04542764554521349,
          0.02711659131318399,
          -0.28903272661515955,
          0.08408849515691762,
          0.024411945754208415,
          0.3476363789560629,
          0.18808722427222985,
          -0.3882024408153345,
          -0.09668822523783964,
          -0.012058337355936626,
          -0.2058571273586719,
          -0.49852101165119733,
          0.4335597612536113,
          0.3227355948485528,
          0.31335225240818537,
          -0.3192754389696698,
          -0.2528494926443586,
          -0.19298511612063807,
          -0.20829191232438818,
          -0.146306607376654,
          0.096989007234508,
          -0.33942016611914505,
          -0.7578976865132768,
          -0.43742874992661945,
          -0.34798790138248525,
          -0.6998836165203445,
          -0.5431528659134572,
          -0.5013144880885357,
          -0.7303202057284286,
          -0.2526072473687307,
          -1.1452656197464428
         ],
         "yaxis": "y"
        },
        {
         "hovertemplate": "<b>%{hovertext}</b><br><br>color=1<br>PC1=%{x}<br>PC2=%{y}<extra></extra>",
         "hovertext": [
          "toyota corona mark ii",
          "datsun pl510",
          "volkswagen 1131 deluxe sedan",
          "peugeot 504",
          "audi 100 ls",
          "saab 99e",
          "bmw 2002",
          "datsun pl510",
          "toyota corona",
          "opel 1900",
          "peugeot 304",
          "fiat 124b",
          "toyota corolla 1200",
          "datsun 1200",
          "volkswagen model 111",
          "toyota corona hardtop",
          "volkswagen type 3",
          "mazda rx2 coupe",
          "volvo 145e (sw)",
          "volkswagen 411 (sw)",
          "peugeot 504 (sw)",
          "renault 12 (sw)",
          "datsun 510 (sw)",
          "toyouta corona mark ii (sw)",
          "toyota corolla 1600 (sw)",
          "volkswagen super beetle",
          "toyota carina",
          "datsun 610",
          "maxda rx3",
          "fiat 124 sport coupe",
          "fiat 128",
          "opel manta",
          "audi 100ls",
          "volvo 144ea",
          "saab 99le",
          "toyota mark ii",
          "datsun b210",
          "toyota corolla 1200",
          "audi fox",
          "volkswagen dasher",
          "opel manta",
          "toyota corona",
          "datsun 710",
          "fiat 128",
          "fiat 124 tc",
          "honda civic",
          "subaru",
          "fiat x1.9",
          "toyota corolla",
          "toyota corona",
          "volkswagen dasher",
          "datsun 710",
          "volkswagen rabbit",
          "audi 100ls",
          "peugeot 504",
          "volvo 244dl",
          "saab 99le",
          "honda civic cvcc",
          "fiat 131",
          "opel 1900",
          "renault 12tl",
          "vw rabbit",
          "honda civic",
          "volkswagen rabbit",
          "datsun b-210",
          "toyota corolla",
          "volvo 245",
          "toyota mark ii",
          "honda accord cvcc",
          "renault 5 gtl",
          "datsun f-10 hatchback",
          "volkswagen rabbit custom",
          "toyota corolla liftback",
          "subaru dl",
          "volkswagen dasher",
          "datsun 810",
          "bmw 320i",
          "mazda rx-4",
          "volkswagen rabbit custom diesel",
          "mazda glc deluxe",
          "datsun b210 gx",
          "honda civic cvcc",
          "toyota corona",
          "datsun 510",
          "toyota celica gt liftback",
          "datsun 200-sx",
          "saab 99gle",
          "volkswagen scirocco",
          "honda accord lx",
          "vw rabbit custom",
          "maxda glc deluxe",
          "peugeot 504",
          "datsun 210",
          "fiat strada custom",
          "vw rabbit",
          "toyota corolla tercel",
          "datsun 310",
          "audi 4000",
          "toyota corona liftback",
          "mazda 626",
          "datsun 510 hatchback",
          "toyota corolla",
          "mazda glc",
          "datsun 210",
          "vw rabbit c (diesel)",
          "vw dasher (diesel)",
          "audi 5000s (diesel)",
          "mercedes-benz 240d",
          "honda civic 1500 gl",
          "subaru dl",
          "vokswagen rabbit",
          "datsun 280-zx",
          "mazda rx-7 gs",
          "triumph tr7 coupe",
          "honda accord",
          "toyota starlet",
          "honda civic 1300",
          "subaru",
          "datsun 210 mpg",
          "toyota tercel",
          "mazda glc 4",
          "volkswagen jetta",
          "honda prelude",
          "toyota corolla",
          "datsun 200sx",
          "mazda 626",
          "peugeot 505s turbo diesel",
          "volvo diesel",
          "toyota cressida",
          "datsun 810 maxima",
          "volkswagen rabbit l",
          "mazda glc custom l",
          "mazda glc custom",
          "nissan stanza xe",
          "honda accord",
          "toyota corolla",
          "honda civic",
          "honda civic (auto)",
          "datsun 310 gx",
          "toyota celica gt",
          "vw pickup"
         ],
         "legendgroup": "1",
         "marker": {
          "color": "#EF553B",
          "symbol": "circle"
         },
         "mode": "markers",
         "name": "1",
         "orientation": "v",
         "showlegend": true,
         "type": "scatter",
         "x": [
          -1.5117090900327224,
          -1.853991954600449,
          -2.3371052062836335,
          -1.1708840167191024,
          -0.9436398046030898,
          -1.2505822929287733,
          -0.6639071167898434,
          -1.908877464644297,
          -1.5902151179477673,
          -1.251807765724924,
          -2.2129313575175025,
          -1.6686840764773176,
          -3.00457189626777,
          -3.135812489521799,
          -2.1642348431144685,
          -1.710057323816496,
          -2.3018447569371925,
          -1.6400477727138805,
          -0.25899612992853727,
          -1.3234376539824444,
          -1.0898009652878262,
          -1.8307891304318469,
          -2.1257918030002956,
          -1.4192834730357575,
          -2.158927141710039,
          -2.494208199410836,
          -2.0216999762290975,
          -1.7424167430361015,
          -1.8117452012346877,
          -1.4058721965382135,
          -2.622843658548153,
          -1.4395059174676494,
          -0.7636302480116384,
          -0.48253114866286534,
          -0.7025633473933527,
          -0.25271862326126954,
          -3.0367912438032882,
          -3.3696863470688756,
          -1.7869380049213195,
          -1.9036894369634672,
          -1.478073979005518,
          -3.1104314483765876,
          -3.1051013923247304,
          -1.6180991767383162,
          -1.4140304768102703,
          -1.630284752386848,
          -1.90339725608961,
          -2.17236063772056,
          -2.471967394462308,
          -1.4069657942440772,
          -1.7989168316292197,
          -1.8446516954605479,
          -1.906054525637935,
          -1.012829755461247,
          -1.1239902617662987,
          -0.7506730887270671,
          -0.7599097807329928,
          -3.216864874146908,
          -1.5803503388483444,
          -1.6905586702330213,
          -1.6879493197806328,
          -1.9790765851490382,
          -3.262682109457127,
          -1.8361280647836742,
          -2.941571414204024,
          -2.5224156574296868,
          -0.6490118810553878,
          -0.6343577993866387,
          -3.052831014450534,
          -2.9838007640191493,
          -3.071122840200573,
          -1.9525234911210585,
          -2.5937957048699842,
          -2.831782260486328,
          -1.8733659128379705,
          -0.9446043305140477,
          -0.7207093406373265,
          -1.6862893981364542,
          -3.6269463662439354,
          -3.517186753637528,
          -3.515353691118169,
          -3.358355808126502,
          -1.8786763636182604,
          -2.0672499056163005,
          -1.646138337788015,
          -1.878461296689782,
          -0.9035970736629225,
          -2.2419767612277774,
          -2.797884011646173,
          -2.2643727772648035,
          -3.0970644526989775,
          -2.234555208869523,
          -3.3324107263556937,
          -2.505426232479254,
          -2.658519947927431,
          -3.7123790526783482,
          -3.3895470843522695,
          -2.37576764906753,
          -2.197535142807659,
          -2.7332460697898457,
          -2.663767469613767,
          -2.74182768732579,
          -3.9355698291115897,
          -3.778526960727174,
          -3.766541926817833,
          -3.7896558111082976,
          -2.2861687926791587,
          -2.145097488283882,
          -3.5478151473592194,
          -3.25060289129581,
          -2.4631640868581557,
          -0.8629241876038108,
          -2.1429243842648438,
          -2.005409102516997,
          -2.9371011292583065,
          -3.799779490281284,
          -3.504870706686395,
          -3.2520438545747052,
          -3.730978421673928,
          -3.5542588803310124,
          -3.2253588101360724,
          -2.231237312217604,
          -2.825442482446429,
          -2.912323282370668,
          -2.3400295843284877,
          -2.8423414523620987,
          -1.8800185769476283,
          -1.5310304021608667,
          -0.8406188760179011,
          -0.9230973863763247,
          -2.626673464568639,
          -3.6007500845194262,
          -3.2832201745076826,
          -2.842356562403248,
          -3.002256213189241,
          -3.151577178875636,
          -3.3962509432358163,
          -3.1713110387874357,
          -3.491271567690005,
          -2.1902783287340073,
          -4.03698512349238
         ],
         "xaxis": "x",
         "y": [
          2.4471909246719763,
          2.4775993611600193,
          -0.24500642607878612,
          0.4585260711910405,
          0.981318320099798,
          0.5204480644827144,
          1.445268585918117,
          2.3833117242062127,
          2.5163906703568597,
          0.9606031680114568,
          -0.06905627550621944,
          0.7814736347329223,
          1.5024668600328186,
          1.6733350185849472,
          -0.016571069624202385,
          2.181888565295979,
          -0.8749253158047562,
          2.527935225539338,
          0.9394536711871743,
          0.1490965874812342,
          -0.04467302791601694,
          0.0949075568872019,
          1.8935230537163381,
          2.3524581840441945,
          1.9654840878052076,
          -0.6146427126770734,
          1.4978430688673696,
          1.925337638064025,
          2.4070432245337487,
          0.5307727526886307,
          -0.3706063088715195,
          0.4593853364457412,
          0.8031474722603428,
          0.6798739646054105,
          0.891857870559124,
          2.604819160844082,
          1.2243498672423423,
          0.8856681022677221,
          0.21599683190812768,
          0.30889734286910986,
          0.524411956931058,
          1.5536964516806646,
          1.1800718271176742,
          0.36382663718414987,
          0.5927532432904646,
          2.0775290712035646,
          1.96320054603812,
          0.1962458571981112,
          1.6698006875200235,
          2.212656269800779,
          0.07134780157945286,
          1.655426228402839,
          0.46155926011691145,
          0.4533091969904486,
          0.07395985695965465,
          0.5474481096650254,
          0.8083823955920563,
          1.2862304277594803,
          0.20351837217316132,
          -0.023500505318287457,
          0.235502906614398,
          0.3347734180949141,
          1.2081918933397693,
          0.6692273711638238,
          1.371941493780452,
          1.5172112230505574,
          0.2856869601459223,
          1.9121234022159719,
          1.0239501322414988,
          -0.5848645457913623,
          1.3034269058035892,
          0.2410771949995401,
          1.1370031965468441,
          1.370750589273021,
          0.28516827857002003,
          1.8999861664070423,
          0.7273943771946543,
          2.103152085330056,
          -1.2592005313250325,
          0.6787877294030364,
          0.8756864935144044,
          1.2059302259768172,
          1.7960744347735909,
          1.739107863963351,
          1.7386660236458864,
          1.721116592048962,
          0.18222541188190958,
          0.02101346023857294,
          1.2459202669891254,
          0.0737219949819488,
          1.3396727272046816,
          -1.7067888138103406,
          0.7010328466416604,
          -0.09371413654340487,
          -0.17014056180083142,
          0.6071673746916819,
          1.0299118366146398,
          -0.29635009541176843,
          1.345065352509942,
          0.9264144764088771,
          1.4069658046904272,
          1.3064299203383118,
          0.7261014834131555,
          0.5490896583238423,
          -1.492191434104522,
          -1.8238576386430316,
          -1.062812194993,
          -1.3566190360184744,
          1.4294934837113977,
          0.7976942411578902,
          -0.27007032746823817,
          2.2681450755834907,
          1.9221343212009978,
          -0.13760134367887714,
          0.9932328252320072,
          0.8123890882804241,
          0.9782495843906726,
          0.7486385121748165,
          0.45130990364777,
          0.7671682752999834,
          1.0395156964581544,
          -0.14616130541775796,
          1.3357493051173754,
          0.9468857332815227,
          1.409264143629786,
          0.6898243083623739,
          -1.1331039023303484,
          -1.0146147579305849,
          1.9256176724975569,
          1.7574346225649176,
          -0.42687117749026693,
          0.5686411517508942,
          0.7043324593256894,
          1.2946267712714048,
          1.2118242836555113,
          0.8016068642905708,
          1.0795093412788275,
          1.0013185553134125,
          0.8830780596349715,
          1.4434342837483924,
          -2.1271400067947868
         ],
         "yaxis": "y"
        },
        {
         "hovertemplate": "<b>%{hovertext}</b><br><br>color=0<br>PC1=%{x}<br>PC2=%{y}<extra></extra>",
         "hovertext": [
          "plymouth duster",
          "amc hornet",
          "ford maverick",
          "amc gremlin",
          "chevrolet vega 2300",
          "amc gremlin",
          "plymouth satellite custom",
          "chevrolet chevelle malibu",
          "ford torino 500",
          "amc matador",
          "amc hornet sportabout (sw)",
          "chevrolet vega (sw)",
          "pontiac firebird",
          "ford mustang",
          "mercury capri 2000",
          "plymouth cricket",
          "dodge colt hardtop",
          "chevrolet vega",
          "ford pinto runabout",
          "ford pinto (sw)",
          "dodge colt (sw)",
          "plymouth valiant",
          "chevrolet nova custom",
          "amc hornet",
          "ford maverick",
          "plymouth duster",
          "amc gremlin",
          "chevrolet vega",
          "ford pinto",
          "mercury capri v6",
          "plymouth duster",
          "amc hornet",
          "chevrolet nova",
          "ford pinto",
          "chevrolet vega",
          "chevrolet chevelle malibu classic",
          "amc matador",
          "plymouth satellite sebring",
          "dodge colt",
          "plymouth valiant custom",
          "chevrolet nova",
          "mercury monarch",
          "ford maverick",
          "buick century",
          "chevroelt chevelle malibu",
          "amc matador",
          "plymouth fury",
          "buick skyhawk",
          "ford pinto",
          "amc gremlin",
          "pontiac astro",
          "ford pinto",
          "amc pacer",
          "capri ii",
          "dodge colt",
          "plymouth valiant",
          "chevrolet nova",
          "ford maverick",
          "amc hornet",
          "chevrolet chevette",
          "chevrolet woody",
          "dodge aspen se",
          "ford granada ghia",
          "pontiac ventura sj",
          "amc pacer d/l",
          "ford pinto",
          "peugeot 504",
          "mercedes-benz 280s",
          "buick opel isuzu deluxe",
          "plymouth arrow gs",
          "oldsmobile cutlass supreme",
          "chevrolet concours",
          "buick skylark",
          "plymouth volare custom",
          "ford granada",
          "pontiac sunbird coupe",
          "ford mustang ii 2+2",
          "chevrolet chevette",
          "dodge colt m/m",
          "ford fiesta",
          "oldsmobile cutlass salon brougham",
          "pontiac phoenix lj",
          "chevrolet malibu",
          "ford fairmont (auto)",
          "ford fairmont (man)",
          "plymouth volare",
          "amc concord",
          "buick century special",
          "mercury zephyr",
          "dodge aspen",
          "amc concord d/l",
          "chevrolet chevette",
          "dodge omni",
          "plymouth sapporo",
          "oldsmobile starfire sx",
          "audi 5000",
          "volvo 264gl",
          "peugeot 604sl",
          "pontiac lemans v6",
          "mercury zephyr 6",
          "ford fairmont 4",
          "amc concord dl 6",
          "dodge aspen 6",
          "dodge colt hatchback custom",
          "amc spirit dl",
          "mercedes benz 300d",
          "oldsmobile cutlass salon brougham",
          "plymouth horizon",
          "plymouth horizon tc3",
          "buick skylark limited",
          "chevrolet citation",
          "oldsmobile omega brougham",
          "pontiac phoenix",
          "chevrolet chevette",
          "chevrolet citation",
          "ford fairmont",
          "amc concord",
          "dodge aspen",
          "dodge colt",
          "plymouth reliant",
          "buick skylark",
          "dodge aries wagon (sw)",
          "chevrolet citation",
          "plymouth reliant",
          "plymouth champ",
          "plymouth horizon 4",
          "ford escort 4w",
          "ford escort 2h",
          "buick century",
          "oldsmobile cutlass ls",
          "ford granada gl",
          "chrysler lebaron salon",
          "chevrolet cavalier",
          "chevrolet cavalier wagon",
          "chevrolet cavalier 2-door",
          "pontiac j2000 se hatchback",
          "dodge aries se",
          "pontiac phoenix",
          "ford fairmont futura",
          "plymouth horizon miser",
          "mercury lynx l",
          "buick century limited",
          "oldsmobile cutlass ciera (diesel)",
          "chrysler lebaron medallion",
          "ford granada l",
          "dodge charger 2.2",
          "chevrolet camaro",
          "ford mustang gl",
          "dodge rampage",
          "ford ranger",
          "chevy s-10"
         ],
         "legendgroup": "0",
         "marker": {
          "color": "#00cc96",
          "symbol": "circle"
         },
         "mode": "markers",
         "name": "0",
         "orientation": "v",
         "showlegend": true,
         "type": "scatter",
         "x": [
          0.7187417879547204,
          0.9077937459259184,
          0.5158811834731739,
          0.6808411089928273,
          -0.6192311584276681,
          1.1250318471951022,
          1.4357773846369286,
          1.3838557788447636,
          1.155073687111206,
          1.2472056740007078,
          1.4795222334198956,
          -0.7623053353808534,
          1.3114399566376738,
          1.2188532859466834,
          -0.3728938521711018,
          -1.5088048394367781,
          -0.9942144973557248,
          -0.5860569270947439,
          -0.555587220224513,
          -0.480582963585708,
          -0.9376428681278556,
          0.9929184144486689,
          1.0719897853531248,
          0.9343284597173918,
          0.8734419932790223,
          0.4933311041178536,
          0.9532581108370868,
          -0.8725677814209053,
          -0.6670813340646531,
          0.5258002203078564,
          0.6283843717034149,
          0.8111352589638792,
          1.1825340937849107,
          -0.8623283927242302,
          -0.7981152121151966,
          1.3391447623695283,
          1.3111029652716837,
          1.1643311309340376,
          -1.1010918070259363,
          0.8460061259987715,
          1.1807903117335443,
          0.5285506541454414,
          0.5385469010258606,
          0.9580039831033639,
          1.2516833355545123,
          1.2586800088300414,
          0.8616644650541542,
          0.9105803287575275,
          -0.6320963985296514,
          0.7141595356741176,
          -0.8398317773638233,
          0.7121827673582898,
          0.7079666068953845,
          -0.5333364418736909,
          -1.2740517450200861,
          0.7371560602862697,
          1.0208950620039174,
          0.052673335043212775,
          0.37247329182533145,
          -2.2483822909146065,
          -1.8331620328967573,
          0.8169865186749321,
          0.4548819514755408,
          1.2193785396388381,
          0.7951634522625568,
          -0.6911463687104751,
          -1.2869765338572423,
          0.522447720162668,
          -1.2438577654569436,
          -0.8214219930353521,
          1.6705027965101802,
          1.1369316499361037,
          0.7799964874419738,
          0.8005115759171734,
          0.7351626368981561,
          -0.5841321992816307,
          -0.6397553448439856,
          -1.7359023556024227,
          -1.5689479581817787,
          -1.909595584283501,
          1.4739357093847067,
          0.6296263197820983,
          0.2627714167270257,
          0.30725263453586404,
          -0.665257019418462,
          0.6268718336499034,
          0.5054857163793562,
          0.7993570271509522,
          0.2450917323975372,
          0.7697582918910968,
          1.2516711529636133,
          -1.6234829377193096,
          -1.353638542836349,
          -0.4480206754721148,
          -0.7276224505290728,
          -0.6955336689261932,
          0.38771452870243645,
          0.431005586556476,
          0.7755745919635841,
          0.06545527968165789,
          -0.6796522865491987,
          0.3467593146285239,
          0.6895787816978683,
          -1.7520969825984105,
          -0.9711724669678108,
          -1.1135382824302185,
          0.4441214551759376,
          -1.5131582966792432,
          -1.704737645779006,
          -0.8935343743209295,
          0.27283358050069856,
          0.27217581384661405,
          -0.9372127901530655,
          -1.7395785660729677,
          -0.9708537569008393,
          -1.0133686248772076,
          -0.9699683698502284,
          0.3256496785251719,
          -0.549851108986538,
          -1.1232964053831664,
          -1.029263601521182,
          -0.7168250917931694,
          0.30964497893954024,
          -1.0522750522700541,
          -2.427041734252263,
          -1.8643561429713555,
          -2.0530921851818,
          -2.090766002939553,
          0.6143669376342978,
          1.1339251266639336,
          0.09846033132955241,
          0.5218453395458169,
          -1.5664203412075774,
          -1.4115695048664398,
          -1.8063364794987067,
          -1.4461625890949414,
          -1.275813636828797,
          -1.1423617825985692,
          -0.8158369519319848,
          -2.1011309257670505,
          -2.197750340570522,
          -0.029761483374331665,
          -0.6135959456427837,
          -0.8064912552310035,
          0.4355967679477059,
          -1.4115460008059744,
          -0.9799933742928884,
          -0.9821083541071534,
          -1.1268082836860291,
          -1.5257188064315697,
          -1.672595579706159
         ],
         "xaxis": "x",
         "y": [
          -0.15828156352214642,
          -0.11947883791082828,
          -0.28211116908869427,
          -0.09238511376686459,
          -0.3234959985966579,
          0.21611405288568195,
          -0.1817128423813278,
          -0.20912618199584818,
          -0.29241977798636826,
          -0.21562473875452146,
          0.18931913708022027,
          -0.9726941987093702,
          -0.13747243298207532,
          -0.11616811897461048,
          -0.0748077020618441,
          -1.2374061118834636,
          -0.7037336892581542,
          -1.02726567380989,
          -0.5637603353572282,
          -0.49656386660449625,
          -0.3982840395967299,
          -0.5293443757997133,
          -0.7955520435279646,
          -0.46895807288241975,
          -0.6240533753742707,
          -0.5317283302717332,
          -0.2989683811209696,
          -1.2362530180371523,
          -0.9812784945960503,
          -0.10746632603088588,
          -0.6990025521584807,
          -0.5670561899875258,
          -0.7242111322323808,
          -0.8291486690915529,
          -0.9366075707462116,
          -0.7515270475094645,
          -0.8451082214662816,
          -0.6472816530027743,
          -0.535178270795479,
          -0.7100904572545184,
          -0.6493880927758361,
          -1.6428051858037673,
          -1.3858979131819784,
          -1.4498290332825283,
          -1.064818626897247,
          -1.100672095832222,
          -1.2166816677579824,
          -0.45686148669467375,
          -0.9752132195384924,
          -0.6678942044385823,
          -1.246999070967215,
          -0.44247748940128273,
          -0.8993531024109707,
          -0.6823447508101846,
          -1.2127453060570714,
          -0.692861298262841,
          -0.5185458985377347,
          -1.170274978016757,
          -1.10581794958463,
          -2.116659630005287,
          -2.0296157652050177,
          -1.0748322598262539,
          -1.7253247653998258,
          -0.75776886974914,
          -1.0798970879027618,
          -0.6008922802621719,
          -0.8078772508648088,
          0.2504297519066319,
          -0.8468051406687573,
          -0.8423121992908578,
          -1.2924589330040817,
          -0.8726206763309673,
          -1.0000698840072761,
          -1.162184972286887,
          -1.3740036375627853,
          -0.9831774917246014,
          -0.9528186836280252,
          -1.307135262164795,
          -1.0260911330907927,
          -0.9818786913457412,
          -0.8018043780174889,
          -1.4656712652216797,
          -1.3576155588286554,
          -1.0173435143052079,
          -0.9841190272904043,
          -1.1745016546154585,
          -1.2170363454176405,
          -0.9140468650968545,
          -1.1721879096108794,
          -1.3554957013485205,
          -0.6921900887398441,
          -1.2919052260623465,
          -0.9324400220526792,
          -1.0799904302418937,
          -1.3570159064611158,
          0.09653040860969746,
          0.624902302945569,
          0.3076776202155121,
          -0.8815647470873952,
          -1.500441125988014,
          -1.3787198678945336,
          -1.4811991592124714,
          -1.1079053849765814,
          -0.9944601202630446,
          -1.0758143001365157,
          -0.8943427673573792,
          -2.1323617079415103,
          -0.8639099143221598,
          -1.1395188852659277,
          -1.1793739742631693,
          -0.2355600859874475,
          -0.4887419285967115,
          -0.749139300623861,
          -1.3166271968351457,
          -1.352921475431825,
          -1.6263334610096865,
          -1.9315870804417883,
          -1.6567794861407241,
          -0.9253299030179952,
          -1.3420704983243872,
          -1.4569676180900293,
          -1.077323876690575,
          -0.6405260188073442,
          -0.8986398162090777,
          -1.6243320231295206,
          -1.3748356390668601,
          -1.5649905743055943,
          -2.2856383949642196,
          -1.1789495215790748,
          -1.7279804358010706,
          -1.4978261374754496,
          -1.435294007410739,
          -2.059345068914391,
          -1.8926109480517233,
          -1.824818001499142,
          -1.5413951136180624,
          -1.497453715519618,
          -1.782047696067945,
          -1.499965655641253,
          -1.4518530297236327,
          -1.8210360638815435,
          -1.3706122178395685,
          -1.688598184847975,
          -1.1873633207970893,
          -1.0519824410009897,
          -1.0440084618528775,
          -1.678638678844703,
          -1.4205144055903436,
          -0.789213943773262,
          -1.951240150147849,
          -2.0855321418663704
         ],
         "yaxis": "y"
        }
       ],
       "layout": {
        "autosize": true,
        "legend": {
         "title": {
          "text": "color"
         },
         "tracegroupgap": 0
        },
        "margin": {
         "t": 60
        },
        "template": {
         "data": {
          "bar": [
           {
            "error_x": {
             "color": "#2a3f5f"
            },
            "error_y": {
             "color": "#2a3f5f"
            },
            "marker": {
             "line": {
              "color": "#E5ECF6",
              "width": 0.5
             },
             "pattern": {
              "fillmode": "overlay",
              "size": 10,
              "solidity": 0.2
             }
            },
            "type": "bar"
           }
          ],
          "barpolar": [
           {
            "marker": {
             "line": {
              "color": "#E5ECF6",
              "width": 0.5
             },
             "pattern": {
              "fillmode": "overlay",
              "size": 10,
              "solidity": 0.2
             }
            },
            "type": "barpolar"
           }
          ],
          "carpet": [
           {
            "aaxis": {
             "endlinecolor": "#2a3f5f",
             "gridcolor": "white",
             "linecolor": "white",
             "minorgridcolor": "white",
             "startlinecolor": "#2a3f5f"
            },
            "baxis": {
             "endlinecolor": "#2a3f5f",
             "gridcolor": "white",
             "linecolor": "white",
             "minorgridcolor": "white",
             "startlinecolor": "#2a3f5f"
            },
            "type": "carpet"
           }
          ],
          "choropleth": [
           {
            "colorbar": {
             "outlinewidth": 0,
             "ticks": ""
            },
            "type": "choropleth"
           }
          ],
          "contour": [
           {
            "colorbar": {
             "outlinewidth": 0,
             "ticks": ""
            },
            "colorscale": [
             [
              0,
              "#0d0887"
             ],
             [
              0.1111111111111111,
              "#46039f"
             ],
             [
              0.2222222222222222,
              "#7201a8"
             ],
             [
              0.3333333333333333,
              "#9c179e"
             ],
             [
              0.4444444444444444,
              "#bd3786"
             ],
             [
              0.5555555555555556,
              "#d8576b"
             ],
             [
              0.6666666666666666,
              "#ed7953"
             ],
             [
              0.7777777777777778,
              "#fb9f3a"
             ],
             [
              0.8888888888888888,
              "#fdca26"
             ],
             [
              1,
              "#f0f921"
             ]
            ],
            "type": "contour"
           }
          ],
          "contourcarpet": [
           {
            "colorbar": {
             "outlinewidth": 0,
             "ticks": ""
            },
            "type": "contourcarpet"
           }
          ],
          "heatmap": [
           {
            "colorbar": {
             "outlinewidth": 0,
             "ticks": ""
            },
            "colorscale": [
             [
              0,
              "#0d0887"
             ],
             [
              0.1111111111111111,
              "#46039f"
             ],
             [
              0.2222222222222222,
              "#7201a8"
             ],
             [
              0.3333333333333333,
              "#9c179e"
             ],
             [
              0.4444444444444444,
              "#bd3786"
             ],
             [
              0.5555555555555556,
              "#d8576b"
             ],
             [
              0.6666666666666666,
              "#ed7953"
             ],
             [
              0.7777777777777778,
              "#fb9f3a"
             ],
             [
              0.8888888888888888,
              "#fdca26"
             ],
             [
              1,
              "#f0f921"
             ]
            ],
            "type": "heatmap"
           }
          ],
          "heatmapgl": [
           {
            "colorbar": {
             "outlinewidth": 0,
             "ticks": ""
            },
            "colorscale": [
             [
              0,
              "#0d0887"
             ],
             [
              0.1111111111111111,
              "#46039f"
             ],
             [
              0.2222222222222222,
              "#7201a8"
             ],
             [
              0.3333333333333333,
              "#9c179e"
             ],
             [
              0.4444444444444444,
              "#bd3786"
             ],
             [
              0.5555555555555556,
              "#d8576b"
             ],
             [
              0.6666666666666666,
              "#ed7953"
             ],
             [
              0.7777777777777778,
              "#fb9f3a"
             ],
             [
              0.8888888888888888,
              "#fdca26"
             ],
             [
              1,
              "#f0f921"
             ]
            ],
            "type": "heatmapgl"
           }
          ],
          "histogram": [
           {
            "marker": {
             "pattern": {
              "fillmode": "overlay",
              "size": 10,
              "solidity": 0.2
             }
            },
            "type": "histogram"
           }
          ],
          "histogram2d": [
           {
            "colorbar": {
             "outlinewidth": 0,
             "ticks": ""
            },
            "colorscale": [
             [
              0,
              "#0d0887"
             ],
             [
              0.1111111111111111,
              "#46039f"
             ],
             [
              0.2222222222222222,
              "#7201a8"
             ],
             [
              0.3333333333333333,
              "#9c179e"
             ],
             [
              0.4444444444444444,
              "#bd3786"
             ],
             [
              0.5555555555555556,
              "#d8576b"
             ],
             [
              0.6666666666666666,
              "#ed7953"
             ],
             [
              0.7777777777777778,
              "#fb9f3a"
             ],
             [
              0.8888888888888888,
              "#fdca26"
             ],
             [
              1,
              "#f0f921"
             ]
            ],
            "type": "histogram2d"
           }
          ],
          "histogram2dcontour": [
           {
            "colorbar": {
             "outlinewidth": 0,
             "ticks": ""
            },
            "colorscale": [
             [
              0,
              "#0d0887"
             ],
             [
              0.1111111111111111,
              "#46039f"
             ],
             [
              0.2222222222222222,
              "#7201a8"
             ],
             [
              0.3333333333333333,
              "#9c179e"
             ],
             [
              0.4444444444444444,
              "#bd3786"
             ],
             [
              0.5555555555555556,
              "#d8576b"
             ],
             [
              0.6666666666666666,
              "#ed7953"
             ],
             [
              0.7777777777777778,
              "#fb9f3a"
             ],
             [
              0.8888888888888888,
              "#fdca26"
             ],
             [
              1,
              "#f0f921"
             ]
            ],
            "type": "histogram2dcontour"
           }
          ],
          "mesh3d": [
           {
            "colorbar": {
             "outlinewidth": 0,
             "ticks": ""
            },
            "type": "mesh3d"
           }
          ],
          "parcoords": [
           {
            "line": {
             "colorbar": {
              "outlinewidth": 0,
              "ticks": ""
             }
            },
            "type": "parcoords"
           }
          ],
          "pie": [
           {
            "automargin": true,
            "type": "pie"
           }
          ],
          "scatter": [
           {
            "fillpattern": {
             "fillmode": "overlay",
             "size": 10,
             "solidity": 0.2
            },
            "type": "scatter"
           }
          ],
          "scatter3d": [
           {
            "line": {
             "colorbar": {
              "outlinewidth": 0,
              "ticks": ""
             }
            },
            "marker": {
             "colorbar": {
              "outlinewidth": 0,
              "ticks": ""
             }
            },
            "type": "scatter3d"
           }
          ],
          "scattercarpet": [
           {
            "marker": {
             "colorbar": {
              "outlinewidth": 0,
              "ticks": ""
             }
            },
            "type": "scattercarpet"
           }
          ],
          "scattergeo": [
           {
            "marker": {
             "colorbar": {
              "outlinewidth": 0,
              "ticks": ""
             }
            },
            "type": "scattergeo"
           }
          ],
          "scattergl": [
           {
            "marker": {
             "colorbar": {
              "outlinewidth": 0,
              "ticks": ""
             }
            },
            "type": "scattergl"
           }
          ],
          "scattermapbox": [
           {
            "marker": {
             "colorbar": {
              "outlinewidth": 0,
              "ticks": ""
             }
            },
            "type": "scattermapbox"
           }
          ],
          "scatterpolar": [
           {
            "marker": {
             "colorbar": {
              "outlinewidth": 0,
              "ticks": ""
             }
            },
            "type": "scatterpolar"
           }
          ],
          "scatterpolargl": [
           {
            "marker": {
             "colorbar": {
              "outlinewidth": 0,
              "ticks": ""
             }
            },
            "type": "scatterpolargl"
           }
          ],
          "scatterternary": [
           {
            "marker": {
             "colorbar": {
              "outlinewidth": 0,
              "ticks": ""
             }
            },
            "type": "scatterternary"
           }
          ],
          "surface": [
           {
            "colorbar": {
             "outlinewidth": 0,
             "ticks": ""
            },
            "colorscale": [
             [
              0,
              "#0d0887"
             ],
             [
              0.1111111111111111,
              "#46039f"
             ],
             [
              0.2222222222222222,
              "#7201a8"
             ],
             [
              0.3333333333333333,
              "#9c179e"
             ],
             [
              0.4444444444444444,
              "#bd3786"
             ],
             [
              0.5555555555555556,
              "#d8576b"
             ],
             [
              0.6666666666666666,
              "#ed7953"
             ],
             [
              0.7777777777777778,
              "#fb9f3a"
             ],
             [
              0.8888888888888888,
              "#fdca26"
             ],
             [
              1,
              "#f0f921"
             ]
            ],
            "type": "surface"
           }
          ],
          "table": [
           {
            "cells": {
             "fill": {
              "color": "#EBF0F8"
             },
             "line": {
              "color": "white"
             }
            },
            "header": {
             "fill": {
              "color": "#C8D4E3"
             },
             "line": {
              "color": "white"
             }
            },
            "type": "table"
           }
          ]
         },
         "layout": {
          "annotationdefaults": {
           "arrowcolor": "#2a3f5f",
           "arrowhead": 0,
           "arrowwidth": 1
          },
          "autotypenumbers": "strict",
          "coloraxis": {
           "colorbar": {
            "outlinewidth": 0,
            "ticks": ""
           }
          },
          "colorscale": {
           "diverging": [
            [
             0,
             "#8e0152"
            ],
            [
             0.1,
             "#c51b7d"
            ],
            [
             0.2,
             "#de77ae"
            ],
            [
             0.3,
             "#f1b6da"
            ],
            [
             0.4,
             "#fde0ef"
            ],
            [
             0.5,
             "#f7f7f7"
            ],
            [
             0.6,
             "#e6f5d0"
            ],
            [
             0.7,
             "#b8e186"
            ],
            [
             0.8,
             "#7fbc41"
            ],
            [
             0.9,
             "#4d9221"
            ],
            [
             1,
             "#276419"
            ]
           ],
           "sequential": [
            [
             0,
             "#0d0887"
            ],
            [
             0.1111111111111111,
             "#46039f"
            ],
            [
             0.2222222222222222,
             "#7201a8"
            ],
            [
             0.3333333333333333,
             "#9c179e"
            ],
            [
             0.4444444444444444,
             "#bd3786"
            ],
            [
             0.5555555555555556,
             "#d8576b"
            ],
            [
             0.6666666666666666,
             "#ed7953"
            ],
            [
             0.7777777777777778,
             "#fb9f3a"
            ],
            [
             0.8888888888888888,
             "#fdca26"
            ],
            [
             1,
             "#f0f921"
            ]
           ],
           "sequentialminus": [
            [
             0,
             "#0d0887"
            ],
            [
             0.1111111111111111,
             "#46039f"
            ],
            [
             0.2222222222222222,
             "#7201a8"
            ],
            [
             0.3333333333333333,
             "#9c179e"
            ],
            [
             0.4444444444444444,
             "#bd3786"
            ],
            [
             0.5555555555555556,
             "#d8576b"
            ],
            [
             0.6666666666666666,
             "#ed7953"
            ],
            [
             0.7777777777777778,
             "#fb9f3a"
            ],
            [
             0.8888888888888888,
             "#fdca26"
            ],
            [
             1,
             "#f0f921"
            ]
           ]
          },
          "colorway": [
           "#636efa",
           "#EF553B",
           "#00cc96",
           "#ab63fa",
           "#FFA15A",
           "#19d3f3",
           "#FF6692",
           "#B6E880",
           "#FF97FF",
           "#FECB52"
          ],
          "font": {
           "color": "#2a3f5f"
          },
          "geo": {
           "bgcolor": "white",
           "lakecolor": "white",
           "landcolor": "#E5ECF6",
           "showlakes": true,
           "showland": true,
           "subunitcolor": "white"
          },
          "hoverlabel": {
           "align": "left"
          },
          "hovermode": "closest",
          "mapbox": {
           "style": "light"
          },
          "paper_bgcolor": "white",
          "plot_bgcolor": "#E5ECF6",
          "polar": {
           "angularaxis": {
            "gridcolor": "white",
            "linecolor": "white",
            "ticks": ""
           },
           "bgcolor": "#E5ECF6",
           "radialaxis": {
            "gridcolor": "white",
            "linecolor": "white",
            "ticks": ""
           }
          },
          "scene": {
           "xaxis": {
            "backgroundcolor": "#E5ECF6",
            "gridcolor": "white",
            "gridwidth": 2,
            "linecolor": "white",
            "showbackground": true,
            "ticks": "",
            "zerolinecolor": "white"
           },
           "yaxis": {
            "backgroundcolor": "#E5ECF6",
            "gridcolor": "white",
            "gridwidth": 2,
            "linecolor": "white",
            "showbackground": true,
            "ticks": "",
            "zerolinecolor": "white"
           },
           "zaxis": {
            "backgroundcolor": "#E5ECF6",
            "gridcolor": "white",
            "gridwidth": 2,
            "linecolor": "white",
            "showbackground": true,
            "ticks": "",
            "zerolinecolor": "white"
           }
          },
          "shapedefaults": {
           "line": {
            "color": "#2a3f5f"
           }
          },
          "ternary": {
           "aaxis": {
            "gridcolor": "white",
            "linecolor": "white",
            "ticks": ""
           },
           "baxis": {
            "gridcolor": "white",
            "linecolor": "white",
            "ticks": ""
           },
           "bgcolor": "#E5ECF6",
           "caxis": {
            "gridcolor": "white",
            "linecolor": "white",
            "ticks": ""
           }
          },
          "title": {
           "x": 0.05
          },
          "xaxis": {
           "automargin": true,
           "gridcolor": "white",
           "linecolor": "white",
           "ticks": "",
           "title": {
            "standoff": 15
           },
           "zerolinecolor": "white",
           "zerolinewidth": 2
          },
          "yaxis": {
           "automargin": true,
           "gridcolor": "white",
           "linecolor": "white",
           "ticks": "",
           "title": {
            "standoff": 15
           },
           "zerolinecolor": "white",
           "zerolinewidth": 2
          }
         }
        },
        "xaxis": {
         "anchor": "y",
         "autorange": true,
         "domain": [
          0,
          1
         ],
         "range": [
          -4.597915391790266,
          5.73407732669977
         ],
         "title": {
          "text": "PC1"
         },
         "type": "linear"
        },
        "yaxis": {
         "anchor": "x",
         "autorange": true,
         "domain": [
          0,
          1
         ],
         "range": [
          -2.6642958697577757,
          2.983476635637638
         ],
         "title": {
          "text": "PC2"
         },
         "type": "linear"
        }
       }
      },
      "image/png": "[encoded data removed]",
      "text/html": [
       "<div>                            <div id=\"68346907-be01-44cf-bd12-00b8fdf8d206\" class=\"plotly-graph-div\" style=\"height:525px; width:100%;\"></div>            <script type=\"text/javascript\">                require([\"plotly\"], function(Plotly) {                    window.PLOTLYENV=window.PLOTLYENV || {};                                    if (document.getElementById(\"68346907-be01-44cf-bd12-00b8fdf8d206\")) {                    Plotly.newPlot(                        \"68346907-be01-44cf-bd12-00b8fdf8d206\",                        [{\"hovertemplate\":\"<b>%{hovertext}</b><br><br>color=2<br>PC1=%{x}<br>PC2=%{y}<extra></extra>\",\"hovertext\":[\"chevrolet chevelle malibu\",\"buick skylark 320\",\"plymouth satellite\",\"amc rebel sst\",\"ford torino\",\"ford galaxie 500\",\"chevrolet impala\",\"plymouth fury iii\",\"pontiac catalina\",\"amc ambassador dpl\",\"dodge challenger se\",\"plymouth 'cuda 340\",\"chevrolet monte carlo\",\"buick estate wagon (sw)\",\"ford f250\",\"chevy c20\",\"dodge d200\",\"hi 1200d\",\"chevrolet impala\",\"pontiac catalina brougham\",\"ford galaxie 500\",\"plymouth fury iii\",\"dodge monaco (sw)\",\"ford country squire (sw)\",\"pontiac safari (sw)\",\"chevrolet impala\",\"pontiac catalina\",\"plymouth fury iii\",\"ford galaxie 500\",\"amc ambassador sst\",\"mercury marquis\",\"buick lesabre custom\",\"oldsmobile delta 88 royale\",\"chrysler newport royal\",\"amc matador (sw)\",\"chevrolet chevelle concours (sw)\",\"ford gran torino (sw)\",\"plymouth satellite custom (sw)\",\"buick century 350\",\"amc matador\",\"chevrolet malibu\",\"ford gran torino\",\"dodge coronet custom\",\"mercury marquis brougham\",\"chevrolet caprice classic\",\"ford ltd\",\"plymouth fury gran sedan\",\"chrysler new yorker brougham\",\"buick electra 225 custom\",\"amc ambassador brougham\",\"chevrolet impala\",\"ford country\",\"plymouth custom suburb\",\"oldsmobile vista cruiser\",\"chevrolet monte carlo s\",\"pontiac grand prix\",\"dodge dart custom\",\"oldsmobile omega\",\"ford gran torino\",\"buick century luxus (sw)\",\"dodge coronet custom (sw)\",\"ford gran torino (sw)\",\"amc matador (sw)\",\"pontiac catalina\",\"chevrolet bel air\",\"plymouth grand fury\",\"ford ltd\",\"chevrolet monza 2+2\",\"ford mustang ii\",\"chevrolet chevelle malibu classic\",\"dodge coronet brougham\",\"amc matador\",\"ford gran torino\",\"plymouth volare premier v8\",\"cadillac seville\",\"chevy c10\",\"ford f108\",\"dodge d100\",\"chevrolet caprice classic\",\"dodge monaco brougham\",\"mercury cougar brougham\",\"pontiac grand prix lj\",\"chevrolet monte carlo landau\",\"chrysler cordoba\",\"ford thunderbird\",\"dodge diplomat\",\"mercury monarch ghia\",\"chevrolet monte carlo landau\",\"buick regal sport coupe (turbo)\",\"ford futura\",\"dodge magnum xe\",\"chevrolet caprice classic\",\"ford ltd landau\",\"mercury grand marquis\",\"dodge st. regis\",\"buick estate wagon (sw)\",\"ford country squire (sw)\",\"chevrolet malibu classic (sw)\",\"chrysler lebaron town @ country (sw)\",\"cadillac eldorado\"],\"legendgroup\":\"2\",\"marker\":{\"color\":\"#636efa\",\"symbol\":\"circle\"},\"mode\":\"markers\",\"name\":\"2\",\"orientation\":\"v\",\"showlegend\":true,\"x\":[2.7681015408711955,3.56179561211379,3.070488709648946,3.020336929873964,3.0077171090836745,4.632490431458015,5.094469429700944,5.016170883199184,5.090410338149975,4.311461998206057,3.815943006597266,3.7997906445666954,3.817831087801163,4.474529595624322,4.53918410921465,3.9829985413493456,4.216507495361385,3.79567175564488,3.7469755307411186,4.203465298813926,3.4693032930810928,3.330087048340598,4.509687361981959,4.2858077453444485,4.5171236466816005,3.770056782051475,4.066901911248672,3.1997288007521276,3.4482602630809294,3.0177670685735385,4.8588089689217355,3.6387158952704883,3.7157209067479133,4.236928551522717,3.124413860993699,2.990526928281096,2.9801321348754573,3.1757796318058906,3.6446429006767413,3.1070904723215778,3.2925678303444665,2.8672362574814447,3.0708618813424025,4.757051654295554,3.8459558539097793,3.5991673731083695,3.149145667290398,4.86743840278331,5.173147058401884,3.7364153432611436,4.005886047171804,4.222301906026264,3.8880996463395467,3.9716695923375522,3.2396643945111485,4.64439544494527,3.0330227307451003,3.771700304215895,2.8371444666867793,3.4787800717914092,3.286133168478003,2.9805162531295926,2.958548083744805,3.9315216169370175,3.2038747837893307,3.0632838207807236,3.4310256548138875,1.7566640632710429,2.5505510377939395,2.791608842396015,3.00275606228804,2.485518030835943,3.2523574799124373,3.013839490368152,3.5722380568002956,3.2494110824627294,2.556064930534058,2.8562014796781856,2.6780728692684352,2.8353363230094213,2.6095896109782646,3.7521501976652263,3.4298229470206048,3.8249160234149127,2.9963455292088734,2.4019451841723463,2.251875846060635,2.268711187642098,1.7874147479698723,2.3300306345359965,2.6066208545898424,2.1606784576243663,2.2386682110746827,2.695438735406615,2.2169802029298316,2.874776174976425,2.729367640272802,1.7858239323350569,2.765621824280496,1.842704845674252],\"xaxis\":\"x\",\"y\":[0.6536686698172093,0.9618424410466512,0.9422170408259082,0.7897426311564694,0.9658848801234102,1.385631719999814,1.6903140188207046,1.741291309491739,1.5548599921028214,1.598964465108217,1.2468001591473186,1.508802472872219,1.19969657088571,1.6192235455454065,0.8454218116774037,0.5960032585264778,0.8956975398278169,-0.026758099262877148,0.7674314988142187,0.9041029397038345,0.4537395827492977,0.5149241805420599,0.9202583268148069,0.7849191070376162,0.7962886945067532,0.6759449061474152,0.7323671916642891,0.33159087568377693,0.44189916782822763,0.664999039787268,1.1048484639522391,0.36063172471550825,0.399076885589277,0.7461942188215548,0.5037839493161864,0.14118617392479504,-0.1333068550883005,0.2590588173626157,0.4881471950506495,0.5884878687200882,0.3116796908835479,0.004144671501016784,0.41700274213847244,0.8474389601999827,0.48866500666293583,0.3725975468908908,0.07583472781987526,1.0377934014973884,1.0960730681762727,0.8279535841508692,0.14991348963541812,0.495147752958943,0.4326220505001572,0.5864474419466877,0.2953102864237035,1.3709932540772922,0.6789091257072588,0.8762465612864415,-0.007322082903606294,-0.030212571325996078,0.13346307381914563,-0.34434313844947084,-0.18388386867439444,0.47498693921648905,-0.072964490892411,-0.137137369087471,0.0221021155470871,-0.1873474670233367,0.22119249727540732,-0.04542764554521349,0.02711659131318399,-0.28903272661515955,0.08408849515691762,0.024411945754208415,0.3476363789560629,0.18808722427222985,-0.3882024408153345,-0.09668822523783964,-0.012058337355936626,-0.2058571273586719,-0.49852101165119733,0.4335597612536113,0.3227355948485528,0.31335225240818537,-0.3192754389696698,-0.2528494926443586,-0.19298511612063807,-0.20829191232438818,-0.146306607376654,0.096989007234508,-0.33942016611914505,-0.7578976865132768,-0.43742874992661945,-0.34798790138248525,-0.6998836165203445,-0.5431528659134572,-0.5013144880885357,-0.7303202057284286,-0.2526072473687307,-1.1452656197464428],\"yaxis\":\"y\",\"type\":\"scatter\"},{\"hovertemplate\":\"<b>%{hovertext}</b><br><br>color=1<br>PC1=%{x}<br>PC2=%{y}<extra></extra>\",\"hovertext\":[\"toyota corona mark ii\",\"datsun pl510\",\"volkswagen 1131 deluxe sedan\",\"peugeot 504\",\"audi 100 ls\",\"saab 99e\",\"bmw 2002\",\"datsun pl510\",\"toyota corona\",\"opel 1900\",\"peugeot 304\",\"fiat 124b\",\"toyota corolla 1200\",\"datsun 1200\",\"volkswagen model 111\",\"toyota corona hardtop\",\"volkswagen type 3\",\"mazda rx2 coupe\",\"volvo 145e (sw)\",\"volkswagen 411 (sw)\",\"peugeot 504 (sw)\",\"renault 12 (sw)\",\"datsun 510 (sw)\",\"toyouta corona mark ii (sw)\",\"toyota corolla 1600 (sw)\",\"volkswagen super beetle\",\"toyota carina\",\"datsun 610\",\"maxda rx3\",\"fiat 124 sport coupe\",\"fiat 128\",\"opel manta\",\"audi 100ls\",\"volvo 144ea\",\"saab 99le\",\"toyota mark ii\",\"datsun b210\",\"toyota corolla 1200\",\"audi fox\",\"volkswagen dasher\",\"opel manta\",\"toyota corona\",\"datsun 710\",\"fiat 128\",\"fiat 124 tc\",\"honda civic\",\"subaru\",\"fiat x1.9\",\"toyota corolla\",\"toyota corona\",\"volkswagen dasher\",\"datsun 710\",\"volkswagen rabbit\",\"audi 100ls\",\"peugeot 504\",\"volvo 244dl\",\"saab 99le\",\"honda civic cvcc\",\"fiat 131\",\"opel 1900\",\"renault 12tl\",\"vw rabbit\",\"honda civic\",\"volkswagen rabbit\",\"datsun b-210\",\"toyota corolla\",\"volvo 245\",\"toyota mark ii\",\"honda accord cvcc\",\"renault 5 gtl\",\"datsun f-10 hatchback\",\"volkswagen rabbit custom\",\"toyota corolla liftback\",\"subaru dl\",\"volkswagen dasher\",\"datsun 810\",\"bmw 320i\",\"mazda rx-4\",\"volkswagen rabbit custom diesel\",\"mazda glc deluxe\",\"datsun b210 gx\",\"honda civic cvcc\",\"toyota corona\",\"datsun 510\",\"toyota celica gt liftback\",\"datsun 200-sx\",\"saab 99gle\",\"volkswagen scirocco\",\"honda accord lx\",\"vw rabbit custom\",\"maxda glc deluxe\",\"peugeot 504\",\"datsun 210\",\"fiat strada custom\",\"vw rabbit\",\"toyota corolla tercel\",\"datsun 310\",\"audi 4000\",\"toyota corona liftback\",\"mazda 626\",\"datsun 510 hatchback\",\"toyota corolla\",\"mazda glc\",\"datsun 210\",\"vw rabbit c (diesel)\",\"vw dasher (diesel)\",\"audi 5000s (diesel)\",\"mercedes-benz 240d\",\"honda civic 1500 gl\",\"subaru dl\",\"vokswagen rabbit\",\"datsun 280-zx\",\"mazda rx-7 gs\",\"triumph tr7 coupe\",\"honda accord\",\"toyota starlet\",\"honda civic 1300\",\"subaru\",\"datsun 210 mpg\",\"toyota tercel\",\"mazda glc 4\",\"volkswagen jetta\",\"honda prelude\",\"toyota corolla\",\"datsun 200sx\",\"mazda 626\",\"peugeot 505s turbo diesel\",\"volvo diesel\",\"toyota cressida\",\"datsun 810 maxima\",\"volkswagen rabbit l\",\"mazda glc custom l\",\"mazda glc custom\",\"nissan stanza xe\",\"honda accord\",\"toyota corolla\",\"honda civic\",\"honda civic (auto)\",\"datsun 310 gx\",\"toyota celica gt\",\"vw pickup\"],\"legendgroup\":\"1\",\"marker\":{\"color\":\"#EF553B\",\"symbol\":\"circle\"},\"mode\":\"markers\",\"name\":\"1\",\"orientation\":\"v\",\"showlegend\":true,\"x\":[-1.5117090900327224,-1.853991954600449,-2.3371052062836335,-1.1708840167191024,-0.9436398046030898,-1.2505822929287733,-0.6639071167898434,-1.908877464644297,-1.5902151179477673,-1.251807765724924,-2.2129313575175025,-1.6686840764773176,-3.00457189626777,-3.135812489521799,-2.1642348431144685,-1.710057323816496,-2.3018447569371925,-1.6400477727138805,-0.25899612992853727,-1.3234376539824444,-1.0898009652878262,-1.8307891304318469,-2.1257918030002956,-1.4192834730357575,-2.158927141710039,-2.494208199410836,-2.0216999762290975,-1.7424167430361015,-1.8117452012346877,-1.4058721965382135,-2.622843658548153,-1.4395059174676494,-0.7636302480116384,-0.48253114866286534,-0.7025633473933527,-0.25271862326126954,-3.0367912438032882,-3.3696863470688756,-1.7869380049213195,-1.9036894369634672,-1.478073979005518,-3.1104314483765876,-3.1051013923247304,-1.6180991767383162,-1.4140304768102703,-1.630284752386848,-1.90339725608961,-2.17236063772056,-2.471967394462308,-1.4069657942440772,-1.7989168316292197,-1.8446516954605479,-1.906054525637935,-1.012829755461247,-1.1239902617662987,-0.7506730887270671,-0.7599097807329928,-3.216864874146908,-1.5803503388483444,-1.6905586702330213,-1.6879493197806328,-1.9790765851490382,-3.262682109457127,-1.8361280647836742,-2.941571414204024,-2.5224156574296868,-0.6490118810553878,-0.6343577993866387,-3.052831014450534,-2.9838007640191493,-3.071122840200573,-1.9525234911210585,-2.5937957048699842,-2.831782260486328,-1.8733659128379705,-0.9446043305140477,-0.7207093406373265,-1.6862893981364542,-3.6269463662439354,-3.517186753637528,-3.515353691118169,-3.358355808126502,-1.8786763636182604,-2.0672499056163005,-1.646138337788015,-1.878461296689782,-0.9035970736629225,-2.2419767612277774,-2.797884011646173,-2.2643727772648035,-3.0970644526989775,-2.234555208869523,-3.3324107263556937,-2.505426232479254,-2.658519947927431,-3.7123790526783482,-3.3895470843522695,-2.37576764906753,-2.197535142807659,-2.7332460697898457,-2.663767469613767,-2.74182768732579,-3.9355698291115897,-3.778526960727174,-3.766541926817833,-3.7896558111082976,-2.2861687926791587,-2.145097488283882,-3.5478151473592194,-3.25060289129581,-2.4631640868581557,-0.8629241876038108,-2.1429243842648438,-2.005409102516997,-2.9371011292583065,-3.799779490281284,-3.504870706686395,-3.2520438545747052,-3.730978421673928,-3.5542588803310124,-3.2253588101360724,-2.231237312217604,-2.825442482446429,-2.912323282370668,-2.3400295843284877,-2.8423414523620987,-1.8800185769476283,-1.5310304021608667,-0.8406188760179011,-0.9230973863763247,-2.626673464568639,-3.6007500845194262,-3.2832201745076826,-2.842356562403248,-3.002256213189241,-3.151577178875636,-3.3962509432358163,-3.1713110387874357,-3.491271567690005,-2.1902783287340073,-4.03698512349238],\"xaxis\":\"x\",\"y\":[2.4471909246719763,2.4775993611600193,-0.24500642607878612,0.4585260711910405,0.981318320099798,0.5204480644827144,1.445268585918117,2.3833117242062127,2.5163906703568597,0.9606031680114568,-0.06905627550621944,0.7814736347329223,1.5024668600328186,1.6733350185849472,-0.016571069624202385,2.181888565295979,-0.8749253158047562,2.527935225539338,0.9394536711871743,0.1490965874812342,-0.04467302791601694,0.0949075568872019,1.8935230537163381,2.3524581840441945,1.9654840878052076,-0.6146427126770734,1.4978430688673696,1.925337638064025,2.4070432245337487,0.5307727526886307,-0.3706063088715195,0.4593853364457412,0.8031474722603428,0.6798739646054105,0.891857870559124,2.604819160844082,1.2243498672423423,0.8856681022677221,0.21599683190812768,0.30889734286910986,0.524411956931058,1.5536964516806646,1.1800718271176742,0.36382663718414987,0.5927532432904646,2.0775290712035646,1.96320054603812,0.1962458571981112,1.6698006875200235,2.212656269800779,0.07134780157945286,1.655426228402839,0.46155926011691145,0.4533091969904486,0.07395985695965465,0.5474481096650254,0.8083823955920563,1.2862304277594803,0.20351837217316132,-0.023500505318287457,0.235502906614398,0.3347734180949141,1.2081918933397693,0.6692273711638238,1.371941493780452,1.5172112230505574,0.2856869601459223,1.9121234022159719,1.0239501322414988,-0.5848645457913623,1.3034269058035892,0.2410771949995401,1.1370031965468441,1.370750589273021,0.28516827857002003,1.8999861664070423,0.7273943771946543,2.103152085330056,-1.2592005313250325,0.6787877294030364,0.8756864935144044,1.2059302259768172,1.7960744347735909,1.739107863963351,1.7386660236458864,1.721116592048962,0.18222541188190958,0.02101346023857294,1.2459202669891254,0.0737219949819488,1.3396727272046816,-1.7067888138103406,0.7010328466416604,-0.09371413654340487,-0.17014056180083142,0.6071673746916819,1.0299118366146398,-0.29635009541176843,1.345065352509942,0.9264144764088771,1.4069658046904272,1.3064299203383118,0.7261014834131555,0.5490896583238423,-1.492191434104522,-1.8238576386430316,-1.062812194993,-1.3566190360184744,1.4294934837113977,0.7976942411578902,-0.27007032746823817,2.2681450755834907,1.9221343212009978,-0.13760134367887714,0.9932328252320072,0.8123890882804241,0.9782495843906726,0.7486385121748165,0.45130990364777,0.7671682752999834,1.0395156964581544,-0.14616130541775796,1.3357493051173754,0.9468857332815227,1.409264143629786,0.6898243083623739,-1.1331039023303484,-1.0146147579305849,1.9256176724975569,1.7574346225649176,-0.42687117749026693,0.5686411517508942,0.7043324593256894,1.2946267712714048,1.2118242836555113,0.8016068642905708,1.0795093412788275,1.0013185553134125,0.8830780596349715,1.4434342837483924,-2.1271400067947868],\"yaxis\":\"y\",\"type\":\"scatter\"},{\"hovertemplate\":\"<b>%{hovertext}</b><br><br>color=0<br>PC1=%{x}<br>PC2=%{y}<extra></extra>\",\"hovertext\":[\"plymouth duster\",\"amc hornet\",\"ford maverick\",\"amc gremlin\",\"chevrolet vega 2300\",\"amc gremlin\",\"plymouth satellite custom\",\"chevrolet chevelle malibu\",\"ford torino 500\",\"amc matador\",\"amc hornet sportabout (sw)\",\"chevrolet vega (sw)\",\"pontiac firebird\",\"ford mustang\",\"mercury capri 2000\",\"plymouth cricket\",\"dodge colt hardtop\",\"chevrolet vega\",\"ford pinto runabout\",\"ford pinto (sw)\",\"dodge colt (sw)\",\"plymouth valiant\",\"chevrolet nova custom\",\"amc hornet\",\"ford maverick\",\"plymouth duster\",\"amc gremlin\",\"chevrolet vega\",\"ford pinto\",\"mercury capri v6\",\"plymouth duster\",\"amc hornet\",\"chevrolet nova\",\"ford pinto\",\"chevrolet vega\",\"chevrolet chevelle malibu classic\",\"amc matador\",\"plymouth satellite sebring\",\"dodge colt\",\"plymouth valiant custom\",\"chevrolet nova\",\"mercury monarch\",\"ford maverick\",\"buick century\",\"chevroelt chevelle malibu\",\"amc matador\",\"plymouth fury\",\"buick skyhawk\",\"ford pinto\",\"amc gremlin\",\"pontiac astro\",\"ford pinto\",\"amc pacer\",\"capri ii\",\"dodge colt\",\"plymouth valiant\",\"chevrolet nova\",\"ford maverick\",\"amc hornet\",\"chevrolet chevette\",\"chevrolet woody\",\"dodge aspen se\",\"ford granada ghia\",\"pontiac ventura sj\",\"amc pacer d/l\",\"ford pinto\",\"peugeot 504\",\"mercedes-benz 280s\",\"buick opel isuzu deluxe\",\"plymouth arrow gs\",\"oldsmobile cutlass supreme\",\"chevrolet concours\",\"buick skylark\",\"plymouth volare custom\",\"ford granada\",\"pontiac sunbird coupe\",\"ford mustang ii 2+2\",\"chevrolet chevette\",\"dodge colt m/m\",\"ford fiesta\",\"oldsmobile cutlass salon brougham\",\"pontiac phoenix lj\",\"chevrolet malibu\",\"ford fairmont (auto)\",\"ford fairmont (man)\",\"plymouth volare\",\"amc concord\",\"buick century special\",\"mercury zephyr\",\"dodge aspen\",\"amc concord d/l\",\"chevrolet chevette\",\"dodge omni\",\"plymouth sapporo\",\"oldsmobile starfire sx\",\"audi 5000\",\"volvo 264gl\",\"peugeot 604sl\",\"pontiac lemans v6\",\"mercury zephyr 6\",\"ford fairmont 4\",\"amc concord dl 6\",\"dodge aspen 6\",\"dodge colt hatchback custom\",\"amc spirit dl\",\"mercedes benz 300d\",\"oldsmobile cutlass salon brougham\",\"plymouth horizon\",\"plymouth horizon tc3\",\"buick skylark limited\",\"chevrolet citation\",\"oldsmobile omega brougham\",\"pontiac phoenix\",\"chevrolet chevette\",\"chevrolet citation\",\"ford fairmont\",\"amc concord\",\"dodge aspen\",\"dodge colt\",\"plymouth reliant\",\"buick skylark\",\"dodge aries wagon (sw)\",\"chevrolet citation\",\"plymouth reliant\",\"plymouth champ\",\"plymouth horizon 4\",\"ford escort 4w\",\"ford escort 2h\",\"buick century\",\"oldsmobile cutlass ls\",\"ford granada gl\",\"chrysler lebaron salon\",\"chevrolet cavalier\",\"chevrolet cavalier wagon\",\"chevrolet cavalier 2-door\",\"pontiac j2000 se hatchback\",\"dodge aries se\",\"pontiac phoenix\",\"ford fairmont futura\",\"plymouth horizon miser\",\"mercury lynx l\",\"buick century limited\",\"oldsmobile cutlass ciera (diesel)\",\"chrysler lebaron medallion\",\"ford granada l\",\"dodge charger 2.2\",\"chevrolet camaro\",\"ford mustang gl\",\"dodge rampage\",\"ford ranger\",\"chevy s-10\"],\"legendgroup\":\"0\",\"marker\":{\"color\":\"#00cc96\",\"symbol\":\"circle\"},\"mode\":\"markers\",\"name\":\"0\",\"orientation\":\"v\",\"showlegend\":true,\"x\":[0.7187417879547204,0.9077937459259184,0.5158811834731739,0.6808411089928273,-0.6192311584276681,1.1250318471951022,1.4357773846369286,1.3838557788447636,1.155073687111206,1.2472056740007078,1.4795222334198956,-0.7623053353808534,1.3114399566376738,1.2188532859466834,-0.3728938521711018,-1.5088048394367781,-0.9942144973557248,-0.5860569270947439,-0.555587220224513,-0.480582963585708,-0.9376428681278556,0.9929184144486689,1.0719897853531248,0.9343284597173918,0.8734419932790223,0.4933311041178536,0.9532581108370868,-0.8725677814209053,-0.6670813340646531,0.5258002203078564,0.6283843717034149,0.8111352589638792,1.1825340937849107,-0.8623283927242302,-0.7981152121151966,1.3391447623695283,1.3111029652716837,1.1643311309340376,-1.1010918070259363,0.8460061259987715,1.1807903117335443,0.5285506541454414,0.5385469010258606,0.9580039831033639,1.2516833355545123,1.2586800088300414,0.8616644650541542,0.9105803287575275,-0.6320963985296514,0.7141595356741176,-0.8398317773638233,0.7121827673582898,0.7079666068953845,-0.5333364418736909,-1.2740517450200861,0.7371560602862697,1.0208950620039174,0.052673335043212775,0.37247329182533145,-2.2483822909146065,-1.8331620328967573,0.8169865186749321,0.4548819514755408,1.2193785396388381,0.7951634522625568,-0.6911463687104751,-1.2869765338572423,0.522447720162668,-1.2438577654569436,-0.8214219930353521,1.6705027965101802,1.1369316499361037,0.7799964874419738,0.8005115759171734,0.7351626368981561,-0.5841321992816307,-0.6397553448439856,-1.7359023556024227,-1.5689479581817787,-1.909595584283501,1.4739357093847067,0.6296263197820983,0.2627714167270257,0.30725263453586404,-0.665257019418462,0.6268718336499034,0.5054857163793562,0.7993570271509522,0.2450917323975372,0.7697582918910968,1.2516711529636133,-1.6234829377193096,-1.353638542836349,-0.4480206754721148,-0.7276224505290728,-0.6955336689261932,0.38771452870243645,0.431005586556476,0.7755745919635841,0.06545527968165789,-0.6796522865491987,0.3467593146285239,0.6895787816978683,-1.7520969825984105,-0.9711724669678108,-1.1135382824302185,0.4441214551759376,-1.5131582966792432,-1.704737645779006,-0.8935343743209295,0.27283358050069856,0.27217581384661405,-0.9372127901530655,-1.7395785660729677,-0.9708537569008393,-1.0133686248772076,-0.9699683698502284,0.3256496785251719,-0.549851108986538,-1.1232964053831664,-1.029263601521182,-0.7168250917931694,0.30964497893954024,-1.0522750522700541,-2.427041734252263,-1.8643561429713555,-2.0530921851818,-2.090766002939553,0.6143669376342978,1.1339251266639336,0.09846033132955241,0.5218453395458169,-1.5664203412075774,-1.4115695048664398,-1.8063364794987067,-1.4461625890949414,-1.275813636828797,-1.1423617825985692,-0.8158369519319848,-2.1011309257670505,-2.197750340570522,-0.029761483374331665,-0.6135959456427837,-0.8064912552310035,0.4355967679477059,-1.4115460008059744,-0.9799933742928884,-0.9821083541071534,-1.1268082836860291,-1.5257188064315697,-1.672595579706159],\"xaxis\":\"x\",\"y\":[-0.15828156352214642,-0.11947883791082828,-0.28211116908869427,-0.09238511376686459,-0.3234959985966579,0.21611405288568195,-0.1817128423813278,-0.20912618199584818,-0.29241977798636826,-0.21562473875452146,0.18931913708022027,-0.9726941987093702,-0.13747243298207532,-0.11616811897461048,-0.0748077020618441,-1.2374061118834636,-0.7037336892581542,-1.02726567380989,-0.5637603353572282,-0.49656386660449625,-0.3982840395967299,-0.5293443757997133,-0.7955520435279646,-0.46895807288241975,-0.6240533753742707,-0.5317283302717332,-0.2989683811209696,-1.2362530180371523,-0.9812784945960503,-0.10746632603088588,-0.6990025521584807,-0.5670561899875258,-0.7242111322323808,-0.8291486690915529,-0.9366075707462116,-0.7515270475094645,-0.8451082214662816,-0.6472816530027743,-0.535178270795479,-0.7100904572545184,-0.6493880927758361,-1.6428051858037673,-1.3858979131819784,-1.4498290332825283,-1.064818626897247,-1.100672095832222,-1.2166816677579824,-0.45686148669467375,-0.9752132195384924,-0.6678942044385823,-1.246999070967215,-0.44247748940128273,-0.8993531024109707,-0.6823447508101846,-1.2127453060570714,-0.692861298262841,-0.5185458985377347,-1.170274978016757,-1.10581794958463,-2.116659630005287,-2.0296157652050177,-1.0748322598262539,-1.7253247653998258,-0.75776886974914,-1.0798970879027618,-0.6008922802621719,-0.8078772508648088,0.2504297519066319,-0.8468051406687573,-0.8423121992908578,-1.2924589330040817,-0.8726206763309673,-1.0000698840072761,-1.162184972286887,-1.3740036375627853,-0.9831774917246014,-0.9528186836280252,-1.307135262164795,-1.0260911330907927,-0.9818786913457412,-0.8018043780174889,-1.4656712652216797,-1.3576155588286554,-1.0173435143052079,-0.9841190272904043,-1.1745016546154585,-1.2170363454176405,-0.9140468650968545,-1.1721879096108794,-1.3554957013485205,-0.6921900887398441,-1.2919052260623465,-0.9324400220526792,-1.0799904302418937,-1.3570159064611158,0.09653040860969746,0.624902302945569,0.3076776202155121,-0.8815647470873952,-1.500441125988014,-1.3787198678945336,-1.4811991592124714,-1.1079053849765814,-0.9944601202630446,-1.0758143001365157,-0.8943427673573792,-2.1323617079415103,-0.8639099143221598,-1.1395188852659277,-1.1793739742631693,-0.2355600859874475,-0.4887419285967115,-0.749139300623861,-1.3166271968351457,-1.352921475431825,-1.6263334610096865,-1.9315870804417883,-1.6567794861407241,-0.9253299030179952,-1.3420704983243872,-1.4569676180900293,-1.077323876690575,-0.6405260188073442,-0.8986398162090777,-1.6243320231295206,-1.3748356390668601,-1.5649905743055943,-2.2856383949642196,-1.1789495215790748,-1.7279804358010706,-1.4978261374754496,-1.435294007410739,-2.059345068914391,-1.8926109480517233,-1.824818001499142,-1.5413951136180624,-1.497453715519618,-1.782047696067945,-1.499965655641253,-1.4518530297236327,-1.8210360638815435,-1.3706122178395685,-1.688598184847975,-1.1873633207970893,-1.0519824410009897,-1.0440084618528775,-1.678638678844703,-1.4205144055903436,-0.789213943773262,-1.951240150147849,-2.0855321418663704],\"yaxis\":\"y\",\"type\":\"scatter\"}],                        {\"template\":{\"data\":{\"histogram2dcontour\":[{\"type\":\"histogram2dcontour\",\"colorbar\":{\"outlinewidth\":0,\"ticks\":\"\"},\"colorscale\":[[0.0,\"#0d0887\"],[0.1111111111111111,\"#46039f\"],[0.2222222222222222,\"#7201a8\"],[0.3333333333333333,\"#9c179e\"],[0.4444444444444444,\"#bd3786\"],[0.5555555555555556,\"#d8576b\"],[0.6666666666666666,\"#ed7953\"],[0.7777777777777778,\"#fb9f3a\"],[0.8888888888888888,\"#fdca26\"],[1.0,\"#f0f921\"]]}],\"choropleth\":[{\"type\":\"choropleth\",\"colorbar\":{\"outlinewidth\":0,\"ticks\":\"\"}}],\"histogram2d\":[{\"type\":\"histogram2d\",\"colorbar\":{\"outlinewidth\":0,\"ticks\":\"\"},\"colorscale\":[[0.0,\"#0d0887\"],[0.1111111111111111,\"#46039f\"],[0.2222222222222222,\"#7201a8\"],[0.3333333333333333,\"#9c179e\"],[0.4444444444444444,\"#bd3786\"],[0.5555555555555556,\"#d8576b\"],[0.6666666666666666,\"#ed7953\"],[0.7777777777777778,\"#fb9f3a\"],[0.8888888888888888,\"#fdca26\"],[1.0,\"#f0f921\"]]}],\"heatmap\":[{\"type\":\"heatmap\",\"colorbar\":{\"outlinewidth\":0,\"ticks\":\"\"},\"colorscale\":[[0.0,\"#0d0887\"],[0.1111111111111111,\"#46039f\"],[0.2222222222222222,\"#7201a8\"],[0.3333333333333333,\"#9c179e\"],[0.4444444444444444,\"#bd3786\"],[0.5555555555555556,\"#d8576b\"],[0.6666666666666666,\"#ed7953\"],[0.7777777777777778,\"#fb9f3a\"],[0.8888888888888888,\"#fdca26\"],[1.0,\"#f0f921\"]]}],\"heatmapgl\":[{\"type\":\"heatmapgl\",\"colorbar\":{\"outlinewidth\":0,\"ticks\":\"\"},\"colorscale\":[[0.0,\"#0d0887\"],[0.1111111111111111,\"#46039f\"],[0.2222222222222222,\"#7201a8\"],[0.3333333333333333,\"#9c179e\"],[0.4444444444444444,\"#bd3786\"],[0.5555555555555556,\"#d8576b\"],[0.6666666666666666,\"#ed7953\"],[0.7777777777777778,\"#fb9f3a\"],[0.8888888888888888,\"#fdca26\"],[1.0,\"#f0f921\"]]}],\"contourcarpet\":[{\"type\":\"contourcarpet\",\"colorbar\":{\"outlinewidth\":0,\"ticks\":\"\"}}],\"contour\":[{\"type\":\"contour\",\"colorbar\":{\"outlinewidth\":0,\"ticks\":\"\"},\"colorscale\":[[0.0,\"#0d0887\"],[0.1111111111111111,\"#46039f\"],[0.2222222222222222,\"#7201a8\"],[0.3333333333333333,\"#9c179e\"],[0.4444444444444444,\"#bd3786\"],[0.5555555555555556,\"#d8576b\"],[0.6666666666666666,\"#ed7953\"],[0.7777777777777778,\"#fb9f3a\"],[0.8888888888888888,\"#fdca26\"],[1.0,\"#f0f921\"]]}],\"surface\":[{\"type\":\"surface\",\"colorbar\":{\"outlinewidth\":0,\"ticks\":\"\"},\"colorscale\":[[0.0,\"#0d0887\"],[0.1111111111111111,\"#46039f\"],[0.2222222222222222,\"#7201a8\"],[0.3333333333333333,\"#9c179e\"],[0.4444444444444444,\"#bd3786\"],[0.5555555555555556,\"#d8576b\"],[0.6666666666666666,\"#ed7953\"],[0.7777777777777778,\"#fb9f3a\"],[0.8888888888888888,\"#fdca26\"],[1.0,\"#f0f921\"]]}],\"mesh3d\":[{\"type\":\"mesh3d\",\"colorbar\":{\"outlinewidth\":0,\"ticks\":\"\"}}],\"scatter\":[{\"fillpattern\":{\"fillmode\":\"overlay\",\"size\":10,\"solidity\":0.2},\"type\":\"scatter\"}],\"parcoords\":[{\"type\":\"parcoords\",\"line\":{\"colorbar\":{\"outlinewidth\":0,\"ticks\":\"\"}}}],\"scatterpolargl\":[{\"type\":\"scatterpolargl\",\"marker\":{\"colorbar\":{\"outlinewidth\":0,\"ticks\":\"\"}}}],\"bar\":[{\"error_x\":{\"color\":\"#2a3f5f\"},\"error_y\":{\"color\":\"#2a3f5f\"},\"marker\":{\"line\":{\"color\":\"#E5ECF6\",\"width\":0.5},\"pattern\":{\"fillmode\":\"overlay\",\"size\":10,\"solidity\":0.2}},\"type\":\"bar\"}],\"scattergeo\":[{\"type\":\"scattergeo\",\"marker\":{\"colorbar\":{\"outlinewidth\":0,\"ticks\":\"\"}}}],\"scatterpolar\":[{\"type\":\"scatterpolar\",\"marker\":{\"colorbar\":{\"outlinewidth\":0,\"ticks\":\"\"}}}],\"histogram\":[{\"marker\":{\"pattern\":{\"fillmode\":\"overlay\",\"size\":10,\"solidity\":0.2}},\"type\":\"histogram\"}],\"scattergl\":[{\"type\":\"scattergl\",\"marker\":{\"colorbar\":{\"outlinewidth\":0,\"ticks\":\"\"}}}],\"scatter3d\":[{\"type\":\"scatter3d\",\"line\":{\"colorbar\":{\"outlinewidth\":0,\"ticks\":\"\"}},\"marker\":{\"colorbar\":{\"outlinewidth\":0,\"ticks\":\"\"}}}],\"scattermapbox\":[{\"type\":\"scattermapbox\",\"marker\":{\"colorbar\":{\"outlinewidth\":0,\"ticks\":\"\"}}}],\"scatterternary\":[{\"type\":\"scatterternary\",\"marker\":{\"colorbar\":{\"outlinewidth\":0,\"ticks\":\"\"}}}],\"scattercarpet\":[{\"type\":\"scattercarpet\",\"marker\":{\"colorbar\":{\"outlinewidth\":0,\"ticks\":\"\"}}}],\"carpet\":[{\"aaxis\":{\"endlinecolor\":\"#2a3f5f\",\"gridcolor\":\"white\",\"linecolor\":\"white\",\"minorgridcolor\":\"white\",\"startlinecolor\":\"#2a3f5f\"},\"baxis\":{\"endlinecolor\":\"#2a3f5f\",\"gridcolor\":\"white\",\"linecolor\":\"white\",\"minorgridcolor\":\"white\",\"startlinecolor\":\"#2a3f5f\"},\"type\":\"carpet\"}],\"table\":[{\"cells\":{\"fill\":{\"color\":\"#EBF0F8\"},\"line\":{\"color\":\"white\"}},\"header\":{\"fill\":{\"color\":\"#C8D4E3\"},\"line\":{\"color\":\"white\"}},\"type\":\"table\"}],\"barpolar\":[{\"marker\":{\"line\":{\"color\":\"#E5ECF6\",\"width\":0.5},\"pattern\":{\"fillmode\":\"overlay\",\"size\":10,\"solidity\":0.2}},\"type\":\"barpolar\"}],\"pie\":[{\"automargin\":true,\"type\":\"pie\"}]},\"layout\":{\"autotypenumbers\":\"strict\",\"colorway\":[\"#636efa\",\"#EF553B\",\"#00cc96\",\"#ab63fa\",\"#FFA15A\",\"#19d3f3\",\"#FF6692\",\"#B6E880\",\"#FF97FF\",\"#FECB52\"],\"font\":{\"color\":\"#2a3f5f\"},\"hovermode\":\"closest\",\"hoverlabel\":{\"align\":\"left\"},\"paper_bgcolor\":\"white\",\"plot_bgcolor\":\"#E5ECF6\",\"polar\":{\"bgcolor\":\"#E5ECF6\",\"angularaxis\":{\"gridcolor\":\"white\",\"linecolor\":\"white\",\"ticks\":\"\"},\"radialaxis\":{\"gridcolor\":\"white\",\"linecolor\":\"white\",\"ticks\":\"\"}},\"ternary\":{\"bgcolor\":\"#E5ECF6\",\"aaxis\":{\"gridcolor\":\"white\",\"linecolor\":\"white\",\"ticks\":\"\"},\"baxis\":{\"gridcolor\":\"white\",\"linecolor\":\"white\",\"ticks\":\"\"},\"caxis\":{\"gridcolor\":\"white\",\"linecolor\":\"white\",\"ticks\":\"\"}},\"coloraxis\":{\"colorbar\":{\"outlinewidth\":0,\"ticks\":\"\"}},\"colorscale\":{\"sequential\":[[0.0,\"#0d0887\"],[0.1111111111111111,\"#46039f\"],[0.2222222222222222,\"#7201a8\"],[0.3333333333333333,\"#9c179e\"],[0.4444444444444444,\"#bd3786\"],[0.5555555555555556,\"#d8576b\"],[0.6666666666666666,\"#ed7953\"],[0.7777777777777778,\"#fb9f3a\"],[0.8888888888888888,\"#fdca26\"],[1.0,\"#f0f921\"]],\"sequentialminus\":[[0.0,\"#0d0887\"],[0.1111111111111111,\"#46039f\"],[0.2222222222222222,\"#7201a8\"],[0.3333333333333333,\"#9c179e\"],[0.4444444444444444,\"#bd3786\"],[0.5555555555555556,\"#d8576b\"],[0.6666666666666666,\"#ed7953\"],[0.7777777777777778,\"#fb9f3a\"],[0.8888888888888888,\"#fdca26\"],[1.0,\"#f0f921\"]],\"diverging\":[[0,\"#8e0152\"],[0.1,\"#c51b7d\"],[0.2,\"#de77ae\"],[0.3,\"#f1b6da\"],[0.4,\"#fde0ef\"],[0.5,\"#f7f7f7\"],[0.6,\"#e6f5d0\"],[0.7,\"#b8e186\"],[0.8,\"#7fbc41\"],[0.9,\"#4d9221\"],[1,\"#276419\"]]},\"xaxis\":{\"gridcolor\":\"white\",\"linecolor\":\"white\",\"ticks\":\"\",\"title\":{\"standoff\":15},\"zerolinecolor\":\"white\",\"automargin\":true,\"zerolinewidth\":2},\"yaxis\":{\"gridcolor\":\"white\",\"linecolor\":\"white\",\"ticks\":\"\",\"title\":{\"standoff\":15},\"zerolinecolor\":\"white\",\"automargin\":true,\"zerolinewidth\":2},\"scene\":{\"xaxis\":{\"backgroundcolor\":\"#E5ECF6\",\"gridcolor\":\"white\",\"linecolor\":\"white\",\"showbackground\":true,\"ticks\":\"\",\"zerolinecolor\":\"white\",\"gridwidth\":2},\"yaxis\":{\"backgroundcolor\":\"#E5ECF6\",\"gridcolor\":\"white\",\"linecolor\":\"white\",\"showbackground\":true,\"ticks\":\"\",\"zerolinecolor\":\"white\",\"gridwidth\":2},\"zaxis\":{\"backgroundcolor\":\"#E5ECF6\",\"gridcolor\":\"white\",\"linecolor\":\"white\",\"showbackground\":true,\"ticks\":\"\",\"zerolinecolor\":\"white\",\"gridwidth\":2}},\"shapedefaults\":{\"line\":{\"color\":\"#2a3f5f\"}},\"annotationdefaults\":{\"arrowcolor\":\"#2a3f5f\",\"arrowhead\":0,\"arrowwidth\":1},\"geo\":{\"bgcolor\":\"white\",\"landcolor\":\"#E5ECF6\",\"subunitcolor\":\"white\",\"showland\":true,\"showlakes\":true,\"lakecolor\":\"white\"},\"title\":{\"x\":0.05},\"mapbox\":{\"style\":\"light\"}}},\"xaxis\":{\"anchor\":\"y\",\"domain\":[0.0,1.0],\"title\":{\"text\":\"PC1\"}},\"yaxis\":{\"anchor\":\"x\",\"domain\":[0.0,1.0],\"title\":{\"text\":\"PC2\"}},\"legend\":{\"title\":{\"text\":\"color\"},\"tracegroupgap\":0},\"margin\":{\"t\":60}},                        {\"responsive\": true}                    ).then(function(){\n",
       "                            \n",
       "var gd = document.getElementById('68346907-be01-44cf-bd12-00b8fdf8d206');\n",
       "var x = new MutationObserver(function (mutations, observer) {{\n",
       "        var display = window.getComputedStyle(gd).display;\n",
       "        if (!display || display === 'none') {{\n",
       "            console.log([gd, 'removed!']);\n",
       "            Plotly.purge(gd);\n",
       "            observer.disconnect();\n",
       "        }}\n",
       "}});\n",
       "\n",
       "// Listen for the removal of the full notebook cells\n",
       "var notebookContainer = gd.closest('#notebook-container');\n",
       "if (notebookContainer) {{\n",
       "    x.observe(notebookContainer, {childList: true});\n",
       "}}\n",
       "\n",
       "// Listen for the clearing of the current output cell\n",
       "var outputEl = gd.closest('.output');\n",
       "if (outputEl) {{\n",
       "    x.observe(outputEl, {childList: true});\n",
       "}}\n",
       "\n",
       "                        })                };                });            </script>        </div>"
      ]
     },
     "metadata": {},
     "output_type": "display_data"
    }
   ],
   "source": [
    "px.scatter(data_frame=df_pca, x=\"PC1\", y=\"PC2\", color=df_pred.pred_KM.astype(str), hover_name=df.index)"
   ]
  },
  {
   "cell_type": "markdown",
   "metadata": {},
   "source": [
    "### PCA & Clustering Interpretation"
   ]
  },
  {
   "cell_type": "code",
   "execution_count": 150,
   "metadata": {},
   "outputs": [
    {
     "data": {
      "text/plain": [
       "array([0.62920572, 0.13167304, 0.09705901, 0.06659198, 0.03362041,\n",
       "       0.02024791, 0.01234709, 0.00589172, 0.00336312])"
      ]
     },
     "execution_count": 150,
     "metadata": {},
     "output_type": "execute_result"
    }
   ],
   "source": [
    "pca.explained_variance_ratio_"
   ]
  },
  {
   "cell_type": "markdown",
   "metadata": {},
   "source": [
    "## Relationship between Original Variables & Components\n",
    "\n",
    "- [X] What do the columns PC1 & PC2 have to do with the original variables (speeding, alcohol, total,...)?\n",
    "> They explain the most of the variability of the data, with `69%` for PC1 and `13%` for PC2"
   ]
  },
  {
   "cell_type": "markdown",
   "metadata": {},
   "source": [
    "### Loading Vectors"
   ]
  },
  {
   "cell_type": "code",
   "execution_count": 151,
   "metadata": {},
   "outputs": [
    {
     "data": {
      "text/html": [
       "<div>\n",
       "<style scoped>\n",
       "    .dataframe tbody tr th:only-of-type {\n",
       "        vertical-align: middle;\n",
       "    }\n",
       "\n",
       "    .dataframe tbody tr th {\n",
       "        vertical-align: top;\n",
       "    }\n",
       "\n",
       "    .dataframe thead th {\n",
       "        text-align: right;\n",
       "    }\n",
       "</style>\n",
       "<table border=\"1\" class=\"dataframe\">\n",
       "  <thead>\n",
       "    <tr style=\"text-align: right;\">\n",
       "      <th></th>\n",
       "      <th>PC1</th>\n",
       "      <th>PC2</th>\n",
       "      <th>PC3</th>\n",
       "      <th>PC4</th>\n",
       "      <th>PC5</th>\n",
       "      <th>PC6</th>\n",
       "      <th>PC7</th>\n",
       "      <th>PC8</th>\n",
       "      <th>PC9</th>\n",
       "    </tr>\n",
       "  </thead>\n",
       "  <tbody>\n",
       "    <tr>\n",
       "      <th>mpg</th>\n",
       "      <td>-0.374705</td>\n",
       "      <td>-0.046189</td>\n",
       "      <td>-0.257296</td>\n",
       "      <td>-0.199342</td>\n",
       "      <td>0.031205</td>\n",
       "      <td>0.755299</td>\n",
       "      <td>0.354683</td>\n",
       "      <td>-0.195030</td>\n",
       "      <td>-0.127427</td>\n",
       "    </tr>\n",
       "    <tr>\n",
       "      <th>cylinders</th>\n",
       "      <td>0.390297</td>\n",
       "      <td>0.020630</td>\n",
       "      <td>-0.163054</td>\n",
       "      <td>0.222610</td>\n",
       "      <td>-0.000059</td>\n",
       "      <td>0.472667</td>\n",
       "      <td>-0.549276</td>\n",
       "      <td>0.314814</td>\n",
       "      <td>-0.383243</td>\n",
       "    </tr>\n",
       "    <tr>\n",
       "      <th>displacement</th>\n",
       "      <td>0.404817</td>\n",
       "      <td>0.014770</td>\n",
       "      <td>-0.150779</td>\n",
       "      <td>0.153581</td>\n",
       "      <td>-0.009156</td>\n",
       "      <td>0.297809</td>\n",
       "      <td>0.004035</td>\n",
       "      <td>-0.121299</td>\n",
       "      <td>0.828299</td>\n",
       "    </tr>\n",
       "    <tr>\n",
       "      <th>horsepower</th>\n",
       "      <td>0.385138</td>\n",
       "      <td>0.233024</td>\n",
       "      <td>-0.156907</td>\n",
       "      <td>-0.007860</td>\n",
       "      <td>0.169984</td>\n",
       "      <td>-0.055093</td>\n",
       "      <td>0.667713</td>\n",
       "      <td>0.528806</td>\n",
       "      <td>-0.123615</td>\n",
       "    </tr>\n",
       "    <tr>\n",
       "      <th>weight</th>\n",
       "      <td>0.390189</td>\n",
       "      <td>-0.040777</td>\n",
       "      <td>-0.136605</td>\n",
       "      <td>0.342554</td>\n",
       "      <td>0.205570</td>\n",
       "      <td>-0.106440</td>\n",
       "      <td>0.196891</td>\n",
       "      <td>-0.707468</td>\n",
       "      <td>-0.342374</td>\n",
       "    </tr>\n",
       "    <tr>\n",
       "      <th>acceleration</th>\n",
       "      <td>-0.249862</td>\n",
       "      <td>-0.447718</td>\n",
       "      <td>0.279268</td>\n",
       "      <td>0.743318</td>\n",
       "      <td>0.005795</td>\n",
       "      <td>0.103036</td>\n",
       "      <td>0.213376</td>\n",
       "      <td>0.221399</td>\n",
       "      <td>0.037513</td>\n",
       "    </tr>\n",
       "    <tr>\n",
       "      <th>model_year</th>\n",
       "      <td>-0.201926</td>\n",
       "      <td>-0.346888</td>\n",
       "      <td>-0.826340</td>\n",
       "      <td>0.063921</td>\n",
       "      <td>0.175107</td>\n",
       "      <td>-0.294713</td>\n",
       "      <td>-0.113877</td>\n",
       "      <td>0.128827</td>\n",
       "      <td>0.069917</td>\n",
       "    </tr>\n",
       "    <tr>\n",
       "      <th>origin_japan</th>\n",
       "      <td>-0.228405</td>\n",
       "      <td>0.607000</td>\n",
       "      <td>-0.276675</td>\n",
       "      <td>0.411797</td>\n",
       "      <td>-0.570073</td>\n",
       "      <td>-0.068650</td>\n",
       "      <td>0.033738</td>\n",
       "      <td>-0.047016</td>\n",
       "      <td>-0.014582</td>\n",
       "    </tr>\n",
       "    <tr>\n",
       "      <th>origin_usa</th>\n",
       "      <td>0.295694</td>\n",
       "      <td>-0.502024</td>\n",
       "      <td>-0.061804</td>\n",
       "      <td>-0.208639</td>\n",
       "      <td>-0.756379</td>\n",
       "      <td>-0.029489</td>\n",
       "      <td>0.168039</td>\n",
       "      <td>-0.013082</td>\n",
       "      <td>-0.108621</td>\n",
       "    </tr>\n",
       "  </tbody>\n",
       "</table>\n",
       "</div>"
      ],
      "text/plain": [
       "                   PC1       PC2       PC3       PC4       PC5       PC6  \\\n",
       "mpg          -0.374705 -0.046189 -0.257296 -0.199342  0.031205  0.755299   \n",
       "cylinders     0.390297  0.020630 -0.163054  0.222610 -0.000059  0.472667   \n",
       "displacement  0.404817  0.014770 -0.150779  0.153581 -0.009156  0.297809   \n",
       "horsepower    0.385138  0.233024 -0.156907 -0.007860  0.169984 -0.055093   \n",
       "weight        0.390189 -0.040777 -0.136605  0.342554  0.205570 -0.106440   \n",
       "acceleration -0.249862 -0.447718  0.279268  0.743318  0.005795  0.103036   \n",
       "model_year   -0.201926 -0.346888 -0.826340  0.063921  0.175107 -0.294713   \n",
       "origin_japan -0.228405  0.607000 -0.276675  0.411797 -0.570073 -0.068650   \n",
       "origin_usa    0.295694 -0.502024 -0.061804 -0.208639 -0.756379 -0.029489   \n",
       "\n",
       "                   PC7       PC8       PC9  \n",
       "mpg           0.354683 -0.195030 -0.127427  \n",
       "cylinders    -0.549276  0.314814 -0.383243  \n",
       "displacement  0.004035 -0.121299  0.828299  \n",
       "horsepower    0.667713  0.528806 -0.123615  \n",
       "weight        0.196891 -0.707468 -0.342374  \n",
       "acceleration  0.213376  0.221399  0.037513  \n",
       "model_year   -0.113877  0.128827  0.069917  \n",
       "origin_japan  0.033738 -0.047016 -0.014582  \n",
       "origin_usa    0.168039 -0.013082 -0.108621  "
      ]
     },
     "execution_count": 151,
     "metadata": {},
     "output_type": "execute_result"
    }
   ],
   "source": [
    "df_weights = pd.DataFrame(pca.components_.T, columns=df_pca.columns, index=df_scaled.columns)\n",
    "\n",
    "df_weights"
   ]
  },
  {
   "cell_type": "markdown",
   "metadata": {},
   "source": [
    "### Correlation Matrix"
   ]
  },
  {
   "cell_type": "code",
   "execution_count": 152,
   "metadata": {},
   "outputs": [
    {
     "data": {
      "image/png": "[encoded data removed]",
      "text/plain": [
       "<Figure size 640x480 with 2 Axes>"
      ]
     },
     "metadata": {},
     "output_type": "display_data"
    }
   ],
   "source": [
    "df_corr = df_scaled.corr()\n",
    "sns.heatmap(df_corr, annot=True, vmin=0, vmax=1);"
   ]
  },
  {
   "cell_type": "markdown",
   "metadata": {},
   "source": [
    "- [X] Which conclusions could you relate from the relationship of the 2 previous plots?\n",
    "> The points aren´t now mixed, because we transformed it to 2-D data"
   ]
  },
  {
   "cell_type": "markdown",
   "metadata": {},
   "source": [
    "### Calculating One PCA Value"
   ]
  },
  {
   "cell_type": "markdown",
   "metadata": {},
   "source": [
    "- [X] How did we obtain `3.56` for **buick skylark 320** in **PC1**?"
   ]
  },
  {
   "cell_type": "markdown",
   "metadata": {},
   "source": [
    "*You can see the actual PCA value for the `buick skylark 320` model*"
   ]
  },
  {
   "cell_type": "code",
   "execution_count": 163,
   "metadata": {},
   "outputs": [
    {
     "data": {
      "text/html": [
       "<div>\n",
       "<style scoped>\n",
       "    .dataframe tbody tr th:only-of-type {\n",
       "        vertical-align: middle;\n",
       "    }\n",
       "\n",
       "    .dataframe tbody tr th {\n",
       "        vertical-align: top;\n",
       "    }\n",
       "\n",
       "    .dataframe thead th {\n",
       "        text-align: right;\n",
       "    }\n",
       "</style>\n",
       "<table border=\"1\" class=\"dataframe\">\n",
       "  <thead>\n",
       "    <tr style=\"text-align: right;\">\n",
       "      <th></th>\n",
       "      <th>PC1</th>\n",
       "      <th>PC2</th>\n",
       "      <th>PC3</th>\n",
       "      <th>PC4</th>\n",
       "      <th>PC5</th>\n",
       "      <th>PC6</th>\n",
       "      <th>PC7</th>\n",
       "      <th>PC8</th>\n",
       "      <th>PC9</th>\n",
       "    </tr>\n",
       "    <tr>\n",
       "      <th>name</th>\n",
       "      <th></th>\n",
       "      <th></th>\n",
       "      <th></th>\n",
       "      <th></th>\n",
       "      <th></th>\n",
       "      <th></th>\n",
       "      <th></th>\n",
       "      <th></th>\n",
       "      <th></th>\n",
       "    </tr>\n",
       "  </thead>\n",
       "  <tbody>\n",
       "    <tr>\n",
       "      <th>chevrolet chevelle malibu</th>\n",
       "      <td>2.768102</td>\n",
       "      <td>0.653669</td>\n",
       "      <td>0.661643</td>\n",
       "      <td>-0.585333</td>\n",
       "      <td>-0.382837</td>\n",
       "      <td>0.750140</td>\n",
       "      <td>-0.46886</td>\n",
       "      <td>-0.095520</td>\n",
       "      <td>-0.120586</td>\n",
       "    </tr>\n",
       "    <tr>\n",
       "      <th>buick skylark 320</th>\n",
       "      <td>3.561796</td>\n",
       "      <td>0.961842</td>\n",
       "      <td>0.474659</td>\n",
       "      <td>-0.511149</td>\n",
       "      <td>-0.199102</td>\n",
       "      <td>0.489416</td>\n",
       "      <td>0.00937</td>\n",
       "      <td>0.213293</td>\n",
       "      <td>0.073620</td>\n",
       "    </tr>\n",
       "  </tbody>\n",
       "</table>\n",
       "</div>"
      ],
      "text/plain": [
       "                                PC1       PC2       PC3       PC4       PC5  \\\n",
       "name                                                                          \n",
       "chevrolet chevelle malibu  2.768102  0.653669  0.661643 -0.585333 -0.382837   \n",
       "buick skylark 320          3.561796  0.961842  0.474659 -0.511149 -0.199102   \n",
       "\n",
       "                                PC6      PC7       PC8       PC9  \n",
       "name                                                              \n",
       "chevrolet chevelle malibu  0.750140 -0.46886 -0.095520 -0.120586  \n",
       "buick skylark 320          0.489416  0.00937  0.213293  0.073620  "
      ]
     },
     "execution_count": 163,
     "metadata": {},
     "output_type": "execute_result"
    }
   ],
   "source": [
    "df_pca.head(2)"
   ]
  },
  {
   "cell_type": "markdown",
   "metadata": {},
   "source": [
    "*We just multiply the weight of PC1 by all the features of the original data of the car, and we get the sum:*"
   ]
  },
  {
   "cell_type": "code",
   "execution_count": 156,
   "metadata": {},
   "outputs": [
    {
     "data": {
      "text/plain": [
       "3.561795612113786"
      ]
     },
     "execution_count": 156,
     "metadata": {},
     "output_type": "execute_result"
    }
   ],
   "source": [
    "(df_weights['PC1'] * df_scaled.loc['buick skylark 320']).sum()"
   ]
  },
  {
   "cell_type": "code",
   "execution_count": null,
   "metadata": {},
   "outputs": [],
   "source": []
  },
  {
   "cell_type": "markdown",
   "metadata": {},
   "source": [
    "## Explained Variance Ratio"
   ]
  },
  {
   "cell_type": "code",
   "execution_count": 167,
   "metadata": {},
   "outputs": [
    {
     "data": {
      "text/plain": [
       "Index(['PC1', 'PC2', 'PC3', 'PC4', 'PC5', 'PC6', 'PC7', 'PC8', 'PC9'], dtype='object')"
      ]
     },
     "execution_count": 167,
     "metadata": {},
     "output_type": "execute_result"
    }
   ],
   "source": [
    "df_pca.columns"
   ]
  },
  {
   "cell_type": "code",
   "execution_count": 166,
   "metadata": {},
   "outputs": [
    {
     "data": {
      "text/plain": [
       "array([0.62920572, 0.13167304, 0.09705901, 0.06659198, 0.03362041,\n",
       "       0.02024791, 0.01234709, 0.00589172, 0.00336312])"
      ]
     },
     "execution_count": 166,
     "metadata": {},
     "output_type": "execute_result"
    }
   ],
   "source": [
    "pca.explained_variance_ratio_"
   ]
  },
  {
   "cell_type": "code",
   "execution_count": 173,
   "metadata": {},
   "outputs": [
    {
     "data": {
      "text/html": [
       "<style type=\"text/css\">\n",
       "#T_cec1d_row0_col0 {\n",
       "  background-color: #023858;\n",
       "  color: #f1f1f1;\n",
       "}\n",
       "#T_cec1d_row1_col0 {\n",
       "  background-color: #dad9ea;\n",
       "  color: #000000;\n",
       "}\n",
       "#T_cec1d_row2_col0 {\n",
       "  background-color: #e7e3f0;\n",
       "  color: #000000;\n",
       "}\n",
       "#T_cec1d_row3_col0 {\n",
       "  background-color: #f0eaf4;\n",
       "  color: #000000;\n",
       "}\n",
       "#T_cec1d_row4_col0 {\n",
       "  background-color: #f8f1f8;\n",
       "  color: #000000;\n",
       "}\n",
       "#T_cec1d_row5_col0 {\n",
       "  background-color: #fbf4f9;\n",
       "  color: #000000;\n",
       "}\n",
       "#T_cec1d_row6_col0 {\n",
       "  background-color: #fdf5fa;\n",
       "  color: #000000;\n",
       "}\n",
       "#T_cec1d_row7_col0 {\n",
       "  background-color: #fef6fb;\n",
       "  color: #000000;\n",
       "}\n",
       "#T_cec1d_row8_col0 {\n",
       "  background-color: #fff7fb;\n",
       "  color: #000000;\n",
       "}\n",
       "</style>\n",
       "<table id=\"T_cec1d\">\n",
       "  <thead>\n",
       "    <tr>\n",
       "      <th class=\"blank level0\" >&nbsp;</th>\n",
       "      <th id=\"T_cec1d_level0_col0\" class=\"col_heading level0 col0\" >Explained variance ratio for each PC</th>\n",
       "    </tr>\n",
       "  </thead>\n",
       "  <tbody>\n",
       "    <tr>\n",
       "      <th id=\"T_cec1d_level0_row0\" class=\"row_heading level0 row0\" >PC1</th>\n",
       "      <td id=\"T_cec1d_row0_col0\" class=\"data row0 col0\" >0.629206</td>\n",
       "    </tr>\n",
       "    <tr>\n",
       "      <th id=\"T_cec1d_level0_row1\" class=\"row_heading level0 row1\" >PC2</th>\n",
       "      <td id=\"T_cec1d_row1_col0\" class=\"data row1 col0\" >0.131673</td>\n",
       "    </tr>\n",
       "    <tr>\n",
       "      <th id=\"T_cec1d_level0_row2\" class=\"row_heading level0 row2\" >PC3</th>\n",
       "      <td id=\"T_cec1d_row2_col0\" class=\"data row2 col0\" >0.097059</td>\n",
       "    </tr>\n",
       "    <tr>\n",
       "      <th id=\"T_cec1d_level0_row3\" class=\"row_heading level0 row3\" >PC4</th>\n",
       "      <td id=\"T_cec1d_row3_col0\" class=\"data row3 col0\" >0.066592</td>\n",
       "    </tr>\n",
       "    <tr>\n",
       "      <th id=\"T_cec1d_level0_row4\" class=\"row_heading level0 row4\" >PC5</th>\n",
       "      <td id=\"T_cec1d_row4_col0\" class=\"data row4 col0\" >0.033620</td>\n",
       "    </tr>\n",
       "    <tr>\n",
       "      <th id=\"T_cec1d_level0_row5\" class=\"row_heading level0 row5\" >PC6</th>\n",
       "      <td id=\"T_cec1d_row5_col0\" class=\"data row5 col0\" >0.020248</td>\n",
       "    </tr>\n",
       "    <tr>\n",
       "      <th id=\"T_cec1d_level0_row6\" class=\"row_heading level0 row6\" >PC7</th>\n",
       "      <td id=\"T_cec1d_row6_col0\" class=\"data row6 col0\" >0.012347</td>\n",
       "    </tr>\n",
       "    <tr>\n",
       "      <th id=\"T_cec1d_level0_row7\" class=\"row_heading level0 row7\" >PC8</th>\n",
       "      <td id=\"T_cec1d_row7_col0\" class=\"data row7 col0\" >0.005892</td>\n",
       "    </tr>\n",
       "    <tr>\n",
       "      <th id=\"T_cec1d_level0_row8\" class=\"row_heading level0 row8\" >PC9</th>\n",
       "      <td id=\"T_cec1d_row8_col0\" class=\"data row8 col0\" >0.003363</td>\n",
       "    </tr>\n",
       "  </tbody>\n",
       "</table>\n"
      ],
      "text/plain": [
       "<pandas.io.formats.style.Styler at 0x1cff772ed90>"
      ]
     },
     "execution_count": 173,
     "metadata": {},
     "output_type": "execute_result"
    }
   ],
   "source": [
    "pd.DataFrame(data=pca.explained_variance_ratio_, index=df_pca.columns, columns=[\"Explained variance ratio for each PC\"]).style.background_gradient()"
   ]
  },
  {
   "cell_type": "markdown",
   "metadata": {},
   "source": [
    "### Biplot"
   ]
  },
  {
   "cell_type": "code",
   "execution_count": 175,
   "metadata": {},
   "outputs": [
    {
     "data": {
      "application/vnd.plotly.v1+json": {
       "config": {
        "plotlyServerURL": "https://plot.ly"
       },
       "data": [
        {
         "hovertemplate": "<b>%{hovertext}</b><br><br>color=2<br>PC1 ~ 0.63%=%{x}<br>PC2 ~ 0.13%=%{y}<extra></extra>",
         "hovertext": [
          "chevrolet chevelle malibu",
          "buick skylark 320",
          "plymouth satellite",
          "amc rebel sst",
          "ford torino",
          "ford galaxie 500",
          "chevrolet impala",
          "plymouth fury iii",
          "pontiac catalina",
          "amc ambassador dpl",
          "dodge challenger se",
          "plymouth 'cuda 340",
          "chevrolet monte carlo",
          "buick estate wagon (sw)",
          "ford f250",
          "chevy c20",
          "dodge d200",
          "hi 1200d",
          "chevrolet impala",
          "pontiac catalina brougham",
          "ford galaxie 500",
          "plymouth fury iii",
          "dodge monaco (sw)",
          "ford country squire (sw)",
          "pontiac safari (sw)",
          "chevrolet impala",
          "pontiac catalina",
          "plymouth fury iii",
          "ford galaxie 500",
          "amc ambassador sst",
          "mercury marquis",
          "buick lesabre custom",
          "oldsmobile delta 88 royale",
          "chrysler newport royal",
          "amc matador (sw)",
          "chevrolet chevelle concours (sw)",
          "ford gran torino (sw)",
          "plymouth satellite custom (sw)",
          "buick century 350",
          "amc matador",
          "chevrolet malibu",
          "ford gran torino",
          "dodge coronet custom",
          "mercury marquis brougham",
          "chevrolet caprice classic",
          "ford ltd",
          "plymouth fury gran sedan",
          "chrysler new yorker brougham",
          "buick electra 225 custom",
          "amc ambassador brougham",
          "chevrolet impala",
          "ford country",
          "plymouth custom suburb",
          "oldsmobile vista cruiser",
          "chevrolet monte carlo s",
          "pontiac grand prix",
          "dodge dart custom",
          "oldsmobile omega",
          "ford gran torino",
          "buick century luxus (sw)",
          "dodge coronet custom (sw)",
          "ford gran torino (sw)",
          "amc matador (sw)",
          "pontiac catalina",
          "chevrolet bel air",
          "plymouth grand fury",
          "ford ltd",
          "chevrolet monza 2+2",
          "ford mustang ii",
          "chevrolet chevelle malibu classic",
          "dodge coronet brougham",
          "amc matador",
          "ford gran torino",
          "plymouth volare premier v8",
          "cadillac seville",
          "chevy c10",
          "ford f108",
          "dodge d100",
          "chevrolet caprice classic",
          "dodge monaco brougham",
          "mercury cougar brougham",
          "pontiac grand prix lj",
          "chevrolet monte carlo landau",
          "chrysler cordoba",
          "ford thunderbird",
          "dodge diplomat",
          "mercury monarch ghia",
          "chevrolet monte carlo landau",
          "buick regal sport coupe (turbo)",
          "ford futura",
          "dodge magnum xe",
          "chevrolet caprice classic",
          "ford ltd landau",
          "mercury grand marquis",
          "dodge st. regis",
          "buick estate wagon (sw)",
          "ford country squire (sw)",
          "chevrolet malibu classic (sw)",
          "chrysler lebaron town @ country (sw)",
          "cadillac eldorado"
         ],
         "legendgroup": "2",
         "marker": {
          "color": "#636efa",
          "symbol": "circle"
         },
         "mode": "markers",
         "name": "2",
         "orientation": "v",
         "showlegend": true,
         "type": "scatter",
         "x": [
          2.7681015408711955,
          3.56179561211379,
          3.070488709648946,
          3.020336929873964,
          3.0077171090836745,
          4.632490431458015,
          5.094469429700944,
          5.016170883199184,
          5.090410338149975,
          4.311461998206057,
          3.815943006597266,
          3.7997906445666954,
          3.817831087801163,
          4.474529595624322,
          4.53918410921465,
          3.9829985413493456,
          4.216507495361385,
          3.79567175564488,
          3.7469755307411186,
          4.203465298813926,
          3.4693032930810928,
          3.330087048340598,
          4.509687361981959,
          4.2858077453444485,
          4.5171236466816005,
          3.770056782051475,
          4.066901911248672,
          3.1997288007521276,
          3.4482602630809294,
          3.0177670685735385,
          4.8588089689217355,
          3.6387158952704883,
          3.7157209067479133,
          4.236928551522717,
          3.124413860993699,
          2.990526928281096,
          2.9801321348754573,
          3.1757796318058906,
          3.6446429006767413,
          3.1070904723215778,
          3.2925678303444665,
          2.8672362574814447,
          3.0708618813424025,
          4.757051654295554,
          3.8459558539097793,
          3.5991673731083695,
          3.149145667290398,
          4.86743840278331,
          5.173147058401884,
          3.7364153432611436,
          4.005886047171804,
          4.222301906026264,
          3.8880996463395467,
          3.9716695923375522,
          3.2396643945111485,
          4.64439544494527,
          3.0330227307451003,
          3.771700304215895,
          2.8371444666867793,
          3.4787800717914092,
          3.286133168478003,
          2.9805162531295926,
          2.958548083744805,
          3.9315216169370175,
          3.2038747837893307,
          3.0632838207807236,
          3.4310256548138875,
          1.7566640632710429,
          2.5505510377939395,
          2.791608842396015,
          3.00275606228804,
          2.485518030835943,
          3.2523574799124373,
          3.013839490368152,
          3.5722380568002956,
          3.2494110824627294,
          2.556064930534058,
          2.8562014796781856,
          2.6780728692684352,
          2.8353363230094213,
          2.6095896109782646,
          3.7521501976652263,
          3.4298229470206048,
          3.8249160234149127,
          2.9963455292088734,
          2.4019451841723463,
          2.251875846060635,
          2.268711187642098,
          1.7874147479698723,
          2.3300306345359965,
          2.6066208545898424,
          2.1606784576243663,
          2.2386682110746827,
          2.695438735406615,
          2.2169802029298316,
          2.874776174976425,
          2.729367640272802,
          1.7858239323350569,
          2.765621824280496,
          1.842704845674252
         ],
         "xaxis": "x",
         "y": [
          0.6536686698172093,
          0.9618424410466512,
          0.9422170408259082,
          0.7897426311564694,
          0.9658848801234102,
          1.385631719999814,
          1.6903140188207046,
          1.741291309491739,
          1.5548599921028214,
          1.598964465108217,
          1.2468001591473186,
          1.508802472872219,
          1.19969657088571,
          1.6192235455454065,
          0.8454218116774037,
          0.5960032585264778,
          0.8956975398278169,
          -0.026758099262877148,
          0.7674314988142187,
          0.9041029397038345,
          0.4537395827492977,
          0.5149241805420599,
          0.9202583268148069,
          0.7849191070376162,
          0.7962886945067532,
          0.6759449061474152,
          0.7323671916642891,
          0.33159087568377693,
          0.44189916782822763,
          0.664999039787268,
          1.1048484639522391,
          0.36063172471550825,
          0.399076885589277,
          0.7461942188215548,
          0.5037839493161864,
          0.14118617392479504,
          -0.1333068550883005,
          0.2590588173626157,
          0.4881471950506495,
          0.5884878687200882,
          0.3116796908835479,
          0.004144671501016784,
          0.41700274213847244,
          0.8474389601999827,
          0.48866500666293583,
          0.3725975468908908,
          0.07583472781987526,
          1.0377934014973884,
          1.0960730681762727,
          0.8279535841508692,
          0.14991348963541812,
          0.495147752958943,
          0.4326220505001572,
          0.5864474419466877,
          0.2953102864237035,
          1.3709932540772922,
          0.6789091257072588,
          0.8762465612864415,
          -0.007322082903606294,
          -0.030212571325996078,
          0.13346307381914563,
          -0.34434313844947084,
          -0.18388386867439444,
          0.47498693921648905,
          -0.072964490892411,
          -0.137137369087471,
          0.0221021155470871,
          -0.1873474670233367,
          0.22119249727540732,
          -0.04542764554521349,
          0.02711659131318399,
          -0.28903272661515955,
          0.08408849515691762,
          0.024411945754208415,
          0.3476363789560629,
          0.18808722427222985,
          -0.3882024408153345,
          -0.09668822523783964,
          -0.012058337355936626,
          -0.2058571273586719,
          -0.49852101165119733,
          0.4335597612536113,
          0.3227355948485528,
          0.31335225240818537,
          -0.3192754389696698,
          -0.2528494926443586,
          -0.19298511612063807,
          -0.20829191232438818,
          -0.146306607376654,
          0.096989007234508,
          -0.33942016611914505,
          -0.7578976865132768,
          -0.43742874992661945,
          -0.34798790138248525,
          -0.6998836165203445,
          -0.5431528659134572,
          -0.5013144880885357,
          -0.7303202057284286,
          -0.2526072473687307,
          -1.1452656197464428
         ],
         "yaxis": "y"
        },
        {
         "hovertemplate": "<b>%{hovertext}</b><br><br>color=1<br>PC1 ~ 0.63%=%{x}<br>PC2 ~ 0.13%=%{y}<extra></extra>",
         "hovertext": [
          "toyota corona mark ii",
          "datsun pl510",
          "volkswagen 1131 deluxe sedan",
          "peugeot 504",
          "audi 100 ls",
          "saab 99e",
          "bmw 2002",
          "datsun pl510",
          "toyota corona",
          "opel 1900",
          "peugeot 304",
          "fiat 124b",
          "toyota corolla 1200",
          "datsun 1200",
          "volkswagen model 111",
          "toyota corona hardtop",
          "volkswagen type 3",
          "mazda rx2 coupe",
          "volvo 145e (sw)",
          "volkswagen 411 (sw)",
          "peugeot 504 (sw)",
          "renault 12 (sw)",
          "datsun 510 (sw)",
          "toyouta corona mark ii (sw)",
          "toyota corolla 1600 (sw)",
          "volkswagen super beetle",
          "toyota carina",
          "datsun 610",
          "maxda rx3",
          "fiat 124 sport coupe",
          "fiat 128",
          "opel manta",
          "audi 100ls",
          "volvo 144ea",
          "saab 99le",
          "toyota mark ii",
          "datsun b210",
          "toyota corolla 1200",
          "audi fox",
          "volkswagen dasher",
          "opel manta",
          "toyota corona",
          "datsun 710",
          "fiat 128",
          "fiat 124 tc",
          "honda civic",
          "subaru",
          "fiat x1.9",
          "toyota corolla",
          "toyota corona",
          "volkswagen dasher",
          "datsun 710",
          "volkswagen rabbit",
          "audi 100ls",
          "peugeot 504",
          "volvo 244dl",
          "saab 99le",
          "honda civic cvcc",
          "fiat 131",
          "opel 1900",
          "renault 12tl",
          "vw rabbit",
          "honda civic",
          "volkswagen rabbit",
          "datsun b-210",
          "toyota corolla",
          "volvo 245",
          "toyota mark ii",
          "honda accord cvcc",
          "renault 5 gtl",
          "datsun f-10 hatchback",
          "volkswagen rabbit custom",
          "toyota corolla liftback",
          "subaru dl",
          "volkswagen dasher",
          "datsun 810",
          "bmw 320i",
          "mazda rx-4",
          "volkswagen rabbit custom diesel",
          "mazda glc deluxe",
          "datsun b210 gx",
          "honda civic cvcc",
          "toyota corona",
          "datsun 510",
          "toyota celica gt liftback",
          "datsun 200-sx",
          "saab 99gle",
          "volkswagen scirocco",
          "honda accord lx",
          "vw rabbit custom",
          "maxda glc deluxe",
          "peugeot 504",
          "datsun 210",
          "fiat strada custom",
          "vw rabbit",
          "toyota corolla tercel",
          "datsun 310",
          "audi 4000",
          "toyota corona liftback",
          "mazda 626",
          "datsun 510 hatchback",
          "toyota corolla",
          "mazda glc",
          "datsun 210",
          "vw rabbit c (diesel)",
          "vw dasher (diesel)",
          "audi 5000s (diesel)",
          "mercedes-benz 240d",
          "honda civic 1500 gl",
          "subaru dl",
          "vokswagen rabbit",
          "datsun 280-zx",
          "mazda rx-7 gs",
          "triumph tr7 coupe",
          "honda accord",
          "toyota starlet",
          "honda civic 1300",
          "subaru",
          "datsun 210 mpg",
          "toyota tercel",
          "mazda glc 4",
          "volkswagen jetta",
          "honda prelude",
          "toyota corolla",
          "datsun 200sx",
          "mazda 626",
          "peugeot 505s turbo diesel",
          "volvo diesel",
          "toyota cressida",
          "datsun 810 maxima",
          "volkswagen rabbit l",
          "mazda glc custom l",
          "mazda glc custom",
          "nissan stanza xe",
          "honda accord",
          "toyota corolla",
          "honda civic",
          "honda civic (auto)",
          "datsun 310 gx",
          "toyota celica gt",
          "vw pickup"
         ],
         "legendgroup": "1",
         "marker": {
          "color": "#EF553B",
          "symbol": "circle"
         },
         "mode": "markers",
         "name": "1",
         "orientation": "v",
         "showlegend": true,
         "type": "scatter",
         "x": [
          -1.5117090900327224,
          -1.853991954600449,
          -2.3371052062836335,
          -1.1708840167191024,
          -0.9436398046030898,
          -1.2505822929287733,
          -0.6639071167898434,
          -1.908877464644297,
          -1.5902151179477673,
          -1.251807765724924,
          -2.2129313575175025,
          -1.6686840764773176,
          -3.00457189626777,
          -3.135812489521799,
          -2.1642348431144685,
          -1.710057323816496,
          -2.3018447569371925,
          -1.6400477727138805,
          -0.25899612992853727,
          -1.3234376539824444,
          -1.0898009652878262,
          -1.8307891304318469,
          -2.1257918030002956,
          -1.4192834730357575,
          -2.158927141710039,
          -2.494208199410836,
          -2.0216999762290975,
          -1.7424167430361015,
          -1.8117452012346877,
          -1.4058721965382135,
          -2.622843658548153,
          -1.4395059174676494,
          -0.7636302480116384,
          -0.48253114866286534,
          -0.7025633473933527,
          -0.25271862326126954,
          -3.0367912438032882,
          -3.3696863470688756,
          -1.7869380049213195,
          -1.9036894369634672,
          -1.478073979005518,
          -3.1104314483765876,
          -3.1051013923247304,
          -1.6180991767383162,
          -1.4140304768102703,
          -1.630284752386848,
          -1.90339725608961,
          -2.17236063772056,
          -2.471967394462308,
          -1.4069657942440772,
          -1.7989168316292197,
          -1.8446516954605479,
          -1.906054525637935,
          -1.012829755461247,
          -1.1239902617662987,
          -0.7506730887270671,
          -0.7599097807329928,
          -3.216864874146908,
          -1.5803503388483444,
          -1.6905586702330213,
          -1.6879493197806328,
          -1.9790765851490382,
          -3.262682109457127,
          -1.8361280647836742,
          -2.941571414204024,
          -2.5224156574296868,
          -0.6490118810553878,
          -0.6343577993866387,
          -3.052831014450534,
          -2.9838007640191493,
          -3.071122840200573,
          -1.9525234911210585,
          -2.5937957048699842,
          -2.831782260486328,
          -1.8733659128379705,
          -0.9446043305140477,
          -0.7207093406373265,
          -1.6862893981364542,
          -3.6269463662439354,
          -3.517186753637528,
          -3.515353691118169,
          -3.358355808126502,
          -1.8786763636182604,
          -2.0672499056163005,
          -1.646138337788015,
          -1.878461296689782,
          -0.9035970736629225,
          -2.2419767612277774,
          -2.797884011646173,
          -2.2643727772648035,
          -3.0970644526989775,
          -2.234555208869523,
          -3.3324107263556937,
          -2.505426232479254,
          -2.658519947927431,
          -3.7123790526783482,
          -3.3895470843522695,
          -2.37576764906753,
          -2.197535142807659,
          -2.7332460697898457,
          -2.663767469613767,
          -2.74182768732579,
          -3.9355698291115897,
          -3.778526960727174,
          -3.766541926817833,
          -3.7896558111082976,
          -2.2861687926791587,
          -2.145097488283882,
          -3.5478151473592194,
          -3.25060289129581,
          -2.4631640868581557,
          -0.8629241876038108,
          -2.1429243842648438,
          -2.005409102516997,
          -2.9371011292583065,
          -3.799779490281284,
          -3.504870706686395,
          -3.2520438545747052,
          -3.730978421673928,
          -3.5542588803310124,
          -3.2253588101360724,
          -2.231237312217604,
          -2.825442482446429,
          -2.912323282370668,
          -2.3400295843284877,
          -2.8423414523620987,
          -1.8800185769476283,
          -1.5310304021608667,
          -0.8406188760179011,
          -0.9230973863763247,
          -2.626673464568639,
          -3.6007500845194262,
          -3.2832201745076826,
          -2.842356562403248,
          -3.002256213189241,
          -3.151577178875636,
          -3.3962509432358163,
          -3.1713110387874357,
          -3.491271567690005,
          -2.1902783287340073,
          -4.03698512349238
         ],
         "xaxis": "x",
         "y": [
          2.4471909246719763,
          2.4775993611600193,
          -0.24500642607878612,
          0.4585260711910405,
          0.981318320099798,
          0.5204480644827144,
          1.445268585918117,
          2.3833117242062127,
          2.5163906703568597,
          0.9606031680114568,
          -0.06905627550621944,
          0.7814736347329223,
          1.5024668600328186,
          1.6733350185849472,
          -0.016571069624202385,
          2.181888565295979,
          -0.8749253158047562,
          2.527935225539338,
          0.9394536711871743,
          0.1490965874812342,
          -0.04467302791601694,
          0.0949075568872019,
          1.8935230537163381,
          2.3524581840441945,
          1.9654840878052076,
          -0.6146427126770734,
          1.4978430688673696,
          1.925337638064025,
          2.4070432245337487,
          0.5307727526886307,
          -0.3706063088715195,
          0.4593853364457412,
          0.8031474722603428,
          0.6798739646054105,
          0.891857870559124,
          2.604819160844082,
          1.2243498672423423,
          0.8856681022677221,
          0.21599683190812768,
          0.30889734286910986,
          0.524411956931058,
          1.5536964516806646,
          1.1800718271176742,
          0.36382663718414987,
          0.5927532432904646,
          2.0775290712035646,
          1.96320054603812,
          0.1962458571981112,
          1.6698006875200235,
          2.212656269800779,
          0.07134780157945286,
          1.655426228402839,
          0.46155926011691145,
          0.4533091969904486,
          0.07395985695965465,
          0.5474481096650254,
          0.8083823955920563,
          1.2862304277594803,
          0.20351837217316132,
          -0.023500505318287457,
          0.235502906614398,
          0.3347734180949141,
          1.2081918933397693,
          0.6692273711638238,
          1.371941493780452,
          1.5172112230505574,
          0.2856869601459223,
          1.9121234022159719,
          1.0239501322414988,
          -0.5848645457913623,
          1.3034269058035892,
          0.2410771949995401,
          1.1370031965468441,
          1.370750589273021,
          0.28516827857002003,
          1.8999861664070423,
          0.7273943771946543,
          2.103152085330056,
          -1.2592005313250325,
          0.6787877294030364,
          0.8756864935144044,
          1.2059302259768172,
          1.7960744347735909,
          1.739107863963351,
          1.7386660236458864,
          1.721116592048962,
          0.18222541188190958,
          0.02101346023857294,
          1.2459202669891254,
          0.0737219949819488,
          1.3396727272046816,
          -1.7067888138103406,
          0.7010328466416604,
          -0.09371413654340487,
          -0.17014056180083142,
          0.6071673746916819,
          1.0299118366146398,
          -0.29635009541176843,
          1.345065352509942,
          0.9264144764088771,
          1.4069658046904272,
          1.3064299203383118,
          0.7261014834131555,
          0.5490896583238423,
          -1.492191434104522,
          -1.8238576386430316,
          -1.062812194993,
          -1.3566190360184744,
          1.4294934837113977,
          0.7976942411578902,
          -0.27007032746823817,
          2.2681450755834907,
          1.9221343212009978,
          -0.13760134367887714,
          0.9932328252320072,
          0.8123890882804241,
          0.9782495843906726,
          0.7486385121748165,
          0.45130990364777,
          0.7671682752999834,
          1.0395156964581544,
          -0.14616130541775796,
          1.3357493051173754,
          0.9468857332815227,
          1.409264143629786,
          0.6898243083623739,
          -1.1331039023303484,
          -1.0146147579305849,
          1.9256176724975569,
          1.7574346225649176,
          -0.42687117749026693,
          0.5686411517508942,
          0.7043324593256894,
          1.2946267712714048,
          1.2118242836555113,
          0.8016068642905708,
          1.0795093412788275,
          1.0013185553134125,
          0.8830780596349715,
          1.4434342837483924,
          -2.1271400067947868
         ],
         "yaxis": "y"
        },
        {
         "hovertemplate": "<b>%{hovertext}</b><br><br>color=0<br>PC1 ~ 0.63%=%{x}<br>PC2 ~ 0.13%=%{y}<extra></extra>",
         "hovertext": [
          "plymouth duster",
          "amc hornet",
          "ford maverick",
          "amc gremlin",
          "chevrolet vega 2300",
          "amc gremlin",
          "plymouth satellite custom",
          "chevrolet chevelle malibu",
          "ford torino 500",
          "amc matador",
          "amc hornet sportabout (sw)",
          "chevrolet vega (sw)",
          "pontiac firebird",
          "ford mustang",
          "mercury capri 2000",
          "plymouth cricket",
          "dodge colt hardtop",
          "chevrolet vega",
          "ford pinto runabout",
          "ford pinto (sw)",
          "dodge colt (sw)",
          "plymouth valiant",
          "chevrolet nova custom",
          "amc hornet",
          "ford maverick",
          "plymouth duster",
          "amc gremlin",
          "chevrolet vega",
          "ford pinto",
          "mercury capri v6",
          "plymouth duster",
          "amc hornet",
          "chevrolet nova",
          "ford pinto",
          "chevrolet vega",
          "chevrolet chevelle malibu classic",
          "amc matador",
          "plymouth satellite sebring",
          "dodge colt",
          "plymouth valiant custom",
          "chevrolet nova",
          "mercury monarch",
          "ford maverick",
          "buick century",
          "chevroelt chevelle malibu",
          "amc matador",
          "plymouth fury",
          "buick skyhawk",
          "ford pinto",
          "amc gremlin",
          "pontiac astro",
          "ford pinto",
          "amc pacer",
          "capri ii",
          "dodge colt",
          "plymouth valiant",
          "chevrolet nova",
          "ford maverick",
          "amc hornet",
          "chevrolet chevette",
          "chevrolet woody",
          "dodge aspen se",
          "ford granada ghia",
          "pontiac ventura sj",
          "amc pacer d/l",
          "ford pinto",
          "peugeot 504",
          "mercedes-benz 280s",
          "buick opel isuzu deluxe",
          "plymouth arrow gs",
          "oldsmobile cutlass supreme",
          "chevrolet concours",
          "buick skylark",
          "plymouth volare custom",
          "ford granada",
          "pontiac sunbird coupe",
          "ford mustang ii 2+2",
          "chevrolet chevette",
          "dodge colt m/m",
          "ford fiesta",
          "oldsmobile cutlass salon brougham",
          "pontiac phoenix lj",
          "chevrolet malibu",
          "ford fairmont (auto)",
          "ford fairmont (man)",
          "plymouth volare",
          "amc concord",
          "buick century special",
          "mercury zephyr",
          "dodge aspen",
          "amc concord d/l",
          "chevrolet chevette",
          "dodge omni",
          "plymouth sapporo",
          "oldsmobile starfire sx",
          "audi 5000",
          "volvo 264gl",
          "peugeot 604sl",
          "pontiac lemans v6",
          "mercury zephyr 6",
          "ford fairmont 4",
          "amc concord dl 6",
          "dodge aspen 6",
          "dodge colt hatchback custom",
          "amc spirit dl",
          "mercedes benz 300d",
          "oldsmobile cutlass salon brougham",
          "plymouth horizon",
          "plymouth horizon tc3",
          "buick skylark limited",
          "chevrolet citation",
          "oldsmobile omega brougham",
          "pontiac phoenix",
          "chevrolet chevette",
          "chevrolet citation",
          "ford fairmont",
          "amc concord",
          "dodge aspen",
          "dodge colt",
          "plymouth reliant",
          "buick skylark",
          "dodge aries wagon (sw)",
          "chevrolet citation",
          "plymouth reliant",
          "plymouth champ",
          "plymouth horizon 4",
          "ford escort 4w",
          "ford escort 2h",
          "buick century",
          "oldsmobile cutlass ls",
          "ford granada gl",
          "chrysler lebaron salon",
          "chevrolet cavalier",
          "chevrolet cavalier wagon",
          "chevrolet cavalier 2-door",
          "pontiac j2000 se hatchback",
          "dodge aries se",
          "pontiac phoenix",
          "ford fairmont futura",
          "plymouth horizon miser",
          "mercury lynx l",
          "buick century limited",
          "oldsmobile cutlass ciera (diesel)",
          "chrysler lebaron medallion",
          "ford granada l",
          "dodge charger 2.2",
          "chevrolet camaro",
          "ford mustang gl",
          "dodge rampage",
          "ford ranger",
          "chevy s-10"
         ],
         "legendgroup": "0",
         "marker": {
          "color": "#00cc96",
          "symbol": "circle"
         },
         "mode": "markers",
         "name": "0",
         "orientation": "v",
         "showlegend": true,
         "type": "scatter",
         "x": [
          0.7187417879547204,
          0.9077937459259184,
          0.5158811834731739,
          0.6808411089928273,
          -0.6192311584276681,
          1.1250318471951022,
          1.4357773846369286,
          1.3838557788447636,
          1.155073687111206,
          1.2472056740007078,
          1.4795222334198956,
          -0.7623053353808534,
          1.3114399566376738,
          1.2188532859466834,
          -0.3728938521711018,
          -1.5088048394367781,
          -0.9942144973557248,
          -0.5860569270947439,
          -0.555587220224513,
          -0.480582963585708,
          -0.9376428681278556,
          0.9929184144486689,
          1.0719897853531248,
          0.9343284597173918,
          0.8734419932790223,
          0.4933311041178536,
          0.9532581108370868,
          -0.8725677814209053,
          -0.6670813340646531,
          0.5258002203078564,
          0.6283843717034149,
          0.8111352589638792,
          1.1825340937849107,
          -0.8623283927242302,
          -0.7981152121151966,
          1.3391447623695283,
          1.3111029652716837,
          1.1643311309340376,
          -1.1010918070259363,
          0.8460061259987715,
          1.1807903117335443,
          0.5285506541454414,
          0.5385469010258606,
          0.9580039831033639,
          1.2516833355545123,
          1.2586800088300414,
          0.8616644650541542,
          0.9105803287575275,
          -0.6320963985296514,
          0.7141595356741176,
          -0.8398317773638233,
          0.7121827673582898,
          0.7079666068953845,
          -0.5333364418736909,
          -1.2740517450200861,
          0.7371560602862697,
          1.0208950620039174,
          0.052673335043212775,
          0.37247329182533145,
          -2.2483822909146065,
          -1.8331620328967573,
          0.8169865186749321,
          0.4548819514755408,
          1.2193785396388381,
          0.7951634522625568,
          -0.6911463687104751,
          -1.2869765338572423,
          0.522447720162668,
          -1.2438577654569436,
          -0.8214219930353521,
          1.6705027965101802,
          1.1369316499361037,
          0.7799964874419738,
          0.8005115759171734,
          0.7351626368981561,
          -0.5841321992816307,
          -0.6397553448439856,
          -1.7359023556024227,
          -1.5689479581817787,
          -1.909595584283501,
          1.4739357093847067,
          0.6296263197820983,
          0.2627714167270257,
          0.30725263453586404,
          -0.665257019418462,
          0.6268718336499034,
          0.5054857163793562,
          0.7993570271509522,
          0.2450917323975372,
          0.7697582918910968,
          1.2516711529636133,
          -1.6234829377193096,
          -1.353638542836349,
          -0.4480206754721148,
          -0.7276224505290728,
          -0.6955336689261932,
          0.38771452870243645,
          0.431005586556476,
          0.7755745919635841,
          0.06545527968165789,
          -0.6796522865491987,
          0.3467593146285239,
          0.6895787816978683,
          -1.7520969825984105,
          -0.9711724669678108,
          -1.1135382824302185,
          0.4441214551759376,
          -1.5131582966792432,
          -1.704737645779006,
          -0.8935343743209295,
          0.27283358050069856,
          0.27217581384661405,
          -0.9372127901530655,
          -1.7395785660729677,
          -0.9708537569008393,
          -1.0133686248772076,
          -0.9699683698502284,
          0.3256496785251719,
          -0.549851108986538,
          -1.1232964053831664,
          -1.029263601521182,
          -0.7168250917931694,
          0.30964497893954024,
          -1.0522750522700541,
          -2.427041734252263,
          -1.8643561429713555,
          -2.0530921851818,
          -2.090766002939553,
          0.6143669376342978,
          1.1339251266639336,
          0.09846033132955241,
          0.5218453395458169,
          -1.5664203412075774,
          -1.4115695048664398,
          -1.8063364794987067,
          -1.4461625890949414,
          -1.275813636828797,
          -1.1423617825985692,
          -0.8158369519319848,
          -2.1011309257670505,
          -2.197750340570522,
          -0.029761483374331665,
          -0.6135959456427837,
          -0.8064912552310035,
          0.4355967679477059,
          -1.4115460008059744,
          -0.9799933742928884,
          -0.9821083541071534,
          -1.1268082836860291,
          -1.5257188064315697,
          -1.672595579706159
         ],
         "xaxis": "x",
         "y": [
          -0.15828156352214642,
          -0.11947883791082828,
          -0.28211116908869427,
          -0.09238511376686459,
          -0.3234959985966579,
          0.21611405288568195,
          -0.1817128423813278,
          -0.20912618199584818,
          -0.29241977798636826,
          -0.21562473875452146,
          0.18931913708022027,
          -0.9726941987093702,
          -0.13747243298207532,
          -0.11616811897461048,
          -0.0748077020618441,
          -1.2374061118834636,
          -0.7037336892581542,
          -1.02726567380989,
          -0.5637603353572282,
          -0.49656386660449625,
          -0.3982840395967299,
          -0.5293443757997133,
          -0.7955520435279646,
          -0.46895807288241975,
          -0.6240533753742707,
          -0.5317283302717332,
          -0.2989683811209696,
          -1.2362530180371523,
          -0.9812784945960503,
          -0.10746632603088588,
          -0.6990025521584807,
          -0.5670561899875258,
          -0.7242111322323808,
          -0.8291486690915529,
          -0.9366075707462116,
          -0.7515270475094645,
          -0.8451082214662816,
          -0.6472816530027743,
          -0.535178270795479,
          -0.7100904572545184,
          -0.6493880927758361,
          -1.6428051858037673,
          -1.3858979131819784,
          -1.4498290332825283,
          -1.064818626897247,
          -1.100672095832222,
          -1.2166816677579824,
          -0.45686148669467375,
          -0.9752132195384924,
          -0.6678942044385823,
          -1.246999070967215,
          -0.44247748940128273,
          -0.8993531024109707,
          -0.6823447508101846,
          -1.2127453060570714,
          -0.692861298262841,
          -0.5185458985377347,
          -1.170274978016757,
          -1.10581794958463,
          -2.116659630005287,
          -2.0296157652050177,
          -1.0748322598262539,
          -1.7253247653998258,
          -0.75776886974914,
          -1.0798970879027618,
          -0.6008922802621719,
          -0.8078772508648088,
          0.2504297519066319,
          -0.8468051406687573,
          -0.8423121992908578,
          -1.2924589330040817,
          -0.8726206763309673,
          -1.0000698840072761,
          -1.162184972286887,
          -1.3740036375627853,
          -0.9831774917246014,
          -0.9528186836280252,
          -1.307135262164795,
          -1.0260911330907927,
          -0.9818786913457412,
          -0.8018043780174889,
          -1.4656712652216797,
          -1.3576155588286554,
          -1.0173435143052079,
          -0.9841190272904043,
          -1.1745016546154585,
          -1.2170363454176405,
          -0.9140468650968545,
          -1.1721879096108794,
          -1.3554957013485205,
          -0.6921900887398441,
          -1.2919052260623465,
          -0.9324400220526792,
          -1.0799904302418937,
          -1.3570159064611158,
          0.09653040860969746,
          0.624902302945569,
          0.3076776202155121,
          -0.8815647470873952,
          -1.500441125988014,
          -1.3787198678945336,
          -1.4811991592124714,
          -1.1079053849765814,
          -0.9944601202630446,
          -1.0758143001365157,
          -0.8943427673573792,
          -2.1323617079415103,
          -0.8639099143221598,
          -1.1395188852659277,
          -1.1793739742631693,
          -0.2355600859874475,
          -0.4887419285967115,
          -0.749139300623861,
          -1.3166271968351457,
          -1.352921475431825,
          -1.6263334610096865,
          -1.9315870804417883,
          -1.6567794861407241,
          -0.9253299030179952,
          -1.3420704983243872,
          -1.4569676180900293,
          -1.077323876690575,
          -0.6405260188073442,
          -0.8986398162090777,
          -1.6243320231295206,
          -1.3748356390668601,
          -1.5649905743055943,
          -2.2856383949642196,
          -1.1789495215790748,
          -1.7279804358010706,
          -1.4978261374754496,
          -1.435294007410739,
          -2.059345068914391,
          -1.8926109480517233,
          -1.824818001499142,
          -1.5413951136180624,
          -1.497453715519618,
          -1.782047696067945,
          -1.499965655641253,
          -1.4518530297236327,
          -1.8210360638815435,
          -1.3706122178395685,
          -1.688598184847975,
          -1.1873633207970893,
          -1.0519824410009897,
          -1.0440084618528775,
          -1.678638678844703,
          -1.4205144055903436,
          -0.789213943773262,
          -1.951240150147849,
          -2.0855321418663704
         ],
         "yaxis": "y"
        }
       ],
       "layout": {
        "annotations": [
         {
          "ax": 0,
          "ay": 0,
          "text": "mpg",
          "x": -0.8928155806384659,
          "xanchor": "center",
          "y": -0.05034625496064235,
          "yanchor": "bottom"
         },
         {
          "ax": 0,
          "ay": 0,
          "text": "cylinders",
          "x": 0.9299663778955242,
          "xanchor": "center",
          "y": 0.022486691690942823,
          "yanchor": "bottom"
         },
         {
          "ax": 0,
          "ay": 0,
          "text": "displacement",
          "x": 0.9645639314670257,
          "xanchor": "center",
          "y": 0.016099288686915337,
          "yanchor": "bottom"
         },
         {
          "ax": 0,
          "ay": 0,
          "text": "horsepower",
          "x": 0.9176742607508145,
          "xanchor": "center",
          "y": 0.2539951960130866,
          "yanchor": "bottom"
         },
         {
          "ax": 0,
          "ay": 0,
          "text": "weight",
          "x": 0.9297093506412806,
          "xanchor": "center",
          "y": -0.044447023159303795,
          "yanchor": "bottom"
         },
         {
          "ax": 0,
          "ay": 0,
          "text": "acceleration",
          "x": -0.5953502847669855,
          "xanchor": "center",
          "y": -0.48801072645254434,
          "yanchor": "bottom"
         },
         {
          "ax": 0,
          "ay": 0,
          "text": "model_year",
          "x": -0.4811315676821876,
          "xanchor": "center",
          "y": -0.37810549739366645,
          "yanchor": "bottom"
         },
         {
          "ax": 0,
          "ay": 0,
          "text": "origin_japan",
          "x": -0.5442238707775561,
          "xanchor": "center",
          "y": 0.6616262918578163,
          "yanchor": "bottom"
         },
         {
          "ax": 0,
          "ay": 0,
          "text": "origin_usa",
          "x": 0.7045559429203703,
          "xanchor": "center",
          "y": -0.5472036960986221,
          "yanchor": "bottom"
         }
        ],
        "autosize": true,
        "legend": {
         "title": {
          "text": "color"
         },
         "tracegroupgap": 0
        },
        "margin": {
         "t": 60
        },
        "shapes": [
         {
          "line": {
           "color": "red",
           "width": 3
          },
          "type": "line",
          "x0": 0,
          "x1": -0.8928155806384659,
          "y0": 0,
          "y1": -0.05034625496064235
         },
         {
          "line": {
           "color": "red",
           "width": 3
          },
          "type": "line",
          "x0": 0,
          "x1": 0.9299663778955242,
          "y0": 0,
          "y1": 0.022486691690942823
         },
         {
          "line": {
           "color": "red",
           "width": 3
          },
          "type": "line",
          "x0": 0,
          "x1": 0.9645639314670257,
          "y0": 0,
          "y1": 0.016099288686915337
         },
         {
          "line": {
           "color": "red",
           "width": 3
          },
          "type": "line",
          "x0": 0,
          "x1": 0.9176742607508145,
          "y0": 0,
          "y1": 0.2539951960130866
         },
         {
          "line": {
           "color": "red",
           "width": 3
          },
          "type": "line",
          "x0": 0,
          "x1": 0.9297093506412806,
          "y0": 0,
          "y1": -0.044447023159303795
         },
         {
          "line": {
           "color": "red",
           "width": 3
          },
          "type": "line",
          "x0": 0,
          "x1": -0.5953502847669855,
          "y0": 0,
          "y1": -0.48801072645254434
         },
         {
          "line": {
           "color": "red",
           "width": 3
          },
          "type": "line",
          "x0": 0,
          "x1": -0.4811315676821876,
          "y0": 0,
          "y1": -0.37810549739366645
         },
         {
          "line": {
           "color": "red",
           "width": 3
          },
          "type": "line",
          "x0": 0,
          "x1": -0.5442238707775561,
          "y0": 0,
          "y1": 0.6616262918578163
         },
         {
          "line": {
           "color": "red",
           "width": 3
          },
          "type": "line",
          "x0": 0,
          "x1": 0.7045559429203703,
          "y0": 0,
          "y1": -0.5472036960986221
         }
        ],
        "template": {
         "data": {
          "bar": [
           {
            "error_x": {
             "color": "#2a3f5f"
            },
            "error_y": {
             "color": "#2a3f5f"
            },
            "marker": {
             "line": {
              "color": "#E5ECF6",
              "width": 0.5
             },
             "pattern": {
              "fillmode": "overlay",
              "size": 10,
              "solidity": 0.2
             }
            },
            "type": "bar"
           }
          ],
          "barpolar": [
           {
            "marker": {
             "line": {
              "color": "#E5ECF6",
              "width": 0.5
             },
             "pattern": {
              "fillmode": "overlay",
              "size": 10,
              "solidity": 0.2
             }
            },
            "type": "barpolar"
           }
          ],
          "carpet": [
           {
            "aaxis": {
             "endlinecolor": "#2a3f5f",
             "gridcolor": "white",
             "linecolor": "white",
             "minorgridcolor": "white",
             "startlinecolor": "#2a3f5f"
            },
            "baxis": {
             "endlinecolor": "#2a3f5f",
             "gridcolor": "white",
             "linecolor": "white",
             "minorgridcolor": "white",
             "startlinecolor": "#2a3f5f"
            },
            "type": "carpet"
           }
          ],
          "choropleth": [
           {
            "colorbar": {
             "outlinewidth": 0,
             "ticks": ""
            },
            "type": "choropleth"
           }
          ],
          "contour": [
           {
            "colorbar": {
             "outlinewidth": 0,
             "ticks": ""
            },
            "colorscale": [
             [
              0,
              "#0d0887"
             ],
             [
              0.1111111111111111,
              "#46039f"
             ],
             [
              0.2222222222222222,
              "#7201a8"
             ],
             [
              0.3333333333333333,
              "#9c179e"
             ],
             [
              0.4444444444444444,
              "#bd3786"
             ],
             [
              0.5555555555555556,
              "#d8576b"
             ],
             [
              0.6666666666666666,
              "#ed7953"
             ],
             [
              0.7777777777777778,
              "#fb9f3a"
             ],
             [
              0.8888888888888888,
              "#fdca26"
             ],
             [
              1,
              "#f0f921"
             ]
            ],
            "type": "contour"
           }
          ],
          "contourcarpet": [
           {
            "colorbar": {
             "outlinewidth": 0,
             "ticks": ""
            },
            "type": "contourcarpet"
           }
          ],
          "heatmap": [
           {
            "colorbar": {
             "outlinewidth": 0,
             "ticks": ""
            },
            "colorscale": [
             [
              0,
              "#0d0887"
             ],
             [
              0.1111111111111111,
              "#46039f"
             ],
             [
              0.2222222222222222,
              "#7201a8"
             ],
             [
              0.3333333333333333,
              "#9c179e"
             ],
             [
              0.4444444444444444,
              "#bd3786"
             ],
             [
              0.5555555555555556,
              "#d8576b"
             ],
             [
              0.6666666666666666,
              "#ed7953"
             ],
             [
              0.7777777777777778,
              "#fb9f3a"
             ],
             [
              0.8888888888888888,
              "#fdca26"
             ],
             [
              1,
              "#f0f921"
             ]
            ],
            "type": "heatmap"
           }
          ],
          "heatmapgl": [
           {
            "colorbar": {
             "outlinewidth": 0,
             "ticks": ""
            },
            "colorscale": [
             [
              0,
              "#0d0887"
             ],
             [
              0.1111111111111111,
              "#46039f"
             ],
             [
              0.2222222222222222,
              "#7201a8"
             ],
             [
              0.3333333333333333,
              "#9c179e"
             ],
             [
              0.4444444444444444,
              "#bd3786"
             ],
             [
              0.5555555555555556,
              "#d8576b"
             ],
             [
              0.6666666666666666,
              "#ed7953"
             ],
             [
              0.7777777777777778,
              "#fb9f3a"
             ],
             [
              0.8888888888888888,
              "#fdca26"
             ],
             [
              1,
              "#f0f921"
             ]
            ],
            "type": "heatmapgl"
           }
          ],
          "histogram": [
           {
            "marker": {
             "pattern": {
              "fillmode": "overlay",
              "size": 10,
              "solidity": 0.2
             }
            },
            "type": "histogram"
           }
          ],
          "histogram2d": [
           {
            "colorbar": {
             "outlinewidth": 0,
             "ticks": ""
            },
            "colorscale": [
             [
              0,
              "#0d0887"
             ],
             [
              0.1111111111111111,
              "#46039f"
             ],
             [
              0.2222222222222222,
              "#7201a8"
             ],
             [
              0.3333333333333333,
              "#9c179e"
             ],
             [
              0.4444444444444444,
              "#bd3786"
             ],
             [
              0.5555555555555556,
              "#d8576b"
             ],
             [
              0.6666666666666666,
              "#ed7953"
             ],
             [
              0.7777777777777778,
              "#fb9f3a"
             ],
             [
              0.8888888888888888,
              "#fdca26"
             ],
             [
              1,
              "#f0f921"
             ]
            ],
            "type": "histogram2d"
           }
          ],
          "histogram2dcontour": [
           {
            "colorbar": {
             "outlinewidth": 0,
             "ticks": ""
            },
            "colorscale": [
             [
              0,
              "#0d0887"
             ],
             [
              0.1111111111111111,
              "#46039f"
             ],
             [
              0.2222222222222222,
              "#7201a8"
             ],
             [
              0.3333333333333333,
              "#9c179e"
             ],
             [
              0.4444444444444444,
              "#bd3786"
             ],
             [
              0.5555555555555556,
              "#d8576b"
             ],
             [
              0.6666666666666666,
              "#ed7953"
             ],
             [
              0.7777777777777778,
              "#fb9f3a"
             ],
             [
              0.8888888888888888,
              "#fdca26"
             ],
             [
              1,
              "#f0f921"
             ]
            ],
            "type": "histogram2dcontour"
           }
          ],
          "mesh3d": [
           {
            "colorbar": {
             "outlinewidth": 0,
             "ticks": ""
            },
            "type": "mesh3d"
           }
          ],
          "parcoords": [
           {
            "line": {
             "colorbar": {
              "outlinewidth": 0,
              "ticks": ""
             }
            },
            "type": "parcoords"
           }
          ],
          "pie": [
           {
            "automargin": true,
            "type": "pie"
           }
          ],
          "scatter": [
           {
            "fillpattern": {
             "fillmode": "overlay",
             "size": 10,
             "solidity": 0.2
            },
            "type": "scatter"
           }
          ],
          "scatter3d": [
           {
            "line": {
             "colorbar": {
              "outlinewidth": 0,
              "ticks": ""
             }
            },
            "marker": {
             "colorbar": {
              "outlinewidth": 0,
              "ticks": ""
             }
            },
            "type": "scatter3d"
           }
          ],
          "scattercarpet": [
           {
            "marker": {
             "colorbar": {
              "outlinewidth": 0,
              "ticks": ""
             }
            },
            "type": "scattercarpet"
           }
          ],
          "scattergeo": [
           {
            "marker": {
             "colorbar": {
              "outlinewidth": 0,
              "ticks": ""
             }
            },
            "type": "scattergeo"
           }
          ],
          "scattergl": [
           {
            "marker": {
             "colorbar": {
              "outlinewidth": 0,
              "ticks": ""
             }
            },
            "type": "scattergl"
           }
          ],
          "scattermapbox": [
           {
            "marker": {
             "colorbar": {
              "outlinewidth": 0,
              "ticks": ""
             }
            },
            "type": "scattermapbox"
           }
          ],
          "scatterpolar": [
           {
            "marker": {
             "colorbar": {
              "outlinewidth": 0,
              "ticks": ""
             }
            },
            "type": "scatterpolar"
           }
          ],
          "scatterpolargl": [
           {
            "marker": {
             "colorbar": {
              "outlinewidth": 0,
              "ticks": ""
             }
            },
            "type": "scatterpolargl"
           }
          ],
          "scatterternary": [
           {
            "marker": {
             "colorbar": {
              "outlinewidth": 0,
              "ticks": ""
             }
            },
            "type": "scatterternary"
           }
          ],
          "surface": [
           {
            "colorbar": {
             "outlinewidth": 0,
             "ticks": ""
            },
            "colorscale": [
             [
              0,
              "#0d0887"
             ],
             [
              0.1111111111111111,
              "#46039f"
             ],
             [
              0.2222222222222222,
              "#7201a8"
             ],
             [
              0.3333333333333333,
              "#9c179e"
             ],
             [
              0.4444444444444444,
              "#bd3786"
             ],
             [
              0.5555555555555556,
              "#d8576b"
             ],
             [
              0.6666666666666666,
              "#ed7953"
             ],
             [
              0.7777777777777778,
              "#fb9f3a"
             ],
             [
              0.8888888888888888,
              "#fdca26"
             ],
             [
              1,
              "#f0f921"
             ]
            ],
            "type": "surface"
           }
          ],
          "table": [
           {
            "cells": {
             "fill": {
              "color": "#EBF0F8"
             },
             "line": {
              "color": "white"
             }
            },
            "header": {
             "fill": {
              "color": "#C8D4E3"
             },
             "line": {
              "color": "white"
             }
            },
            "type": "table"
           }
          ]
         },
         "layout": {
          "annotationdefaults": {
           "arrowcolor": "#2a3f5f",
           "arrowhead": 0,
           "arrowwidth": 1
          },
          "autotypenumbers": "strict",
          "coloraxis": {
           "colorbar": {
            "outlinewidth": 0,
            "ticks": ""
           }
          },
          "colorscale": {
           "diverging": [
            [
             0,
             "#8e0152"
            ],
            [
             0.1,
             "#c51b7d"
            ],
            [
             0.2,
             "#de77ae"
            ],
            [
             0.3,
             "#f1b6da"
            ],
            [
             0.4,
             "#fde0ef"
            ],
            [
             0.5,
             "#f7f7f7"
            ],
            [
             0.6,
             "#e6f5d0"
            ],
            [
             0.7,
             "#b8e186"
            ],
            [
             0.8,
             "#7fbc41"
            ],
            [
             0.9,
             "#4d9221"
            ],
            [
             1,
             "#276419"
            ]
           ],
           "sequential": [
            [
             0,
             "#0d0887"
            ],
            [
             0.1111111111111111,
             "#46039f"
            ],
            [
             0.2222222222222222,
             "#7201a8"
            ],
            [
             0.3333333333333333,
             "#9c179e"
            ],
            [
             0.4444444444444444,
             "#bd3786"
            ],
            [
             0.5555555555555556,
             "#d8576b"
            ],
            [
             0.6666666666666666,
             "#ed7953"
            ],
            [
             0.7777777777777778,
             "#fb9f3a"
            ],
            [
             0.8888888888888888,
             "#fdca26"
            ],
            [
             1,
             "#f0f921"
            ]
           ],
           "sequentialminus": [
            [
             0,
             "#0d0887"
            ],
            [
             0.1111111111111111,
             "#46039f"
            ],
            [
             0.2222222222222222,
             "#7201a8"
            ],
            [
             0.3333333333333333,
             "#9c179e"
            ],
            [
             0.4444444444444444,
             "#bd3786"
            ],
            [
             0.5555555555555556,
             "#d8576b"
            ],
            [
             0.6666666666666666,
             "#ed7953"
            ],
            [
             0.7777777777777778,
             "#fb9f3a"
            ],
            [
             0.8888888888888888,
             "#fdca26"
            ],
            [
             1,
             "#f0f921"
            ]
           ]
          },
          "colorway": [
           "#636efa",
           "#EF553B",
           "#00cc96",
           "#ab63fa",
           "#FFA15A",
           "#19d3f3",
           "#FF6692",
           "#B6E880",
           "#FF97FF",
           "#FECB52"
          ],
          "font": {
           "color": "#2a3f5f"
          },
          "geo": {
           "bgcolor": "white",
           "lakecolor": "white",
           "landcolor": "#E5ECF6",
           "showlakes": true,
           "showland": true,
           "subunitcolor": "white"
          },
          "hoverlabel": {
           "align": "left"
          },
          "hovermode": "closest",
          "mapbox": {
           "style": "light"
          },
          "paper_bgcolor": "white",
          "plot_bgcolor": "#E5ECF6",
          "polar": {
           "angularaxis": {
            "gridcolor": "white",
            "linecolor": "white",
            "ticks": ""
           },
           "bgcolor": "#E5ECF6",
           "radialaxis": {
            "gridcolor": "white",
            "linecolor": "white",
            "ticks": ""
           }
          },
          "scene": {
           "xaxis": {
            "backgroundcolor": "#E5ECF6",
            "gridcolor": "white",
            "gridwidth": 2,
            "linecolor": "white",
            "showbackground": true,
            "ticks": "",
            "zerolinecolor": "white"
           },
           "yaxis": {
            "backgroundcolor": "#E5ECF6",
            "gridcolor": "white",
            "gridwidth": 2,
            "linecolor": "white",
            "showbackground": true,
            "ticks": "",
            "zerolinecolor": "white"
           },
           "zaxis": {
            "backgroundcolor": "#E5ECF6",
            "gridcolor": "white",
            "gridwidth": 2,
            "linecolor": "white",
            "showbackground": true,
            "ticks": "",
            "zerolinecolor": "white"
           }
          },
          "shapedefaults": {
           "line": {
            "color": "#2a3f5f"
           }
          },
          "ternary": {
           "aaxis": {
            "gridcolor": "white",
            "linecolor": "white",
            "ticks": ""
           },
           "baxis": {
            "gridcolor": "white",
            "linecolor": "white",
            "ticks": ""
           },
           "bgcolor": "#E5ECF6",
           "caxis": {
            "gridcolor": "white",
            "linecolor": "white",
            "ticks": ""
           }
          },
          "title": {
           "x": 0.05
          },
          "xaxis": {
           "automargin": true,
           "gridcolor": "white",
           "linecolor": "white",
           "ticks": "",
           "title": {
            "standoff": 15
           },
           "zerolinecolor": "white",
           "zerolinewidth": 2
          },
          "yaxis": {
           "automargin": true,
           "gridcolor": "white",
           "linecolor": "white",
           "ticks": "",
           "title": {
            "standoff": 15
           },
           "zerolinecolor": "white",
           "zerolinewidth": 2
          }
         }
        },
        "xaxis": {
         "anchor": "y",
         "autorange": true,
         "domain": [
          0,
          1
         ],
         "range": [
          -4.597915391790266,
          5.73407732669977
         ],
         "title": {
          "text": "PC1 ~ 0.63%"
         },
         "type": "linear"
        },
        "yaxis": {
         "anchor": "x",
         "autorange": true,
         "domain": [
          0,
          1
         ],
         "range": [
          -2.6642958697577757,
          2.983476635637638
         ],
         "title": {
          "text": "PC2 ~ 0.13%"
         },
         "type": "linear"
        }
       }
      },
      "image/png": "[encoded data removed]",
      "text/html": [
       "<div>                            <div id=\"ebdfece7-43f0-4d61-b98d-40f9a45cb1e4\" class=\"plotly-graph-div\" style=\"height:525px; width:100%;\"></div>            <script type=\"text/javascript\">                require([\"plotly\"], function(Plotly) {                    window.PLOTLYENV=window.PLOTLYENV || {};                                    if (document.getElementById(\"ebdfece7-43f0-4d61-b98d-40f9a45cb1e4\")) {                    Plotly.newPlot(                        \"ebdfece7-43f0-4d61-b98d-40f9a45cb1e4\",                        [{\"hovertemplate\":\"<b>%{hovertext}</b><br><br>color=2<br>PC1 ~ 0.63%=%{x}<br>PC2 ~ 0.13%=%{y}<extra></extra>\",\"hovertext\":[\"chevrolet chevelle malibu\",\"buick skylark 320\",\"plymouth satellite\",\"amc rebel sst\",\"ford torino\",\"ford galaxie 500\",\"chevrolet impala\",\"plymouth fury iii\",\"pontiac catalina\",\"amc ambassador dpl\",\"dodge challenger se\",\"plymouth 'cuda 340\",\"chevrolet monte carlo\",\"buick estate wagon (sw)\",\"ford f250\",\"chevy c20\",\"dodge d200\",\"hi 1200d\",\"chevrolet impala\",\"pontiac catalina brougham\",\"ford galaxie 500\",\"plymouth fury iii\",\"dodge monaco (sw)\",\"ford country squire (sw)\",\"pontiac safari (sw)\",\"chevrolet impala\",\"pontiac catalina\",\"plymouth fury iii\",\"ford galaxie 500\",\"amc ambassador sst\",\"mercury marquis\",\"buick lesabre custom\",\"oldsmobile delta 88 royale\",\"chrysler newport royal\",\"amc matador (sw)\",\"chevrolet chevelle concours (sw)\",\"ford gran torino (sw)\",\"plymouth satellite custom (sw)\",\"buick century 350\",\"amc matador\",\"chevrolet malibu\",\"ford gran torino\",\"dodge coronet custom\",\"mercury marquis brougham\",\"chevrolet caprice classic\",\"ford ltd\",\"plymouth fury gran sedan\",\"chrysler new yorker brougham\",\"buick electra 225 custom\",\"amc ambassador brougham\",\"chevrolet impala\",\"ford country\",\"plymouth custom suburb\",\"oldsmobile vista cruiser\",\"chevrolet monte carlo s\",\"pontiac grand prix\",\"dodge dart custom\",\"oldsmobile omega\",\"ford gran torino\",\"buick century luxus (sw)\",\"dodge coronet custom (sw)\",\"ford gran torino (sw)\",\"amc matador (sw)\",\"pontiac catalina\",\"chevrolet bel air\",\"plymouth grand fury\",\"ford ltd\",\"chevrolet monza 2+2\",\"ford mustang ii\",\"chevrolet chevelle malibu classic\",\"dodge coronet brougham\",\"amc matador\",\"ford gran torino\",\"plymouth volare premier v8\",\"cadillac seville\",\"chevy c10\",\"ford f108\",\"dodge d100\",\"chevrolet caprice classic\",\"dodge monaco brougham\",\"mercury cougar brougham\",\"pontiac grand prix lj\",\"chevrolet monte carlo landau\",\"chrysler cordoba\",\"ford thunderbird\",\"dodge diplomat\",\"mercury monarch ghia\",\"chevrolet monte carlo landau\",\"buick regal sport coupe (turbo)\",\"ford futura\",\"dodge magnum xe\",\"chevrolet caprice classic\",\"ford ltd landau\",\"mercury grand marquis\",\"dodge st. regis\",\"buick estate wagon (sw)\",\"ford country squire (sw)\",\"chevrolet malibu classic (sw)\",\"chrysler lebaron town @ country (sw)\",\"cadillac eldorado\"],\"legendgroup\":\"2\",\"marker\":{\"color\":\"#636efa\",\"symbol\":\"circle\"},\"mode\":\"markers\",\"name\":\"2\",\"orientation\":\"v\",\"showlegend\":true,\"x\":[2.7681015408711955,3.56179561211379,3.070488709648946,3.020336929873964,3.0077171090836745,4.632490431458015,5.094469429700944,5.016170883199184,5.090410338149975,4.311461998206057,3.815943006597266,3.7997906445666954,3.817831087801163,4.474529595624322,4.53918410921465,3.9829985413493456,4.216507495361385,3.79567175564488,3.7469755307411186,4.203465298813926,3.4693032930810928,3.330087048340598,4.509687361981959,4.2858077453444485,4.5171236466816005,3.770056782051475,4.066901911248672,3.1997288007521276,3.4482602630809294,3.0177670685735385,4.8588089689217355,3.6387158952704883,3.7157209067479133,4.236928551522717,3.124413860993699,2.990526928281096,2.9801321348754573,3.1757796318058906,3.6446429006767413,3.1070904723215778,3.2925678303444665,2.8672362574814447,3.0708618813424025,4.757051654295554,3.8459558539097793,3.5991673731083695,3.149145667290398,4.86743840278331,5.173147058401884,3.7364153432611436,4.005886047171804,4.222301906026264,3.8880996463395467,3.9716695923375522,3.2396643945111485,4.64439544494527,3.0330227307451003,3.771700304215895,2.8371444666867793,3.4787800717914092,3.286133168478003,2.9805162531295926,2.958548083744805,3.9315216169370175,3.2038747837893307,3.0632838207807236,3.4310256548138875,1.7566640632710429,2.5505510377939395,2.791608842396015,3.00275606228804,2.485518030835943,3.2523574799124373,3.013839490368152,3.5722380568002956,3.2494110824627294,2.556064930534058,2.8562014796781856,2.6780728692684352,2.8353363230094213,2.6095896109782646,3.7521501976652263,3.4298229470206048,3.8249160234149127,2.9963455292088734,2.4019451841723463,2.251875846060635,2.268711187642098,1.7874147479698723,2.3300306345359965,2.6066208545898424,2.1606784576243663,2.2386682110746827,2.695438735406615,2.2169802029298316,2.874776174976425,2.729367640272802,1.7858239323350569,2.765621824280496,1.842704845674252],\"xaxis\":\"x\",\"y\":[0.6536686698172093,0.9618424410466512,0.9422170408259082,0.7897426311564694,0.9658848801234102,1.385631719999814,1.6903140188207046,1.741291309491739,1.5548599921028214,1.598964465108217,1.2468001591473186,1.508802472872219,1.19969657088571,1.6192235455454065,0.8454218116774037,0.5960032585264778,0.8956975398278169,-0.026758099262877148,0.7674314988142187,0.9041029397038345,0.4537395827492977,0.5149241805420599,0.9202583268148069,0.7849191070376162,0.7962886945067532,0.6759449061474152,0.7323671916642891,0.33159087568377693,0.44189916782822763,0.664999039787268,1.1048484639522391,0.36063172471550825,0.399076885589277,0.7461942188215548,0.5037839493161864,0.14118617392479504,-0.1333068550883005,0.2590588173626157,0.4881471950506495,0.5884878687200882,0.3116796908835479,0.004144671501016784,0.41700274213847244,0.8474389601999827,0.48866500666293583,0.3725975468908908,0.07583472781987526,1.0377934014973884,1.0960730681762727,0.8279535841508692,0.14991348963541812,0.495147752958943,0.4326220505001572,0.5864474419466877,0.2953102864237035,1.3709932540772922,0.6789091257072588,0.8762465612864415,-0.007322082903606294,-0.030212571325996078,0.13346307381914563,-0.34434313844947084,-0.18388386867439444,0.47498693921648905,-0.072964490892411,-0.137137369087471,0.0221021155470871,-0.1873474670233367,0.22119249727540732,-0.04542764554521349,0.02711659131318399,-0.28903272661515955,0.08408849515691762,0.024411945754208415,0.3476363789560629,0.18808722427222985,-0.3882024408153345,-0.09668822523783964,-0.012058337355936626,-0.2058571273586719,-0.49852101165119733,0.4335597612536113,0.3227355948485528,0.31335225240818537,-0.3192754389696698,-0.2528494926443586,-0.19298511612063807,-0.20829191232438818,-0.146306607376654,0.096989007234508,-0.33942016611914505,-0.7578976865132768,-0.43742874992661945,-0.34798790138248525,-0.6998836165203445,-0.5431528659134572,-0.5013144880885357,-0.7303202057284286,-0.2526072473687307,-1.1452656197464428],\"yaxis\":\"y\",\"type\":\"scatter\"},{\"hovertemplate\":\"<b>%{hovertext}</b><br><br>color=1<br>PC1 ~ 0.63%=%{x}<br>PC2 ~ 0.13%=%{y}<extra></extra>\",\"hovertext\":[\"toyota corona mark ii\",\"datsun pl510\",\"volkswagen 1131 deluxe sedan\",\"peugeot 504\",\"audi 100 ls\",\"saab 99e\",\"bmw 2002\",\"datsun pl510\",\"toyota corona\",\"opel 1900\",\"peugeot 304\",\"fiat 124b\",\"toyota corolla 1200\",\"datsun 1200\",\"volkswagen model 111\",\"toyota corona hardtop\",\"volkswagen type 3\",\"mazda rx2 coupe\",\"volvo 145e (sw)\",\"volkswagen 411 (sw)\",\"peugeot 504 (sw)\",\"renault 12 (sw)\",\"datsun 510 (sw)\",\"toyouta corona mark ii (sw)\",\"toyota corolla 1600 (sw)\",\"volkswagen super beetle\",\"toyota carina\",\"datsun 610\",\"maxda rx3\",\"fiat 124 sport coupe\",\"fiat 128\",\"opel manta\",\"audi 100ls\",\"volvo 144ea\",\"saab 99le\",\"toyota mark ii\",\"datsun b210\",\"toyota corolla 1200\",\"audi fox\",\"volkswagen dasher\",\"opel manta\",\"toyota corona\",\"datsun 710\",\"fiat 128\",\"fiat 124 tc\",\"honda civic\",\"subaru\",\"fiat x1.9\",\"toyota corolla\",\"toyota corona\",\"volkswagen dasher\",\"datsun 710\",\"volkswagen rabbit\",\"audi 100ls\",\"peugeot 504\",\"volvo 244dl\",\"saab 99le\",\"honda civic cvcc\",\"fiat 131\",\"opel 1900\",\"renault 12tl\",\"vw rabbit\",\"honda civic\",\"volkswagen rabbit\",\"datsun b-210\",\"toyota corolla\",\"volvo 245\",\"toyota mark ii\",\"honda accord cvcc\",\"renault 5 gtl\",\"datsun f-10 hatchback\",\"volkswagen rabbit custom\",\"toyota corolla liftback\",\"subaru dl\",\"volkswagen dasher\",\"datsun 810\",\"bmw 320i\",\"mazda rx-4\",\"volkswagen rabbit custom diesel\",\"mazda glc deluxe\",\"datsun b210 gx\",\"honda civic cvcc\",\"toyota corona\",\"datsun 510\",\"toyota celica gt liftback\",\"datsun 200-sx\",\"saab 99gle\",\"volkswagen scirocco\",\"honda accord lx\",\"vw rabbit custom\",\"maxda glc deluxe\",\"peugeot 504\",\"datsun 210\",\"fiat strada custom\",\"vw rabbit\",\"toyota corolla tercel\",\"datsun 310\",\"audi 4000\",\"toyota corona liftback\",\"mazda 626\",\"datsun 510 hatchback\",\"toyota corolla\",\"mazda glc\",\"datsun 210\",\"vw rabbit c (diesel)\",\"vw dasher (diesel)\",\"audi 5000s (diesel)\",\"mercedes-benz 240d\",\"honda civic 1500 gl\",\"subaru dl\",\"vokswagen rabbit\",\"datsun 280-zx\",\"mazda rx-7 gs\",\"triumph tr7 coupe\",\"honda accord\",\"toyota starlet\",\"honda civic 1300\",\"subaru\",\"datsun 210 mpg\",\"toyota tercel\",\"mazda glc 4\",\"volkswagen jetta\",\"honda prelude\",\"toyota corolla\",\"datsun 200sx\",\"mazda 626\",\"peugeot 505s turbo diesel\",\"volvo diesel\",\"toyota cressida\",\"datsun 810 maxima\",\"volkswagen rabbit l\",\"mazda glc custom l\",\"mazda glc custom\",\"nissan stanza xe\",\"honda accord\",\"toyota corolla\",\"honda civic\",\"honda civic (auto)\",\"datsun 310 gx\",\"toyota celica gt\",\"vw pickup\"],\"legendgroup\":\"1\",\"marker\":{\"color\":\"#EF553B\",\"symbol\":\"circle\"},\"mode\":\"markers\",\"name\":\"1\",\"orientation\":\"v\",\"showlegend\":true,\"x\":[-1.5117090900327224,-1.853991954600449,-2.3371052062836335,-1.1708840167191024,-0.9436398046030898,-1.2505822929287733,-0.6639071167898434,-1.908877464644297,-1.5902151179477673,-1.251807765724924,-2.2129313575175025,-1.6686840764773176,-3.00457189626777,-3.135812489521799,-2.1642348431144685,-1.710057323816496,-2.3018447569371925,-1.6400477727138805,-0.25899612992853727,-1.3234376539824444,-1.0898009652878262,-1.8307891304318469,-2.1257918030002956,-1.4192834730357575,-2.158927141710039,-2.494208199410836,-2.0216999762290975,-1.7424167430361015,-1.8117452012346877,-1.4058721965382135,-2.622843658548153,-1.4395059174676494,-0.7636302480116384,-0.48253114866286534,-0.7025633473933527,-0.25271862326126954,-3.0367912438032882,-3.3696863470688756,-1.7869380049213195,-1.9036894369634672,-1.478073979005518,-3.1104314483765876,-3.1051013923247304,-1.6180991767383162,-1.4140304768102703,-1.630284752386848,-1.90339725608961,-2.17236063772056,-2.471967394462308,-1.4069657942440772,-1.7989168316292197,-1.8446516954605479,-1.906054525637935,-1.012829755461247,-1.1239902617662987,-0.7506730887270671,-0.7599097807329928,-3.216864874146908,-1.5803503388483444,-1.6905586702330213,-1.6879493197806328,-1.9790765851490382,-3.262682109457127,-1.8361280647836742,-2.941571414204024,-2.5224156574296868,-0.6490118810553878,-0.6343577993866387,-3.052831014450534,-2.9838007640191493,-3.071122840200573,-1.9525234911210585,-2.5937957048699842,-2.831782260486328,-1.8733659128379705,-0.9446043305140477,-0.7207093406373265,-1.6862893981364542,-3.6269463662439354,-3.517186753637528,-3.515353691118169,-3.358355808126502,-1.8786763636182604,-2.0672499056163005,-1.646138337788015,-1.878461296689782,-0.9035970736629225,-2.2419767612277774,-2.797884011646173,-2.2643727772648035,-3.0970644526989775,-2.234555208869523,-3.3324107263556937,-2.505426232479254,-2.658519947927431,-3.7123790526783482,-3.3895470843522695,-2.37576764906753,-2.197535142807659,-2.7332460697898457,-2.663767469613767,-2.74182768732579,-3.9355698291115897,-3.778526960727174,-3.766541926817833,-3.7896558111082976,-2.2861687926791587,-2.145097488283882,-3.5478151473592194,-3.25060289129581,-2.4631640868581557,-0.8629241876038108,-2.1429243842648438,-2.005409102516997,-2.9371011292583065,-3.799779490281284,-3.504870706686395,-3.2520438545747052,-3.730978421673928,-3.5542588803310124,-3.2253588101360724,-2.231237312217604,-2.825442482446429,-2.912323282370668,-2.3400295843284877,-2.8423414523620987,-1.8800185769476283,-1.5310304021608667,-0.8406188760179011,-0.9230973863763247,-2.626673464568639,-3.6007500845194262,-3.2832201745076826,-2.842356562403248,-3.002256213189241,-3.151577178875636,-3.3962509432358163,-3.1713110387874357,-3.491271567690005,-2.1902783287340073,-4.03698512349238],\"xaxis\":\"x\",\"y\":[2.4471909246719763,2.4775993611600193,-0.24500642607878612,0.4585260711910405,0.981318320099798,0.5204480644827144,1.445268585918117,2.3833117242062127,2.5163906703568597,0.9606031680114568,-0.06905627550621944,0.7814736347329223,1.5024668600328186,1.6733350185849472,-0.016571069624202385,2.181888565295979,-0.8749253158047562,2.527935225539338,0.9394536711871743,0.1490965874812342,-0.04467302791601694,0.0949075568872019,1.8935230537163381,2.3524581840441945,1.9654840878052076,-0.6146427126770734,1.4978430688673696,1.925337638064025,2.4070432245337487,0.5307727526886307,-0.3706063088715195,0.4593853364457412,0.8031474722603428,0.6798739646054105,0.891857870559124,2.604819160844082,1.2243498672423423,0.8856681022677221,0.21599683190812768,0.30889734286910986,0.524411956931058,1.5536964516806646,1.1800718271176742,0.36382663718414987,0.5927532432904646,2.0775290712035646,1.96320054603812,0.1962458571981112,1.6698006875200235,2.212656269800779,0.07134780157945286,1.655426228402839,0.46155926011691145,0.4533091969904486,0.07395985695965465,0.5474481096650254,0.8083823955920563,1.2862304277594803,0.20351837217316132,-0.023500505318287457,0.235502906614398,0.3347734180949141,1.2081918933397693,0.6692273711638238,1.371941493780452,1.5172112230505574,0.2856869601459223,1.9121234022159719,1.0239501322414988,-0.5848645457913623,1.3034269058035892,0.2410771949995401,1.1370031965468441,1.370750589273021,0.28516827857002003,1.8999861664070423,0.7273943771946543,2.103152085330056,-1.2592005313250325,0.6787877294030364,0.8756864935144044,1.2059302259768172,1.7960744347735909,1.739107863963351,1.7386660236458864,1.721116592048962,0.18222541188190958,0.02101346023857294,1.2459202669891254,0.0737219949819488,1.3396727272046816,-1.7067888138103406,0.7010328466416604,-0.09371413654340487,-0.17014056180083142,0.6071673746916819,1.0299118366146398,-0.29635009541176843,1.345065352509942,0.9264144764088771,1.4069658046904272,1.3064299203383118,0.7261014834131555,0.5490896583238423,-1.492191434104522,-1.8238576386430316,-1.062812194993,-1.3566190360184744,1.4294934837113977,0.7976942411578902,-0.27007032746823817,2.2681450755834907,1.9221343212009978,-0.13760134367887714,0.9932328252320072,0.8123890882804241,0.9782495843906726,0.7486385121748165,0.45130990364777,0.7671682752999834,1.0395156964581544,-0.14616130541775796,1.3357493051173754,0.9468857332815227,1.409264143629786,0.6898243083623739,-1.1331039023303484,-1.0146147579305849,1.9256176724975569,1.7574346225649176,-0.42687117749026693,0.5686411517508942,0.7043324593256894,1.2946267712714048,1.2118242836555113,0.8016068642905708,1.0795093412788275,1.0013185553134125,0.8830780596349715,1.4434342837483924,-2.1271400067947868],\"yaxis\":\"y\",\"type\":\"scatter\"},{\"hovertemplate\":\"<b>%{hovertext}</b><br><br>color=0<br>PC1 ~ 0.63%=%{x}<br>PC2 ~ 0.13%=%{y}<extra></extra>\",\"hovertext\":[\"plymouth duster\",\"amc hornet\",\"ford maverick\",\"amc gremlin\",\"chevrolet vega 2300\",\"amc gremlin\",\"plymouth satellite custom\",\"chevrolet chevelle malibu\",\"ford torino 500\",\"amc matador\",\"amc hornet sportabout (sw)\",\"chevrolet vega (sw)\",\"pontiac firebird\",\"ford mustang\",\"mercury capri 2000\",\"plymouth cricket\",\"dodge colt hardtop\",\"chevrolet vega\",\"ford pinto runabout\",\"ford pinto (sw)\",\"dodge colt (sw)\",\"plymouth valiant\",\"chevrolet nova custom\",\"amc hornet\",\"ford maverick\",\"plymouth duster\",\"amc gremlin\",\"chevrolet vega\",\"ford pinto\",\"mercury capri v6\",\"plymouth duster\",\"amc hornet\",\"chevrolet nova\",\"ford pinto\",\"chevrolet vega\",\"chevrolet chevelle malibu classic\",\"amc matador\",\"plymouth satellite sebring\",\"dodge colt\",\"plymouth valiant custom\",\"chevrolet nova\",\"mercury monarch\",\"ford maverick\",\"buick century\",\"chevroelt chevelle malibu\",\"amc matador\",\"plymouth fury\",\"buick skyhawk\",\"ford pinto\",\"amc gremlin\",\"pontiac astro\",\"ford pinto\",\"amc pacer\",\"capri ii\",\"dodge colt\",\"plymouth valiant\",\"chevrolet nova\",\"ford maverick\",\"amc hornet\",\"chevrolet chevette\",\"chevrolet woody\",\"dodge aspen se\",\"ford granada ghia\",\"pontiac ventura sj\",\"amc pacer d/l\",\"ford pinto\",\"peugeot 504\",\"mercedes-benz 280s\",\"buick opel isuzu deluxe\",\"plymouth arrow gs\",\"oldsmobile cutlass supreme\",\"chevrolet concours\",\"buick skylark\",\"plymouth volare custom\",\"ford granada\",\"pontiac sunbird coupe\",\"ford mustang ii 2+2\",\"chevrolet chevette\",\"dodge colt m/m\",\"ford fiesta\",\"oldsmobile cutlass salon brougham\",\"pontiac phoenix lj\",\"chevrolet malibu\",\"ford fairmont (auto)\",\"ford fairmont (man)\",\"plymouth volare\",\"amc concord\",\"buick century special\",\"mercury zephyr\",\"dodge aspen\",\"amc concord d/l\",\"chevrolet chevette\",\"dodge omni\",\"plymouth sapporo\",\"oldsmobile starfire sx\",\"audi 5000\",\"volvo 264gl\",\"peugeot 604sl\",\"pontiac lemans v6\",\"mercury zephyr 6\",\"ford fairmont 4\",\"amc concord dl 6\",\"dodge aspen 6\",\"dodge colt hatchback custom\",\"amc spirit dl\",\"mercedes benz 300d\",\"oldsmobile cutlass salon brougham\",\"plymouth horizon\",\"plymouth horizon tc3\",\"buick skylark limited\",\"chevrolet citation\",\"oldsmobile omega brougham\",\"pontiac phoenix\",\"chevrolet chevette\",\"chevrolet citation\",\"ford fairmont\",\"amc concord\",\"dodge aspen\",\"dodge colt\",\"plymouth reliant\",\"buick skylark\",\"dodge aries wagon (sw)\",\"chevrolet citation\",\"plymouth reliant\",\"plymouth champ\",\"plymouth horizon 4\",\"ford escort 4w\",\"ford escort 2h\",\"buick century\",\"oldsmobile cutlass ls\",\"ford granada gl\",\"chrysler lebaron salon\",\"chevrolet cavalier\",\"chevrolet cavalier wagon\",\"chevrolet cavalier 2-door\",\"pontiac j2000 se hatchback\",\"dodge aries se\",\"pontiac phoenix\",\"ford fairmont futura\",\"plymouth horizon miser\",\"mercury lynx l\",\"buick century limited\",\"oldsmobile cutlass ciera (diesel)\",\"chrysler lebaron medallion\",\"ford granada l\",\"dodge charger 2.2\",\"chevrolet camaro\",\"ford mustang gl\",\"dodge rampage\",\"ford ranger\",\"chevy s-10\"],\"legendgroup\":\"0\",\"marker\":{\"color\":\"#00cc96\",\"symbol\":\"circle\"},\"mode\":\"markers\",\"name\":\"0\",\"orientation\":\"v\",\"showlegend\":true,\"x\":[0.7187417879547204,0.9077937459259184,0.5158811834731739,0.6808411089928273,-0.6192311584276681,1.1250318471951022,1.4357773846369286,1.3838557788447636,1.155073687111206,1.2472056740007078,1.4795222334198956,-0.7623053353808534,1.3114399566376738,1.2188532859466834,-0.3728938521711018,-1.5088048394367781,-0.9942144973557248,-0.5860569270947439,-0.555587220224513,-0.480582963585708,-0.9376428681278556,0.9929184144486689,1.0719897853531248,0.9343284597173918,0.8734419932790223,0.4933311041178536,0.9532581108370868,-0.8725677814209053,-0.6670813340646531,0.5258002203078564,0.6283843717034149,0.8111352589638792,1.1825340937849107,-0.8623283927242302,-0.7981152121151966,1.3391447623695283,1.3111029652716837,1.1643311309340376,-1.1010918070259363,0.8460061259987715,1.1807903117335443,0.5285506541454414,0.5385469010258606,0.9580039831033639,1.2516833355545123,1.2586800088300414,0.8616644650541542,0.9105803287575275,-0.6320963985296514,0.7141595356741176,-0.8398317773638233,0.7121827673582898,0.7079666068953845,-0.5333364418736909,-1.2740517450200861,0.7371560602862697,1.0208950620039174,0.052673335043212775,0.37247329182533145,-2.2483822909146065,-1.8331620328967573,0.8169865186749321,0.4548819514755408,1.2193785396388381,0.7951634522625568,-0.6911463687104751,-1.2869765338572423,0.522447720162668,-1.2438577654569436,-0.8214219930353521,1.6705027965101802,1.1369316499361037,0.7799964874419738,0.8005115759171734,0.7351626368981561,-0.5841321992816307,-0.6397553448439856,-1.7359023556024227,-1.5689479581817787,-1.909595584283501,1.4739357093847067,0.6296263197820983,0.2627714167270257,0.30725263453586404,-0.665257019418462,0.6268718336499034,0.5054857163793562,0.7993570271509522,0.2450917323975372,0.7697582918910968,1.2516711529636133,-1.6234829377193096,-1.353638542836349,-0.4480206754721148,-0.7276224505290728,-0.6955336689261932,0.38771452870243645,0.431005586556476,0.7755745919635841,0.06545527968165789,-0.6796522865491987,0.3467593146285239,0.6895787816978683,-1.7520969825984105,-0.9711724669678108,-1.1135382824302185,0.4441214551759376,-1.5131582966792432,-1.704737645779006,-0.8935343743209295,0.27283358050069856,0.27217581384661405,-0.9372127901530655,-1.7395785660729677,-0.9708537569008393,-1.0133686248772076,-0.9699683698502284,0.3256496785251719,-0.549851108986538,-1.1232964053831664,-1.029263601521182,-0.7168250917931694,0.30964497893954024,-1.0522750522700541,-2.427041734252263,-1.8643561429713555,-2.0530921851818,-2.090766002939553,0.6143669376342978,1.1339251266639336,0.09846033132955241,0.5218453395458169,-1.5664203412075774,-1.4115695048664398,-1.8063364794987067,-1.4461625890949414,-1.275813636828797,-1.1423617825985692,-0.8158369519319848,-2.1011309257670505,-2.197750340570522,-0.029761483374331665,-0.6135959456427837,-0.8064912552310035,0.4355967679477059,-1.4115460008059744,-0.9799933742928884,-0.9821083541071534,-1.1268082836860291,-1.5257188064315697,-1.672595579706159],\"xaxis\":\"x\",\"y\":[-0.15828156352214642,-0.11947883791082828,-0.28211116908869427,-0.09238511376686459,-0.3234959985966579,0.21611405288568195,-0.1817128423813278,-0.20912618199584818,-0.29241977798636826,-0.21562473875452146,0.18931913708022027,-0.9726941987093702,-0.13747243298207532,-0.11616811897461048,-0.0748077020618441,-1.2374061118834636,-0.7037336892581542,-1.02726567380989,-0.5637603353572282,-0.49656386660449625,-0.3982840395967299,-0.5293443757997133,-0.7955520435279646,-0.46895807288241975,-0.6240533753742707,-0.5317283302717332,-0.2989683811209696,-1.2362530180371523,-0.9812784945960503,-0.10746632603088588,-0.6990025521584807,-0.5670561899875258,-0.7242111322323808,-0.8291486690915529,-0.9366075707462116,-0.7515270475094645,-0.8451082214662816,-0.6472816530027743,-0.535178270795479,-0.7100904572545184,-0.6493880927758361,-1.6428051858037673,-1.3858979131819784,-1.4498290332825283,-1.064818626897247,-1.100672095832222,-1.2166816677579824,-0.45686148669467375,-0.9752132195384924,-0.6678942044385823,-1.246999070967215,-0.44247748940128273,-0.8993531024109707,-0.6823447508101846,-1.2127453060570714,-0.692861298262841,-0.5185458985377347,-1.170274978016757,-1.10581794958463,-2.116659630005287,-2.0296157652050177,-1.0748322598262539,-1.7253247653998258,-0.75776886974914,-1.0798970879027618,-0.6008922802621719,-0.8078772508648088,0.2504297519066319,-0.8468051406687573,-0.8423121992908578,-1.2924589330040817,-0.8726206763309673,-1.0000698840072761,-1.162184972286887,-1.3740036375627853,-0.9831774917246014,-0.9528186836280252,-1.307135262164795,-1.0260911330907927,-0.9818786913457412,-0.8018043780174889,-1.4656712652216797,-1.3576155588286554,-1.0173435143052079,-0.9841190272904043,-1.1745016546154585,-1.2170363454176405,-0.9140468650968545,-1.1721879096108794,-1.3554957013485205,-0.6921900887398441,-1.2919052260623465,-0.9324400220526792,-1.0799904302418937,-1.3570159064611158,0.09653040860969746,0.624902302945569,0.3076776202155121,-0.8815647470873952,-1.500441125988014,-1.3787198678945336,-1.4811991592124714,-1.1079053849765814,-0.9944601202630446,-1.0758143001365157,-0.8943427673573792,-2.1323617079415103,-0.8639099143221598,-1.1395188852659277,-1.1793739742631693,-0.2355600859874475,-0.4887419285967115,-0.749139300623861,-1.3166271968351457,-1.352921475431825,-1.6263334610096865,-1.9315870804417883,-1.6567794861407241,-0.9253299030179952,-1.3420704983243872,-1.4569676180900293,-1.077323876690575,-0.6405260188073442,-0.8986398162090777,-1.6243320231295206,-1.3748356390668601,-1.5649905743055943,-2.2856383949642196,-1.1789495215790748,-1.7279804358010706,-1.4978261374754496,-1.435294007410739,-2.059345068914391,-1.8926109480517233,-1.824818001499142,-1.5413951136180624,-1.497453715519618,-1.782047696067945,-1.499965655641253,-1.4518530297236327,-1.8210360638815435,-1.3706122178395685,-1.688598184847975,-1.1873633207970893,-1.0519824410009897,-1.0440084618528775,-1.678638678844703,-1.4205144055903436,-0.789213943773262,-1.951240150147849,-2.0855321418663704],\"yaxis\":\"y\",\"type\":\"scatter\"}],                        {\"template\":{\"data\":{\"histogram2dcontour\":[{\"type\":\"histogram2dcontour\",\"colorbar\":{\"outlinewidth\":0,\"ticks\":\"\"},\"colorscale\":[[0.0,\"#0d0887\"],[0.1111111111111111,\"#46039f\"],[0.2222222222222222,\"#7201a8\"],[0.3333333333333333,\"#9c179e\"],[0.4444444444444444,\"#bd3786\"],[0.5555555555555556,\"#d8576b\"],[0.6666666666666666,\"#ed7953\"],[0.7777777777777778,\"#fb9f3a\"],[0.8888888888888888,\"#fdca26\"],[1.0,\"#f0f921\"]]}],\"choropleth\":[{\"type\":\"choropleth\",\"colorbar\":{\"outlinewidth\":0,\"ticks\":\"\"}}],\"histogram2d\":[{\"type\":\"histogram2d\",\"colorbar\":{\"outlinewidth\":0,\"ticks\":\"\"},\"colorscale\":[[0.0,\"#0d0887\"],[0.1111111111111111,\"#46039f\"],[0.2222222222222222,\"#7201a8\"],[0.3333333333333333,\"#9c179e\"],[0.4444444444444444,\"#bd3786\"],[0.5555555555555556,\"#d8576b\"],[0.6666666666666666,\"#ed7953\"],[0.7777777777777778,\"#fb9f3a\"],[0.8888888888888888,\"#fdca26\"],[1.0,\"#f0f921\"]]}],\"heatmap\":[{\"type\":\"heatmap\",\"colorbar\":{\"outlinewidth\":0,\"ticks\":\"\"},\"colorscale\":[[0.0,\"#0d0887\"],[0.1111111111111111,\"#46039f\"],[0.2222222222222222,\"#7201a8\"],[0.3333333333333333,\"#9c179e\"],[0.4444444444444444,\"#bd3786\"],[0.5555555555555556,\"#d8576b\"],[0.6666666666666666,\"#ed7953\"],[0.7777777777777778,\"#fb9f3a\"],[0.8888888888888888,\"#fdca26\"],[1.0,\"#f0f921\"]]}],\"heatmapgl\":[{\"type\":\"heatmapgl\",\"colorbar\":{\"outlinewidth\":0,\"ticks\":\"\"},\"colorscale\":[[0.0,\"#0d0887\"],[0.1111111111111111,\"#46039f\"],[0.2222222222222222,\"#7201a8\"],[0.3333333333333333,\"#9c179e\"],[0.4444444444444444,\"#bd3786\"],[0.5555555555555556,\"#d8576b\"],[0.6666666666666666,\"#ed7953\"],[0.7777777777777778,\"#fb9f3a\"],[0.8888888888888888,\"#fdca26\"],[1.0,\"#f0f921\"]]}],\"contourcarpet\":[{\"type\":\"contourcarpet\",\"colorbar\":{\"outlinewidth\":0,\"ticks\":\"\"}}],\"contour\":[{\"type\":\"contour\",\"colorbar\":{\"outlinewidth\":0,\"ticks\":\"\"},\"colorscale\":[[0.0,\"#0d0887\"],[0.1111111111111111,\"#46039f\"],[0.2222222222222222,\"#7201a8\"],[0.3333333333333333,\"#9c179e\"],[0.4444444444444444,\"#bd3786\"],[0.5555555555555556,\"#d8576b\"],[0.6666666666666666,\"#ed7953\"],[0.7777777777777778,\"#fb9f3a\"],[0.8888888888888888,\"#fdca26\"],[1.0,\"#f0f921\"]]}],\"surface\":[{\"type\":\"surface\",\"colorbar\":{\"outlinewidth\":0,\"ticks\":\"\"},\"colorscale\":[[0.0,\"#0d0887\"],[0.1111111111111111,\"#46039f\"],[0.2222222222222222,\"#7201a8\"],[0.3333333333333333,\"#9c179e\"],[0.4444444444444444,\"#bd3786\"],[0.5555555555555556,\"#d8576b\"],[0.6666666666666666,\"#ed7953\"],[0.7777777777777778,\"#fb9f3a\"],[0.8888888888888888,\"#fdca26\"],[1.0,\"#f0f921\"]]}],\"mesh3d\":[{\"type\":\"mesh3d\",\"colorbar\":{\"outlinewidth\":0,\"ticks\":\"\"}}],\"scatter\":[{\"fillpattern\":{\"fillmode\":\"overlay\",\"size\":10,\"solidity\":0.2},\"type\":\"scatter\"}],\"parcoords\":[{\"type\":\"parcoords\",\"line\":{\"colorbar\":{\"outlinewidth\":0,\"ticks\":\"\"}}}],\"scatterpolargl\":[{\"type\":\"scatterpolargl\",\"marker\":{\"colorbar\":{\"outlinewidth\":0,\"ticks\":\"\"}}}],\"bar\":[{\"error_x\":{\"color\":\"#2a3f5f\"},\"error_y\":{\"color\":\"#2a3f5f\"},\"marker\":{\"line\":{\"color\":\"#E5ECF6\",\"width\":0.5},\"pattern\":{\"fillmode\":\"overlay\",\"size\":10,\"solidity\":0.2}},\"type\":\"bar\"}],\"scattergeo\":[{\"type\":\"scattergeo\",\"marker\":{\"colorbar\":{\"outlinewidth\":0,\"ticks\":\"\"}}}],\"scatterpolar\":[{\"type\":\"scatterpolar\",\"marker\":{\"colorbar\":{\"outlinewidth\":0,\"ticks\":\"\"}}}],\"histogram\":[{\"marker\":{\"pattern\":{\"fillmode\":\"overlay\",\"size\":10,\"solidity\":0.2}},\"type\":\"histogram\"}],\"scattergl\":[{\"type\":\"scattergl\",\"marker\":{\"colorbar\":{\"outlinewidth\":0,\"ticks\":\"\"}}}],\"scatter3d\":[{\"type\":\"scatter3d\",\"line\":{\"colorbar\":{\"outlinewidth\":0,\"ticks\":\"\"}},\"marker\":{\"colorbar\":{\"outlinewidth\":0,\"ticks\":\"\"}}}],\"scattermapbox\":[{\"type\":\"scattermapbox\",\"marker\":{\"colorbar\":{\"outlinewidth\":0,\"ticks\":\"\"}}}],\"scatterternary\":[{\"type\":\"scatterternary\",\"marker\":{\"colorbar\":{\"outlinewidth\":0,\"ticks\":\"\"}}}],\"scattercarpet\":[{\"type\":\"scattercarpet\",\"marker\":{\"colorbar\":{\"outlinewidth\":0,\"ticks\":\"\"}}}],\"carpet\":[{\"aaxis\":{\"endlinecolor\":\"#2a3f5f\",\"gridcolor\":\"white\",\"linecolor\":\"white\",\"minorgridcolor\":\"white\",\"startlinecolor\":\"#2a3f5f\"},\"baxis\":{\"endlinecolor\":\"#2a3f5f\",\"gridcolor\":\"white\",\"linecolor\":\"white\",\"minorgridcolor\":\"white\",\"startlinecolor\":\"#2a3f5f\"},\"type\":\"carpet\"}],\"table\":[{\"cells\":{\"fill\":{\"color\":\"#EBF0F8\"},\"line\":{\"color\":\"white\"}},\"header\":{\"fill\":{\"color\":\"#C8D4E3\"},\"line\":{\"color\":\"white\"}},\"type\":\"table\"}],\"barpolar\":[{\"marker\":{\"line\":{\"color\":\"#E5ECF6\",\"width\":0.5},\"pattern\":{\"fillmode\":\"overlay\",\"size\":10,\"solidity\":0.2}},\"type\":\"barpolar\"}],\"pie\":[{\"automargin\":true,\"type\":\"pie\"}]},\"layout\":{\"autotypenumbers\":\"strict\",\"colorway\":[\"#636efa\",\"#EF553B\",\"#00cc96\",\"#ab63fa\",\"#FFA15A\",\"#19d3f3\",\"#FF6692\",\"#B6E880\",\"#FF97FF\",\"#FECB52\"],\"font\":{\"color\":\"#2a3f5f\"},\"hovermode\":\"closest\",\"hoverlabel\":{\"align\":\"left\"},\"paper_bgcolor\":\"white\",\"plot_bgcolor\":\"#E5ECF6\",\"polar\":{\"bgcolor\":\"#E5ECF6\",\"angularaxis\":{\"gridcolor\":\"white\",\"linecolor\":\"white\",\"ticks\":\"\"},\"radialaxis\":{\"gridcolor\":\"white\",\"linecolor\":\"white\",\"ticks\":\"\"}},\"ternary\":{\"bgcolor\":\"#E5ECF6\",\"aaxis\":{\"gridcolor\":\"white\",\"linecolor\":\"white\",\"ticks\":\"\"},\"baxis\":{\"gridcolor\":\"white\",\"linecolor\":\"white\",\"ticks\":\"\"},\"caxis\":{\"gridcolor\":\"white\",\"linecolor\":\"white\",\"ticks\":\"\"}},\"coloraxis\":{\"colorbar\":{\"outlinewidth\":0,\"ticks\":\"\"}},\"colorscale\":{\"sequential\":[[0.0,\"#0d0887\"],[0.1111111111111111,\"#46039f\"],[0.2222222222222222,\"#7201a8\"],[0.3333333333333333,\"#9c179e\"],[0.4444444444444444,\"#bd3786\"],[0.5555555555555556,\"#d8576b\"],[0.6666666666666666,\"#ed7953\"],[0.7777777777777778,\"#fb9f3a\"],[0.8888888888888888,\"#fdca26\"],[1.0,\"#f0f921\"]],\"sequentialminus\":[[0.0,\"#0d0887\"],[0.1111111111111111,\"#46039f\"],[0.2222222222222222,\"#7201a8\"],[0.3333333333333333,\"#9c179e\"],[0.4444444444444444,\"#bd3786\"],[0.5555555555555556,\"#d8576b\"],[0.6666666666666666,\"#ed7953\"],[0.7777777777777778,\"#fb9f3a\"],[0.8888888888888888,\"#fdca26\"],[1.0,\"#f0f921\"]],\"diverging\":[[0,\"#8e0152\"],[0.1,\"#c51b7d\"],[0.2,\"#de77ae\"],[0.3,\"#f1b6da\"],[0.4,\"#fde0ef\"],[0.5,\"#f7f7f7\"],[0.6,\"#e6f5d0\"],[0.7,\"#b8e186\"],[0.8,\"#7fbc41\"],[0.9,\"#4d9221\"],[1,\"#276419\"]]},\"xaxis\":{\"gridcolor\":\"white\",\"linecolor\":\"white\",\"ticks\":\"\",\"title\":{\"standoff\":15},\"zerolinecolor\":\"white\",\"automargin\":true,\"zerolinewidth\":2},\"yaxis\":{\"gridcolor\":\"white\",\"linecolor\":\"white\",\"ticks\":\"\",\"title\":{\"standoff\":15},\"zerolinecolor\":\"white\",\"automargin\":true,\"zerolinewidth\":2},\"scene\":{\"xaxis\":{\"backgroundcolor\":\"#E5ECF6\",\"gridcolor\":\"white\",\"linecolor\":\"white\",\"showbackground\":true,\"ticks\":\"\",\"zerolinecolor\":\"white\",\"gridwidth\":2},\"yaxis\":{\"backgroundcolor\":\"#E5ECF6\",\"gridcolor\":\"white\",\"linecolor\":\"white\",\"showbackground\":true,\"ticks\":\"\",\"zerolinecolor\":\"white\",\"gridwidth\":2},\"zaxis\":{\"backgroundcolor\":\"#E5ECF6\",\"gridcolor\":\"white\",\"linecolor\":\"white\",\"showbackground\":true,\"ticks\":\"\",\"zerolinecolor\":\"white\",\"gridwidth\":2}},\"shapedefaults\":{\"line\":{\"color\":\"#2a3f5f\"}},\"annotationdefaults\":{\"arrowcolor\":\"#2a3f5f\",\"arrowhead\":0,\"arrowwidth\":1},\"geo\":{\"bgcolor\":\"white\",\"landcolor\":\"#E5ECF6\",\"subunitcolor\":\"white\",\"showland\":true,\"showlakes\":true,\"lakecolor\":\"white\"},\"title\":{\"x\":0.05},\"mapbox\":{\"style\":\"light\"}}},\"xaxis\":{\"anchor\":\"y\",\"domain\":[0.0,1.0],\"title\":{\"text\":\"PC1 ~ 0.63%\"}},\"yaxis\":{\"anchor\":\"x\",\"domain\":[0.0,1.0],\"title\":{\"text\":\"PC2 ~ 0.13%\"}},\"legend\":{\"title\":{\"text\":\"color\"},\"tracegroupgap\":0},\"margin\":{\"t\":60},\"shapes\":[{\"line\":{\"color\":\"red\",\"width\":3},\"type\":\"line\",\"x0\":0,\"x1\":-0.8928155806384659,\"y0\":0,\"y1\":-0.05034625496064235},{\"line\":{\"color\":\"red\",\"width\":3},\"type\":\"line\",\"x0\":0,\"x1\":0.9299663778955242,\"y0\":0,\"y1\":0.022486691690942823},{\"line\":{\"color\":\"red\",\"width\":3},\"type\":\"line\",\"x0\":0,\"x1\":0.9645639314670257,\"y0\":0,\"y1\":0.016099288686915337},{\"line\":{\"color\":\"red\",\"width\":3},\"type\":\"line\",\"x0\":0,\"x1\":0.9176742607508145,\"y0\":0,\"y1\":0.2539951960130866},{\"line\":{\"color\":\"red\",\"width\":3},\"type\":\"line\",\"x0\":0,\"x1\":0.9297093506412806,\"y0\":0,\"y1\":-0.044447023159303795},{\"line\":{\"color\":\"red\",\"width\":3},\"type\":\"line\",\"x0\":0,\"x1\":-0.5953502847669855,\"y0\":0,\"y1\":-0.48801072645254434},{\"line\":{\"color\":\"red\",\"width\":3},\"type\":\"line\",\"x0\":0,\"x1\":-0.4811315676821876,\"y0\":0,\"y1\":-0.37810549739366645},{\"line\":{\"color\":\"red\",\"width\":3},\"type\":\"line\",\"x0\":0,\"x1\":-0.5442238707775561,\"y0\":0,\"y1\":0.6616262918578163},{\"line\":{\"color\":\"red\",\"width\":3},\"type\":\"line\",\"x0\":0,\"x1\":0.7045559429203703,\"y0\":0,\"y1\":-0.5472036960986221}],\"annotations\":[{\"ax\":0,\"ay\":0,\"text\":\"mpg\",\"x\":-0.8928155806384659,\"xanchor\":\"center\",\"y\":-0.05034625496064235,\"yanchor\":\"bottom\"},{\"ax\":0,\"ay\":0,\"text\":\"cylinders\",\"x\":0.9299663778955242,\"xanchor\":\"center\",\"y\":0.022486691690942823,\"yanchor\":\"bottom\"},{\"ax\":0,\"ay\":0,\"text\":\"displacement\",\"x\":0.9645639314670257,\"xanchor\":\"center\",\"y\":0.016099288686915337,\"yanchor\":\"bottom\"},{\"ax\":0,\"ay\":0,\"text\":\"horsepower\",\"x\":0.9176742607508145,\"xanchor\":\"center\",\"y\":0.2539951960130866,\"yanchor\":\"bottom\"},{\"ax\":0,\"ay\":0,\"text\":\"weight\",\"x\":0.9297093506412806,\"xanchor\":\"center\",\"y\":-0.044447023159303795,\"yanchor\":\"bottom\"},{\"ax\":0,\"ay\":0,\"text\":\"acceleration\",\"x\":-0.5953502847669855,\"xanchor\":\"center\",\"y\":-0.48801072645254434,\"yanchor\":\"bottom\"},{\"ax\":0,\"ay\":0,\"text\":\"model_year\",\"x\":-0.4811315676821876,\"xanchor\":\"center\",\"y\":-0.37810549739366645,\"yanchor\":\"bottom\"},{\"ax\":0,\"ay\":0,\"text\":\"origin_japan\",\"x\":-0.5442238707775561,\"xanchor\":\"center\",\"y\":0.6616262918578163,\"yanchor\":\"bottom\"},{\"ax\":0,\"ay\":0,\"text\":\"origin_usa\",\"x\":0.7045559429203703,\"xanchor\":\"center\",\"y\":-0.5472036960986221,\"yanchor\":\"bottom\"}]},                        {\"responsive\": true}                    ).then(function(){\n",
       "                            \n",
       "var gd = document.getElementById('ebdfece7-43f0-4d61-b98d-40f9a45cb1e4');\n",
       "var x = new MutationObserver(function (mutations, observer) {{\n",
       "        var display = window.getComputedStyle(gd).display;\n",
       "        if (!display || display === 'none') {{\n",
       "            console.log([gd, 'removed!']);\n",
       "            Plotly.purge(gd);\n",
       "            observer.disconnect();\n",
       "        }}\n",
       "}});\n",
       "\n",
       "// Listen for the removal of the full notebook cells\n",
       "var notebookContainer = gd.closest('#notebook-container');\n",
       "if (notebookContainer) {{\n",
       "    x.observe(notebookContainer, {childList: true});\n",
       "}}\n",
       "\n",
       "// Listen for the clearing of the current output cell\n",
       "var outputEl = gd.closest('.output');\n",
       "if (outputEl) {{\n",
       "    x.observe(outputEl, {childList: true});\n",
       "}}\n",
       "\n",
       "                        })                };                });            </script>        </div>"
      ]
     },
     "metadata": {},
     "output_type": "display_data"
    }
   ],
   "source": [
    "import numpy as np\n",
    "\n",
    "loadings = pca.components_.T * np.sqrt(pca.explained_variance_)\n",
    "evr = pca.explained_variance_ratio_.round(2)\n",
    "\n",
    "fig = px.scatter(df_pca, x='PC1', y='PC2',\n",
    "                 color=model_km.labels_.astype(str),\n",
    "                 hover_name=df_pca.index,\n",
    "                labels={\n",
    "                    'PC1': f'PC1 ~ {evr[0]}%',\n",
    "                    'PC2': f'PC2 ~ {evr[1]}%'\n",
    "                })\n",
    "\n",
    "for i, feature in enumerate(df_scaled.columns):\n",
    "    fig.add_shape(\n",
    "        type='line',\n",
    "        x0=0, y0=0,\n",
    "        x1=loadings[i, 0],\n",
    "        y1=loadings[i, 1],\n",
    "        line=dict(color=\"red\",width=3)\n",
    "    )\n",
    "    fig.add_annotation(\n",
    "        x=loadings[i, 0],\n",
    "        y=loadings[i, 1],\n",
    "        ax=0, ay=0,\n",
    "        xanchor=\"center\",\n",
    "        yanchor=\"bottom\",\n",
    "        text=feature,\n",
    "    )\n",
    "\n",
    "fig.show()"
   ]
  },
  {
   "cell_type": "markdown",
   "metadata": {},
   "source": [
    "# Achieved Goals"
   ]
  },
  {
   "cell_type": "markdown",
   "metadata": {},
   "source": [
    "_Double click on **this cell** and place an `X` inside the square brackets (i.e., [X]) if you think you understand the goal:_\n",
    "\n",
    "- [X] Understand the role of **Linear Algebra** on Machine Learning\n",
    "    - Matrix Multiplications with the `loadings`\n",
    "- [X] Necessity to `StandardScaler()` the data when the algorithm implies distance calculations\n",
    "- [X] Understand that every Machine Learning process is a matter of optimization\n",
    "    - To find the best numbers based on a criteria\n",
    "    - How is done in `PCA()`?\n",
    "- [X] Why would you use PCA?\n",
    "    - Visualization\n",
    "    - Preprocess the data for modelling\n",
    "- [X] There are techniques for everything\n",
    "    - [X] Grouping observations\n",
    "    - [X] Grouping variables"
   ]
  },
  {
   "cell_type": "markdown",
   "metadata": {},
   "source": [
    "<a rel=\"license\" href=\"http://creativecommons.org/licenses/by-nc-nd/4.0/\"><img alt=\"Creative Commons License\" style=\"border-width:0\" src=\"https://i.creativecommons.org/l/by-nc-nd/4.0/88x31.png\" /></a><br />This work is licensed under a <a rel=\"license\" href=\"http://creativecommons.org/licenses/by-nc-nd/4.0/\">Creative Commons Attribution-NonCommercial-NoDerivatives 4.0 International License</a>."
   ]
  }
 ],
 "metadata": {
  "authors": [
   {
    "blog": "https//blog.pythonresolver.com",
    "name": "Jesús López",
    "twitter": "https://twitter.com/jsulopz"
   }
  ],
  "kernelspec": {
   "display_name": "Python 3 (ipykernel)",
   "language": "python",
   "name": "python3"
  },
  "language_info": {
   "codemirror_mode": {
    "name": "ipython",
    "version": 3
   },
   "file_extension": ".py",
   "mimetype": "text/x-python",
   "name": "python",
   "nbconvert_exporter": "python",
   "pygments_lexer": "ipython3",
   "version": "3.9.12"
  },
  "title": "Principal Component Analysis (PCA)"
 },
 "nbformat": 4,
 "nbformat_minor": 4
}
