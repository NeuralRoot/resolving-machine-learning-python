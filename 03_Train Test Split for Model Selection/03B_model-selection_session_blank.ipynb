{
 "cells": [
  {
   "cell_type": "markdown",
   "id": "a3195a8a",
   "metadata": {},
   "source": [
    "**© Jesús López**\n",
    "\n",
    "Ask him any doubt on **[Twitter](https://twitter.com/jsulopzs)** or **[LinkedIn](https://linkedin.com/in/jsulopzs)**\n",
    "\n",
    "## Chapter Importance\n",
    "\n",
    "Machine Learning models learn a mathematical equation from historical data.\n",
    "\n",
    "Not all Machine Learning models predict the same way; some models are better than others.\n",
    "\n",
    "We measure how good a model is by calculating its score (accuracy).\n",
    "\n",
    "So far, we have calculated the model's score using the same data to fit (train) the mathematical equation. That's cheating. That's overfitting.\n",
    "\n",
    "This tutorial compares 3 different models:\n",
    "\n",
    "- Decision Tree\n",
    "- Logistic Regression\n",
    "- Support Vector Machines\n",
    "\n",
    "We validate the models in 2 different ways:\n",
    "\n",
    "1. Using the same data during training\n",
    "2. Using 30% of the data; not used during training\n",
    "\n",
    "To demonstrate how the selection of the best model changes if we are to validate the model with data not used during training.\n",
    "\n",
    "For example, the image below shows the best model, when using the same data for validation, is the Decision Tree (0.86 of accuracy). Nevertheless, everything changes when the model is evaluated with data not used during training; the best model is the Logistic Regression (0.85 of accuracy). Whereas the Decision Tree only gets up to 0.80 of accuracy.\n",
    "\n",
    "\n",
    "![df_comp.jpeg](https://cdn.hashnode.com/res/hashnode/image/upload/v1661356658503/xtMfk_S0n.jpeg align=\"left\")\n",
    "\n",
    "Were we a bank whose losses rank up to 1M USD due to 0.01 fail in accuracy, we would have lost 5M USD. This is something that happens in real life.\n",
    "\n",
    "In short, banks are interested in good models to predict new potential customers. Not historical customers who have already gotten a loan and the bank knows if they were good to pay or not.\n",
    "\n",
    "This tutorial shows you how to implement the `train_test_split` technique to reduce overfitting with a practical use case where we want to classify whether a person used the Internet or not.\n",
    "\n",
    "## [ ] Load the Data\n",
    "\n",
    "Load the dataset from [CIS](https://www.cis.es/cis/opencms/ES/index.html), executing the following lines of code:"
   ]
  },
  {
   "cell_type": "code",
   "execution_count": 2,
   "id": "8132e247",
   "metadata": {
    "tags": []
   },
   "outputs": [
    {
     "data": {
      "text/html": [
       "<div>\n",
       "<style scoped>\n",
       "    .dataframe tbody tr th:only-of-type {\n",
       "        vertical-align: middle;\n",
       "    }\n",
       "\n",
       "    .dataframe tbody tr th {\n",
       "        vertical-align: top;\n",
       "    }\n",
       "\n",
       "    .dataframe thead th {\n",
       "        text-align: right;\n",
       "    }\n",
       "</style>\n",
       "<table border=\"1\" class=\"dataframe\">\n",
       "  <thead>\n",
       "    <tr style=\"text-align: right;\">\n",
       "      <th></th>\n",
       "      <th>internet_usage</th>\n",
       "      <th>sex</th>\n",
       "      <th>age</th>\n",
       "      <th>education</th>\n",
       "    </tr>\n",
       "    <tr>\n",
       "      <th>name</th>\n",
       "      <th></th>\n",
       "      <th></th>\n",
       "      <th></th>\n",
       "      <th></th>\n",
       "    </tr>\n",
       "  </thead>\n",
       "  <tbody>\n",
       "    <tr>\n",
       "      <th>Josefina</th>\n",
       "      <td>0</td>\n",
       "      <td>Female</td>\n",
       "      <td>66</td>\n",
       "      <td>Elementary</td>\n",
       "    </tr>\n",
       "    <tr>\n",
       "      <th>Vicki</th>\n",
       "      <td>1</td>\n",
       "      <td>Male</td>\n",
       "      <td>72</td>\n",
       "      <td>Elementary</td>\n",
       "    </tr>\n",
       "    <tr>\n",
       "      <th>David</th>\n",
       "      <td>1</td>\n",
       "      <td>Male</td>\n",
       "      <td>48</td>\n",
       "      <td>University</td>\n",
       "    </tr>\n",
       "    <tr>\n",
       "      <th>Curtis</th>\n",
       "      <td>0</td>\n",
       "      <td>Male</td>\n",
       "      <td>59</td>\n",
       "      <td>PhD</td>\n",
       "    </tr>\n",
       "    <tr>\n",
       "      <th>Josephine</th>\n",
       "      <td>1</td>\n",
       "      <td>Female</td>\n",
       "      <td>44</td>\n",
       "      <td>PhD</td>\n",
       "    </tr>\n",
       "    <tr>\n",
       "      <th>...</th>\n",
       "      <td>...</td>\n",
       "      <td>...</td>\n",
       "      <td>...</td>\n",
       "      <td>...</td>\n",
       "    </tr>\n",
       "    <tr>\n",
       "      <th>Frances</th>\n",
       "      <td>1</td>\n",
       "      <td>Male</td>\n",
       "      <td>43</td>\n",
       "      <td>Elementary</td>\n",
       "    </tr>\n",
       "    <tr>\n",
       "      <th>Harry</th>\n",
       "      <td>1</td>\n",
       "      <td>Female</td>\n",
       "      <td>18</td>\n",
       "      <td>High School</td>\n",
       "    </tr>\n",
       "    <tr>\n",
       "      <th>Adam</th>\n",
       "      <td>0</td>\n",
       "      <td>Female</td>\n",
       "      <td>54</td>\n",
       "      <td>Elementary</td>\n",
       "    </tr>\n",
       "    <tr>\n",
       "      <th>Christine</th>\n",
       "      <td>1</td>\n",
       "      <td>Male</td>\n",
       "      <td>31</td>\n",
       "      <td>High School</td>\n",
       "    </tr>\n",
       "    <tr>\n",
       "      <th>Pepe</th>\n",
       "      <td>0</td>\n",
       "      <td>Male</td>\n",
       "      <td>52</td>\n",
       "      <td>Elementary</td>\n",
       "    </tr>\n",
       "  </tbody>\n",
       "</table>\n",
       "<p>2455 rows × 4 columns</p>\n",
       "</div>"
      ],
      "text/plain": [
       "           internet_usage     sex  age    education\n",
       "name                                               \n",
       "Josefina                0  Female   66   Elementary\n",
       "Vicki                   1    Male   72   Elementary\n",
       "David                   1    Male   48   University\n",
       "Curtis                  0    Male   59          PhD\n",
       "Josephine               1  Female   44          PhD\n",
       "...                   ...     ...  ...          ...\n",
       "Frances                 1    Male   43   Elementary\n",
       "Harry                   1  Female   18  High School\n",
       "Adam                    0  Female   54   Elementary\n",
       "Christine               1    Male   31  High School\n",
       "Pepe                    0    Male   52   Elementary\n",
       "\n",
       "[2455 rows x 4 columns]"
      ]
     },
     "execution_count": 2,
     "metadata": {},
     "output_type": "execute_result"
    }
   ],
   "source": [
    "import pandas as pd #!\n",
    "\n",
    "df_internet = pd.read_excel('https://github.com/jsulopzs/data/blob/main/internet_usage_spain.xlsx?raw=true', sheet_name=1, index_col=0)\n",
    "df_internet"
   ]
  },
  {
   "cell_type": "markdown",
   "id": "9b001075",
   "metadata": {},
   "source": [
    "- The goal of this dataset is\n",
    "- To predict `internet_usage` of **people** (rows)\n",
    "- Based on their **socio-demographical characteristics** (columns)\n",
    "\n",
    "## Preprocess the Data\n",
    "\n",
    "### Missing Data"
   ]
  },
  {
   "cell_type": "code",
   "execution_count": 3,
   "id": "15667309-369d-4ce5-b417-a884b61c263b",
   "metadata": {},
   "outputs": [
    {
     "data": {
      "text/plain": [
       "internet_usage    0\n",
       "sex               0\n",
       "age               0\n",
       "education         0\n",
       "dtype: int64"
      ]
     },
     "execution_count": 3,
     "metadata": {},
     "output_type": "execute_result"
    }
   ],
   "source": [
    "df_internet.isnull().sum()"
   ]
  },
  {
   "cell_type": "markdown",
   "id": "745095df",
   "metadata": {},
   "source": [
    "### Dummy Variables"
   ]
  },
  {
   "cell_type": "code",
   "execution_count": 4,
   "id": "dc285c33-10e7-402f-b301-3a0aace2c5c4",
   "metadata": {},
   "outputs": [],
   "source": [
    "df_internet = pd.get_dummies(df_internet, drop_first=True)"
   ]
  },
  {
   "cell_type": "markdown",
   "id": "0152fe9f",
   "metadata": {},
   "source": [
    "## Feature Selection"
   ]
  },
  {
   "cell_type": "code",
   "execution_count": 5,
   "id": "7dc08d9b-6105-48c3-a4db-fea5d96d5d23",
   "metadata": {},
   "outputs": [],
   "source": [
    "features = df_internet.drop(columns=\"internet_usage\")\n",
    "target = df_internet.internet_usage"
   ]
  },
  {
   "cell_type": "markdown",
   "id": "7f620e96",
   "metadata": {},
   "source": [
    "## [ ] Build & Compare Models' Scores\n",
    "\n",
    "We should already know that the Machine Learning procedure is the same all the time:\n",
    "1. Computing a mathematical equation: **fit**\n",
    "2. To calculate predictions: **predict**\n",
    "3. And compare them to reality: **score**\n",
    "\n",
    "The only element that changes is the `Class()` that contains lines of code of a specific algorithm (DecisionTreeClassifier, SVC, LogisticRegression).\n",
    "\n",
    "### `DecisionTreeClassifier()` Model in Python"
   ]
  },
  {
   "cell_type": "code",
   "execution_count": 6,
   "id": "32b8c40e-36a0-4324-8b37-285eb31b67ae",
   "metadata": {},
   "outputs": [],
   "source": [
    "from sklearn.tree import DecisionTreeClassifier"
   ]
  },
  {
   "cell_type": "code",
   "execution_count": 7,
   "id": "260000d0-68be-4ac8-b01e-e546aed8ad60",
   "metadata": {},
   "outputs": [],
   "source": [
    "model_dt = DecisionTreeClassifier()"
   ]
  },
  {
   "cell_type": "code",
   "execution_count": 8,
   "id": "121a9563-e855-466d-a330-adf0735c6e76",
   "metadata": {},
   "outputs": [
    {
     "data": {
      "text/html": [
       "<style>#sk-container-id-1 {color: black;background-color: white;}#sk-container-id-1 pre{padding: 0;}#sk-container-id-1 div.sk-toggleable {background-color: white;}#sk-container-id-1 label.sk-toggleable__label {cursor: pointer;display: block;width: 100%;margin-bottom: 0;padding: 0.3em;box-sizing: border-box;text-align: center;}#sk-container-id-1 label.sk-toggleable__label-arrow:before {content: \"▸\";float: left;margin-right: 0.25em;color: #696969;}#sk-container-id-1 label.sk-toggleable__label-arrow:hover:before {color: black;}#sk-container-id-1 div.sk-estimator:hover label.sk-toggleable__label-arrow:before {color: black;}#sk-container-id-1 div.sk-toggleable__content {max-height: 0;max-width: 0;overflow: hidden;text-align: left;background-color: #f0f8ff;}#sk-container-id-1 div.sk-toggleable__content pre {margin: 0.2em;color: black;border-radius: 0.25em;background-color: #f0f8ff;}#sk-container-id-1 input.sk-toggleable__control:checked~div.sk-toggleable__content {max-height: 200px;max-width: 100%;overflow: auto;}#sk-container-id-1 input.sk-toggleable__control:checked~label.sk-toggleable__label-arrow:before {content: \"▾\";}#sk-container-id-1 div.sk-estimator input.sk-toggleable__control:checked~label.sk-toggleable__label {background-color: #d4ebff;}#sk-container-id-1 div.sk-label input.sk-toggleable__control:checked~label.sk-toggleable__label {background-color: #d4ebff;}#sk-container-id-1 input.sk-hidden--visually {border: 0;clip: rect(1px 1px 1px 1px);clip: rect(1px, 1px, 1px, 1px);height: 1px;margin: -1px;overflow: hidden;padding: 0;position: absolute;width: 1px;}#sk-container-id-1 div.sk-estimator {font-family: monospace;background-color: #f0f8ff;border: 1px dotted black;border-radius: 0.25em;box-sizing: border-box;margin-bottom: 0.5em;}#sk-container-id-1 div.sk-estimator:hover {background-color: #d4ebff;}#sk-container-id-1 div.sk-parallel-item::after {content: \"\";width: 100%;border-bottom: 1px solid gray;flex-grow: 1;}#sk-container-id-1 div.sk-label:hover label.sk-toggleable__label {background-color: #d4ebff;}#sk-container-id-1 div.sk-serial::before {content: \"\";position: absolute;border-left: 1px solid gray;box-sizing: border-box;top: 0;bottom: 0;left: 50%;z-index: 0;}#sk-container-id-1 div.sk-serial {display: flex;flex-direction: column;align-items: center;background-color: white;padding-right: 0.2em;padding-left: 0.2em;position: relative;}#sk-container-id-1 div.sk-item {position: relative;z-index: 1;}#sk-container-id-1 div.sk-parallel {display: flex;align-items: stretch;justify-content: center;background-color: white;position: relative;}#sk-container-id-1 div.sk-item::before, #sk-container-id-1 div.sk-parallel-item::before {content: \"\";position: absolute;border-left: 1px solid gray;box-sizing: border-box;top: 0;bottom: 0;left: 50%;z-index: -1;}#sk-container-id-1 div.sk-parallel-item {display: flex;flex-direction: column;z-index: 1;position: relative;background-color: white;}#sk-container-id-1 div.sk-parallel-item:first-child::after {align-self: flex-end;width: 50%;}#sk-container-id-1 div.sk-parallel-item:last-child::after {align-self: flex-start;width: 50%;}#sk-container-id-1 div.sk-parallel-item:only-child::after {width: 0;}#sk-container-id-1 div.sk-dashed-wrapped {border: 1px dashed gray;margin: 0 0.4em 0.5em 0.4em;box-sizing: border-box;padding-bottom: 0.4em;background-color: white;}#sk-container-id-1 div.sk-label label {font-family: monospace;font-weight: bold;display: inline-block;line-height: 1.2em;}#sk-container-id-1 div.sk-label-container {text-align: center;}#sk-container-id-1 div.sk-container {/* jupyter's `normalize.less` sets `[hidden] { display: none; }` but bootstrap.min.css set `[hidden] { display: none !important; }` so we also need the `!important` here to be able to override the default hidden behavior on the sphinx rendered scikit-learn.org. See: https://github.com/scikit-learn/scikit-learn/issues/21755 */display: inline-block !important;position: relative;}#sk-container-id-1 div.sk-text-repr-fallback {display: none;}</style><div id=\"sk-container-id-1\" class=\"sk-top-container\"><div class=\"sk-text-repr-fallback\"><pre>DecisionTreeClassifier()</pre><b>In a Jupyter environment, please rerun this cell to show the HTML representation or trust the notebook. <br />On GitHub, the HTML representation is unable to render, please try loading this page with nbviewer.org.</b></div><div class=\"sk-container\" hidden><div class=\"sk-item\"><div class=\"sk-estimator sk-toggleable\"><input class=\"sk-toggleable__control sk-hidden--visually\" id=\"sk-estimator-id-1\" type=\"checkbox\" checked><label for=\"sk-estimator-id-1\" class=\"sk-toggleable__label sk-toggleable__label-arrow\">DecisionTreeClassifier</label><div class=\"sk-toggleable__content\"><pre>DecisionTreeClassifier()</pre></div></div></div></div></div>"
      ],
      "text/plain": [
       "DecisionTreeClassifier()"
      ]
     },
     "execution_count": 8,
     "metadata": {},
     "output_type": "execute_result"
    }
   ],
   "source": [
    "model_dt.fit(X=features, y=target)"
   ]
  },
  {
   "cell_type": "code",
   "execution_count": 9,
   "id": "4607face-b45b-4377-b80a-0d535173d496",
   "metadata": {},
   "outputs": [
    {
     "data": {
      "text/plain": [
       "0.859877800407332"
      ]
     },
     "execution_count": 9,
     "metadata": {},
     "output_type": "execute_result"
    }
   ],
   "source": [
    "model_dt.score(X=features, y=target)"
   ]
  },
  {
   "cell_type": "markdown",
   "id": "14e309b0",
   "metadata": {},
   "source": [
    "### `SVC()` Model in Python"
   ]
  },
  {
   "cell_type": "code",
   "execution_count": 10,
   "id": "e4739c62-b5d4-45cb-8dd6-9d5d6d45a9cf",
   "metadata": {},
   "outputs": [],
   "source": [
    "from sklearn.svm import SVC"
   ]
  },
  {
   "cell_type": "code",
   "execution_count": 11,
   "id": "83b1c33c-7057-415d-ba94-fdcb14be0704",
   "metadata": {},
   "outputs": [],
   "source": [
    "model_svc = SVC()"
   ]
  },
  {
   "cell_type": "code",
   "execution_count": 12,
   "id": "0f1a1ae9-e1b3-4db2-99a2-c207b01541ad",
   "metadata": {},
   "outputs": [
    {
     "data": {
      "text/html": [
       "<style>#sk-container-id-2 {color: black;background-color: white;}#sk-container-id-2 pre{padding: 0;}#sk-container-id-2 div.sk-toggleable {background-color: white;}#sk-container-id-2 label.sk-toggleable__label {cursor: pointer;display: block;width: 100%;margin-bottom: 0;padding: 0.3em;box-sizing: border-box;text-align: center;}#sk-container-id-2 label.sk-toggleable__label-arrow:before {content: \"▸\";float: left;margin-right: 0.25em;color: #696969;}#sk-container-id-2 label.sk-toggleable__label-arrow:hover:before {color: black;}#sk-container-id-2 div.sk-estimator:hover label.sk-toggleable__label-arrow:before {color: black;}#sk-container-id-2 div.sk-toggleable__content {max-height: 0;max-width: 0;overflow: hidden;text-align: left;background-color: #f0f8ff;}#sk-container-id-2 div.sk-toggleable__content pre {margin: 0.2em;color: black;border-radius: 0.25em;background-color: #f0f8ff;}#sk-container-id-2 input.sk-toggleable__control:checked~div.sk-toggleable__content {max-height: 200px;max-width: 100%;overflow: auto;}#sk-container-id-2 input.sk-toggleable__control:checked~label.sk-toggleable__label-arrow:before {content: \"▾\";}#sk-container-id-2 div.sk-estimator input.sk-toggleable__control:checked~label.sk-toggleable__label {background-color: #d4ebff;}#sk-container-id-2 div.sk-label input.sk-toggleable__control:checked~label.sk-toggleable__label {background-color: #d4ebff;}#sk-container-id-2 input.sk-hidden--visually {border: 0;clip: rect(1px 1px 1px 1px);clip: rect(1px, 1px, 1px, 1px);height: 1px;margin: -1px;overflow: hidden;padding: 0;position: absolute;width: 1px;}#sk-container-id-2 div.sk-estimator {font-family: monospace;background-color: #f0f8ff;border: 1px dotted black;border-radius: 0.25em;box-sizing: border-box;margin-bottom: 0.5em;}#sk-container-id-2 div.sk-estimator:hover {background-color: #d4ebff;}#sk-container-id-2 div.sk-parallel-item::after {content: \"\";width: 100%;border-bottom: 1px solid gray;flex-grow: 1;}#sk-container-id-2 div.sk-label:hover label.sk-toggleable__label {background-color: #d4ebff;}#sk-container-id-2 div.sk-serial::before {content: \"\";position: absolute;border-left: 1px solid gray;box-sizing: border-box;top: 0;bottom: 0;left: 50%;z-index: 0;}#sk-container-id-2 div.sk-serial {display: flex;flex-direction: column;align-items: center;background-color: white;padding-right: 0.2em;padding-left: 0.2em;position: relative;}#sk-container-id-2 div.sk-item {position: relative;z-index: 1;}#sk-container-id-2 div.sk-parallel {display: flex;align-items: stretch;justify-content: center;background-color: white;position: relative;}#sk-container-id-2 div.sk-item::before, #sk-container-id-2 div.sk-parallel-item::before {content: \"\";position: absolute;border-left: 1px solid gray;box-sizing: border-box;top: 0;bottom: 0;left: 50%;z-index: -1;}#sk-container-id-2 div.sk-parallel-item {display: flex;flex-direction: column;z-index: 1;position: relative;background-color: white;}#sk-container-id-2 div.sk-parallel-item:first-child::after {align-self: flex-end;width: 50%;}#sk-container-id-2 div.sk-parallel-item:last-child::after {align-self: flex-start;width: 50%;}#sk-container-id-2 div.sk-parallel-item:only-child::after {width: 0;}#sk-container-id-2 div.sk-dashed-wrapped {border: 1px dashed gray;margin: 0 0.4em 0.5em 0.4em;box-sizing: border-box;padding-bottom: 0.4em;background-color: white;}#sk-container-id-2 div.sk-label label {font-family: monospace;font-weight: bold;display: inline-block;line-height: 1.2em;}#sk-container-id-2 div.sk-label-container {text-align: center;}#sk-container-id-2 div.sk-container {/* jupyter's `normalize.less` sets `[hidden] { display: none; }` but bootstrap.min.css set `[hidden] { display: none !important; }` so we also need the `!important` here to be able to override the default hidden behavior on the sphinx rendered scikit-learn.org. See: https://github.com/scikit-learn/scikit-learn/issues/21755 */display: inline-block !important;position: relative;}#sk-container-id-2 div.sk-text-repr-fallback {display: none;}</style><div id=\"sk-container-id-2\" class=\"sk-top-container\"><div class=\"sk-text-repr-fallback\"><pre>SVC()</pre><b>In a Jupyter environment, please rerun this cell to show the HTML representation or trust the notebook. <br />On GitHub, the HTML representation is unable to render, please try loading this page with nbviewer.org.</b></div><div class=\"sk-container\" hidden><div class=\"sk-item\"><div class=\"sk-estimator sk-toggleable\"><input class=\"sk-toggleable__control sk-hidden--visually\" id=\"sk-estimator-id-2\" type=\"checkbox\" checked><label for=\"sk-estimator-id-2\" class=\"sk-toggleable__label sk-toggleable__label-arrow\">SVC</label><div class=\"sk-toggleable__content\"><pre>SVC()</pre></div></div></div></div></div>"
      ],
      "text/plain": [
       "SVC()"
      ]
     },
     "execution_count": 12,
     "metadata": {},
     "output_type": "execute_result"
    }
   ],
   "source": [
    "model_svc.fit(X=features, y=target)"
   ]
  },
  {
   "cell_type": "code",
   "execution_count": 13,
   "id": "98432c62-ada7-475c-ae99-8efd5f73b638",
   "metadata": {},
   "outputs": [
    {
     "data": {
      "text/plain": [
       "0.7837067209775967"
      ]
     },
     "execution_count": 13,
     "metadata": {},
     "output_type": "execute_result"
    }
   ],
   "source": [
    "model_svc.score(X=features, y=target)"
   ]
  },
  {
   "cell_type": "markdown",
   "id": "0126772f",
   "metadata": {},
   "source": [
    "### `LogisticRegression()` Model in Python"
   ]
  },
  {
   "cell_type": "code",
   "execution_count": 14,
   "id": "41ff7061-512e-4b4a-881f-3347efced997",
   "metadata": {},
   "outputs": [],
   "source": [
    "from sklearn.linear_model import LogisticRegression"
   ]
  },
  {
   "cell_type": "code",
   "execution_count": 15,
   "id": "0f773a59-e8b9-4e14-833a-50ba04836dd7",
   "metadata": {},
   "outputs": [],
   "source": [
    "model_lgr = LogisticRegression(max_iter=1000)"
   ]
  },
  {
   "cell_type": "code",
   "execution_count": 16,
   "id": "593e4274-a027-4ca9-8677-169d310210ac",
   "metadata": {},
   "outputs": [
    {
     "data": {
      "text/html": [
       "<style>#sk-container-id-3 {color: black;background-color: white;}#sk-container-id-3 pre{padding: 0;}#sk-container-id-3 div.sk-toggleable {background-color: white;}#sk-container-id-3 label.sk-toggleable__label {cursor: pointer;display: block;width: 100%;margin-bottom: 0;padding: 0.3em;box-sizing: border-box;text-align: center;}#sk-container-id-3 label.sk-toggleable__label-arrow:before {content: \"▸\";float: left;margin-right: 0.25em;color: #696969;}#sk-container-id-3 label.sk-toggleable__label-arrow:hover:before {color: black;}#sk-container-id-3 div.sk-estimator:hover label.sk-toggleable__label-arrow:before {color: black;}#sk-container-id-3 div.sk-toggleable__content {max-height: 0;max-width: 0;overflow: hidden;text-align: left;background-color: #f0f8ff;}#sk-container-id-3 div.sk-toggleable__content pre {margin: 0.2em;color: black;border-radius: 0.25em;background-color: #f0f8ff;}#sk-container-id-3 input.sk-toggleable__control:checked~div.sk-toggleable__content {max-height: 200px;max-width: 100%;overflow: auto;}#sk-container-id-3 input.sk-toggleable__control:checked~label.sk-toggleable__label-arrow:before {content: \"▾\";}#sk-container-id-3 div.sk-estimator input.sk-toggleable__control:checked~label.sk-toggleable__label {background-color: #d4ebff;}#sk-container-id-3 div.sk-label input.sk-toggleable__control:checked~label.sk-toggleable__label {background-color: #d4ebff;}#sk-container-id-3 input.sk-hidden--visually {border: 0;clip: rect(1px 1px 1px 1px);clip: rect(1px, 1px, 1px, 1px);height: 1px;margin: -1px;overflow: hidden;padding: 0;position: absolute;width: 1px;}#sk-container-id-3 div.sk-estimator {font-family: monospace;background-color: #f0f8ff;border: 1px dotted black;border-radius: 0.25em;box-sizing: border-box;margin-bottom: 0.5em;}#sk-container-id-3 div.sk-estimator:hover {background-color: #d4ebff;}#sk-container-id-3 div.sk-parallel-item::after {content: \"\";width: 100%;border-bottom: 1px solid gray;flex-grow: 1;}#sk-container-id-3 div.sk-label:hover label.sk-toggleable__label {background-color: #d4ebff;}#sk-container-id-3 div.sk-serial::before {content: \"\";position: absolute;border-left: 1px solid gray;box-sizing: border-box;top: 0;bottom: 0;left: 50%;z-index: 0;}#sk-container-id-3 div.sk-serial {display: flex;flex-direction: column;align-items: center;background-color: white;padding-right: 0.2em;padding-left: 0.2em;position: relative;}#sk-container-id-3 div.sk-item {position: relative;z-index: 1;}#sk-container-id-3 div.sk-parallel {display: flex;align-items: stretch;justify-content: center;background-color: white;position: relative;}#sk-container-id-3 div.sk-item::before, #sk-container-id-3 div.sk-parallel-item::before {content: \"\";position: absolute;border-left: 1px solid gray;box-sizing: border-box;top: 0;bottom: 0;left: 50%;z-index: -1;}#sk-container-id-3 div.sk-parallel-item {display: flex;flex-direction: column;z-index: 1;position: relative;background-color: white;}#sk-container-id-3 div.sk-parallel-item:first-child::after {align-self: flex-end;width: 50%;}#sk-container-id-3 div.sk-parallel-item:last-child::after {align-self: flex-start;width: 50%;}#sk-container-id-3 div.sk-parallel-item:only-child::after {width: 0;}#sk-container-id-3 div.sk-dashed-wrapped {border: 1px dashed gray;margin: 0 0.4em 0.5em 0.4em;box-sizing: border-box;padding-bottom: 0.4em;background-color: white;}#sk-container-id-3 div.sk-label label {font-family: monospace;font-weight: bold;display: inline-block;line-height: 1.2em;}#sk-container-id-3 div.sk-label-container {text-align: center;}#sk-container-id-3 div.sk-container {/* jupyter's `normalize.less` sets `[hidden] { display: none; }` but bootstrap.min.css set `[hidden] { display: none !important; }` so we also need the `!important` here to be able to override the default hidden behavior on the sphinx rendered scikit-learn.org. See: https://github.com/scikit-learn/scikit-learn/issues/21755 */display: inline-block !important;position: relative;}#sk-container-id-3 div.sk-text-repr-fallback {display: none;}</style><div id=\"sk-container-id-3\" class=\"sk-top-container\"><div class=\"sk-text-repr-fallback\"><pre>LogisticRegression(max_iter=1000)</pre><b>In a Jupyter environment, please rerun this cell to show the HTML representation or trust the notebook. <br />On GitHub, the HTML representation is unable to render, please try loading this page with nbviewer.org.</b></div><div class=\"sk-container\" hidden><div class=\"sk-item\"><div class=\"sk-estimator sk-toggleable\"><input class=\"sk-toggleable__control sk-hidden--visually\" id=\"sk-estimator-id-3\" type=\"checkbox\" checked><label for=\"sk-estimator-id-3\" class=\"sk-toggleable__label sk-toggleable__label-arrow\">LogisticRegression</label><div class=\"sk-toggleable__content\"><pre>LogisticRegression(max_iter=1000)</pre></div></div></div></div></div>"
      ],
      "text/plain": [
       "LogisticRegression(max_iter=1000)"
      ]
     },
     "execution_count": 16,
     "metadata": {},
     "output_type": "execute_result"
    }
   ],
   "source": [
    "model_lgr.fit(X=features, y=target)"
   ]
  },
  {
   "cell_type": "code",
   "execution_count": 17,
   "id": "6efd8580-87db-4bd9-a94e-c4f9c6e4d764",
   "metadata": {},
   "outputs": [
    {
     "data": {
      "text/plain": [
       "0.8334012219959267"
      ]
     },
     "execution_count": 17,
     "metadata": {},
     "output_type": "execute_result"
    }
   ],
   "source": [
    "model_lgr.score(X=features, y=target)"
   ]
  },
  {
   "cell_type": "markdown",
   "id": "8c93b90c",
   "metadata": {},
   "source": [
    "## [ ] Function to Automate Lines of Code\n",
    "\n",
    "- We repeated all the time the same code:\n",
    "\n",
    "```Python\n",
    "model.fit()\n",
    "model.score()\n",
    "```\n",
    "\n",
    "- Why not turn the lines into a `function()` to **automate the process**?\n",
    "\n",
    "```Python\n",
    "calculate_accuracy(model_dt)\n",
    "calculate_accuracy(model_sv)\n",
    "calculate_accuracy(model_lr)\n",
    "```\n",
    "\n",
    "- To calculate the `accuracy`\n",
    "\n",
    "### Make a Procedure Sample for `DecisionTreeClassifier()`"
   ]
  },
  {
   "cell_type": "code",
   "execution_count": 18,
   "id": "1238f33f-483f-4ffa-824e-53f778a68ad1",
   "metadata": {},
   "outputs": [],
   "source": [
    "def calculate_accuracy(model):\n",
    "    \n",
    "    model.fit(X=features, y=target)\n",
    "\n",
    "    result = model.score(X=features, y=target)\n",
    "\n",
    "    return result"
   ]
  },
  {
   "cell_type": "markdown",
   "id": "e810d600",
   "metadata": {},
   "source": [
    "### Automate the Procedure into a `function()`\n",
    "\n",
    "**Code Thinking**\n",
    "\n",
    "1. Think of the functions `result`\n",
    "2. Store that `object` to a variable\n",
    "3. `return` the `result` at the end\n",
    "4. **Indent the body** of the function to the right\n",
    "5. `def`ine the `function():`\n",
    "6. Think of what's gonna change when you execute the function with `different models`\n",
    "7. Locate the **`variable` that you will change**\n",
    "8. Turn it into the `parameter` of the `function()`"
   ]
  },
  {
   "cell_type": "code",
   "execution_count": null,
   "id": "ca5512ae-8255-4893-a13d-05c244d0309e",
   "metadata": {},
   "outputs": [],
   "source": []
  },
  {
   "cell_type": "markdown",
   "id": "1e8cab1c",
   "metadata": {},
   "source": [
    "## Calculate Models' Accuracies\n",
    "\n",
    "### `DecisionTreeClassifier()` Accuracy"
   ]
  },
  {
   "cell_type": "code",
   "execution_count": 19,
   "id": "a290f5e7-2d4c-488c-8281-ca44d93a12e7",
   "metadata": {},
   "outputs": [
    {
     "data": {
      "text/plain": [
       "0.859877800407332"
      ]
     },
     "execution_count": 19,
     "metadata": {},
     "output_type": "execute_result"
    }
   ],
   "source": [
    "calculate_accuracy(model_dt)"
   ]
  },
  {
   "cell_type": "markdown",
   "id": "8806904f",
   "metadata": {},
   "source": [
    "### `SVC()` Accuracy"
   ]
  },
  {
   "cell_type": "code",
   "execution_count": 20,
   "id": "aee0e01a-9a17-4f9b-9431-29b8a73b3d1a",
   "metadata": {},
   "outputs": [
    {
     "data": {
      "text/plain": [
       "0.7837067209775967"
      ]
     },
     "execution_count": 20,
     "metadata": {},
     "output_type": "execute_result"
    }
   ],
   "source": [
    "calculate_accuracy(model_svc)"
   ]
  },
  {
   "cell_type": "markdown",
   "id": "7454947a",
   "metadata": {
    "tags": []
   },
   "source": [
    "### `LogisticRegression()` Accuracy"
   ]
  },
  {
   "cell_type": "code",
   "execution_count": 21,
   "id": "e61829af-63a9-4def-bd17-c65a3a24ea39",
   "metadata": {},
   "outputs": [
    {
     "data": {
      "text/plain": [
       "0.8334012219959267"
      ]
     },
     "execution_count": 21,
     "metadata": {},
     "output_type": "execute_result"
    }
   ],
   "source": [
    "calculate_accuracy(model_lgr)"
   ]
  },
  {
   "cell_type": "markdown",
   "id": "8a2c7646",
   "metadata": {
    "tags": []
   },
   "source": [
    "## Which is the Best Model?"
   ]
  },
  {
   "cell_type": "markdown",
   "id": "058727ef-1c9b-4769-9bba-c7c071642d6e",
   "metadata": {},
   "source": [
    "*The best model is `decision tree` with 85% of score*"
   ]
  },
  {
   "cell_type": "markdown",
   "id": "75162979",
   "metadata": {},
   "source": [
    "## [ ] University Access Exams Analogy\n",
    "\n",
    "Let's **imagine**:\n",
    "\n",
    "1. You have a `math exam` on Saturday\n",
    "2. Today is Monday\n",
    "3. You want to **calibrate your level in case you need to study more** for the math exam\n",
    "4. How do you calibrate your `math level`?\n",
    "5. Well, you've got **100 questions `X` with 100 solutions `y`** from past years exams\n",
    "6. You may study the 100 questions with 100 solutions `fit(100questions, 100solutions)`\n",
    "7. Then, you may do a `mock exam` with the 100 questions `predict(100questions)`\n",
    "8. And compare `your_100solutions` with the `real_100solutions`\n",
    "9. You've got **90/100 correct answers** `accuracy` in the mock exam\n",
    "10. You think you are **prepared for the maths exam**\n",
    "11. And when you do **the real exam on Saturday, the mark is 40/100**\n",
    "12. Why? How could we have prevented this?\n",
    "13. **Solution**: separate the 100 questions into `70 for train` to study & `30 for test` for the mock exam.\n",
    "\n",
    "## `train_test_split()` the Data"
   ]
  },
  {
   "cell_type": "code",
   "execution_count": 22,
   "id": "3b63b8e4-c62d-4b53-9cae-1b8b0803ae2a",
   "metadata": {},
   "outputs": [],
   "source": [
    "from sklearn.model_selection import train_test_split"
   ]
  },
  {
   "cell_type": "code",
   "execution_count": 23,
   "id": "e53aa5f2-4a13-41c8-a959-85316554afa6",
   "metadata": {},
   "outputs": [],
   "source": [
    "X_train, X_test, y_train, y_test = train_test_split(\n",
    "    features, target, test_size=0.33, random_state=42)"
   ]
  },
  {
   "cell_type": "markdown",
   "id": "017f5b21",
   "metadata": {},
   "source": [
    "### What the heck is returning the function?"
   ]
  },
  {
   "cell_type": "code",
   "execution_count": 26,
   "id": "dabdeb03-36b7-4c73-90e7-30b697e47f02",
   "metadata": {},
   "outputs": [
    {
     "data": {
      "text/plain": [
       "name\n",
       "Thomas     0\n",
       "Pedro      1\n",
       "Walter     1\n",
       "Pamela     1\n",
       "Ernest     1\n",
       "          ..\n",
       "Donna      1\n",
       "Dennis     1\n",
       "Ricky      0\n",
       "James      1\n",
       "Phyllis    0\n",
       "Name: internet_usage, Length: 811, dtype: int64"
      ]
     },
     "execution_count": 26,
     "metadata": {},
     "output_type": "execute_result"
    }
   ],
   "source": [
    "y_test"
   ]
  },
  {
   "cell_type": "code",
   "execution_count": 27,
   "id": "17c6cee0-c59d-45bd-a83f-71fbf7f04d4f",
   "metadata": {},
   "outputs": [
    {
     "data": {
      "text/plain": [
       "name\n",
       "Alice      0\n",
       "Richard    0\n",
       "Richard    1\n",
       "John       0\n",
       "Daniel     0\n",
       "          ..\n",
       "Raymond    1\n",
       "Antonio    1\n",
       "Alma       0\n",
       "Corey      0\n",
       "Robert     1\n",
       "Name: internet_usage, Length: 1644, dtype: int64"
      ]
     },
     "execution_count": 27,
     "metadata": {},
     "output_type": "execute_result"
    }
   ],
   "source": [
    "y_train"
   ]
  },
  {
   "cell_type": "code",
   "execution_count": null,
   "id": "f7ab23ba-b71a-4b81-9b35-6f9810e77f62",
   "metadata": {},
   "outputs": [],
   "source": []
  },
  {
   "cell_type": "markdown",
   "id": "1db6a36e",
   "metadata": {},
   "source": [
    "### `fit()` the model with Train Data"
   ]
  },
  {
   "cell_type": "code",
   "execution_count": 28,
   "id": "d47d579c-1bae-4830-8f43-14e2e3226401",
   "metadata": {},
   "outputs": [
    {
     "data": {
      "text/html": [
       "<style>#sk-container-id-4 {color: black;background-color: white;}#sk-container-id-4 pre{padding: 0;}#sk-container-id-4 div.sk-toggleable {background-color: white;}#sk-container-id-4 label.sk-toggleable__label {cursor: pointer;display: block;width: 100%;margin-bottom: 0;padding: 0.3em;box-sizing: border-box;text-align: center;}#sk-container-id-4 label.sk-toggleable__label-arrow:before {content: \"▸\";float: left;margin-right: 0.25em;color: #696969;}#sk-container-id-4 label.sk-toggleable__label-arrow:hover:before {color: black;}#sk-container-id-4 div.sk-estimator:hover label.sk-toggleable__label-arrow:before {color: black;}#sk-container-id-4 div.sk-toggleable__content {max-height: 0;max-width: 0;overflow: hidden;text-align: left;background-color: #f0f8ff;}#sk-container-id-4 div.sk-toggleable__content pre {margin: 0.2em;color: black;border-radius: 0.25em;background-color: #f0f8ff;}#sk-container-id-4 input.sk-toggleable__control:checked~div.sk-toggleable__content {max-height: 200px;max-width: 100%;overflow: auto;}#sk-container-id-4 input.sk-toggleable__control:checked~label.sk-toggleable__label-arrow:before {content: \"▾\";}#sk-container-id-4 div.sk-estimator input.sk-toggleable__control:checked~label.sk-toggleable__label {background-color: #d4ebff;}#sk-container-id-4 div.sk-label input.sk-toggleable__control:checked~label.sk-toggleable__label {background-color: #d4ebff;}#sk-container-id-4 input.sk-hidden--visually {border: 0;clip: rect(1px 1px 1px 1px);clip: rect(1px, 1px, 1px, 1px);height: 1px;margin: -1px;overflow: hidden;padding: 0;position: absolute;width: 1px;}#sk-container-id-4 div.sk-estimator {font-family: monospace;background-color: #f0f8ff;border: 1px dotted black;border-radius: 0.25em;box-sizing: border-box;margin-bottom: 0.5em;}#sk-container-id-4 div.sk-estimator:hover {background-color: #d4ebff;}#sk-container-id-4 div.sk-parallel-item::after {content: \"\";width: 100%;border-bottom: 1px solid gray;flex-grow: 1;}#sk-container-id-4 div.sk-label:hover label.sk-toggleable__label {background-color: #d4ebff;}#sk-container-id-4 div.sk-serial::before {content: \"\";position: absolute;border-left: 1px solid gray;box-sizing: border-box;top: 0;bottom: 0;left: 50%;z-index: 0;}#sk-container-id-4 div.sk-serial {display: flex;flex-direction: column;align-items: center;background-color: white;padding-right: 0.2em;padding-left: 0.2em;position: relative;}#sk-container-id-4 div.sk-item {position: relative;z-index: 1;}#sk-container-id-4 div.sk-parallel {display: flex;align-items: stretch;justify-content: center;background-color: white;position: relative;}#sk-container-id-4 div.sk-item::before, #sk-container-id-4 div.sk-parallel-item::before {content: \"\";position: absolute;border-left: 1px solid gray;box-sizing: border-box;top: 0;bottom: 0;left: 50%;z-index: -1;}#sk-container-id-4 div.sk-parallel-item {display: flex;flex-direction: column;z-index: 1;position: relative;background-color: white;}#sk-container-id-4 div.sk-parallel-item:first-child::after {align-self: flex-end;width: 50%;}#sk-container-id-4 div.sk-parallel-item:last-child::after {align-self: flex-start;width: 50%;}#sk-container-id-4 div.sk-parallel-item:only-child::after {width: 0;}#sk-container-id-4 div.sk-dashed-wrapped {border: 1px dashed gray;margin: 0 0.4em 0.5em 0.4em;box-sizing: border-box;padding-bottom: 0.4em;background-color: white;}#sk-container-id-4 div.sk-label label {font-family: monospace;font-weight: bold;display: inline-block;line-height: 1.2em;}#sk-container-id-4 div.sk-label-container {text-align: center;}#sk-container-id-4 div.sk-container {/* jupyter's `normalize.less` sets `[hidden] { display: none; }` but bootstrap.min.css set `[hidden] { display: none !important; }` so we also need the `!important` here to be able to override the default hidden behavior on the sphinx rendered scikit-learn.org. See: https://github.com/scikit-learn/scikit-learn/issues/21755 */display: inline-block !important;position: relative;}#sk-container-id-4 div.sk-text-repr-fallback {display: none;}</style><div id=\"sk-container-id-4\" class=\"sk-top-container\"><div class=\"sk-text-repr-fallback\"><pre>DecisionTreeClassifier()</pre><b>In a Jupyter environment, please rerun this cell to show the HTML representation or trust the notebook. <br />On GitHub, the HTML representation is unable to render, please try loading this page with nbviewer.org.</b></div><div class=\"sk-container\" hidden><div class=\"sk-item\"><div class=\"sk-estimator sk-toggleable\"><input class=\"sk-toggleable__control sk-hidden--visually\" id=\"sk-estimator-id-4\" type=\"checkbox\" checked><label for=\"sk-estimator-id-4\" class=\"sk-toggleable__label sk-toggleable__label-arrow\">DecisionTreeClassifier</label><div class=\"sk-toggleable__content\"><pre>DecisionTreeClassifier()</pre></div></div></div></div></div>"
      ],
      "text/plain": [
       "DecisionTreeClassifier()"
      ]
     },
     "execution_count": 28,
     "metadata": {},
     "output_type": "execute_result"
    }
   ],
   "source": [
    "model_dt.fit(X=X_train, y=y_train)"
   ]
  },
  {
   "cell_type": "markdown",
   "id": "1bbb283a",
   "metadata": {},
   "source": [
    "### Compare the predictions with the real data"
   ]
  },
  {
   "cell_type": "code",
   "execution_count": 29,
   "id": "50d5e04f-84e3-4959-8e57-0edeab0f1e87",
   "metadata": {},
   "outputs": [
    {
     "data": {
      "text/plain": [
       "0.8064118372379778"
      ]
     },
     "execution_count": 29,
     "metadata": {},
     "output_type": "execute_result"
    }
   ],
   "source": [
    "model_dt.score(X=X_test, y=y_test)"
   ]
  },
  {
   "cell_type": "markdown",
   "id": "8ec6c2bc",
   "metadata": {},
   "source": [
    "## [ ] Optimize All Models & Compare Again\n",
    "\n",
    "### Make a Procedure Sample for `DecisionTreeClassifier()`"
   ]
  },
  {
   "cell_type": "markdown",
   "id": "de7a5067",
   "metadata": {},
   "source": [
    "### Automate the Procedure into a `function()`\n",
    "\n",
    "**Code Thinking**\n",
    "\n",
    "1. Think of the functions `result`\n",
    "2. Store that `object` to a variable\n",
    "3. `return` the `result` at the end\n",
    "4. **Indent the body** of the function to the right\n",
    "5. `def`ine the `function():`\n",
    "6. Think of what's gonna change when you execute the function with `different models`\n",
    "7. Locate the **`variable` that you will change**\n",
    "8. Turn it into the `parameter` of the `function()`"
   ]
  },
  {
   "cell_type": "code",
   "execution_count": 38,
   "id": "ee991322-7d32-426e-89b8-2dc5ab494510",
   "metadata": {},
   "outputs": [],
   "source": [
    "def calculate_accuracy_test(model):\n",
    "    \n",
    "    model.fit(X=X_train, y=y_train)\n",
    "\n",
    "    result = model.score(X=X_test, y=y_test)\n",
    "    \n",
    "    return result"
   ]
  },
  {
   "cell_type": "markdown",
   "id": "b009ecc8",
   "metadata": {},
   "source": [
    "## Calculate Models' Accuracies\n",
    "\n",
    "### `DecisionTreeClassifier()` Accuracy"
   ]
  },
  {
   "cell_type": "code",
   "execution_count": 39,
   "id": "68e4c3e1-c6e1-4c2b-bb68-3b0f547198a9",
   "metadata": {},
   "outputs": [
    {
     "data": {
      "text/plain": [
       "0.8064118372379778"
      ]
     },
     "execution_count": 39,
     "metadata": {},
     "output_type": "execute_result"
    }
   ],
   "source": [
    "calculate_accuracy_test(model_dt)"
   ]
  },
  {
   "cell_type": "markdown",
   "id": "6e22abc3",
   "metadata": {},
   "source": [
    "### `SVC()` Accuracy"
   ]
  },
  {
   "cell_type": "code",
   "execution_count": 40,
   "id": "f0b32904-94d8-488a-819b-9aea5f05385d",
   "metadata": {},
   "outputs": [
    {
     "data": {
      "text/plain": [
       "0.7866831072749692"
      ]
     },
     "execution_count": 40,
     "metadata": {},
     "output_type": "execute_result"
    }
   ],
   "source": [
    "calculate_accuracy_test(model_svc)"
   ]
  },
  {
   "cell_type": "markdown",
   "id": "0edfbdb5",
   "metadata": {},
   "source": [
    "### `LogisticRegression()` Accuracy"
   ]
  },
  {
   "cell_type": "code",
   "execution_count": 41,
   "id": "2097139c-7084-479f-80a7-1b9d86a9537d",
   "metadata": {},
   "outputs": [
    {
     "data": {
      "text/plain": [
       "0.8508014796547472"
      ]
     },
     "execution_count": 41,
     "metadata": {},
     "output_type": "execute_result"
    }
   ],
   "source": [
    "calculate_accuracy_test(model_lgr)"
   ]
  },
  {
   "cell_type": "markdown",
   "id": "f0971e08",
   "metadata": {},
   "source": [
    "## [ ] Which is the Best Model with `train_test_split()`?"
   ]
  },
  {
   "cell_type": "markdown",
   "id": "4ab1141c-d265-4549-a509-3ed38fa454ac",
   "metadata": {},
   "source": [
    "*The best model is `Logistic Regression`, always we need the best model to new data*"
   ]
  },
  {
   "cell_type": "code",
   "execution_count": 45,
   "id": "ab94e5eb-8399-452d-b6d3-a3b3bf93f450",
   "metadata": {},
   "outputs": [],
   "source": [
    "df_acc = pd.DataFrame()"
   ]
  },
  {
   "cell_type": "code",
   "execution_count": 46,
   "id": "503c2251-321e-4046-8f06-57ab22b27967",
   "metadata": {},
   "outputs": [],
   "source": [
    "df_acc[\"models\"] = [model_dt, model_svc, model_lgr]"
   ]
  },
  {
   "cell_type": "markdown",
   "id": "c9dbbfb6-263a-41b5-979b-700b09eaeee2",
   "metadata": {},
   "source": [
    "*We create a new column for the score of each model using tha same data as training*"
   ]
  },
  {
   "cell_type": "code",
   "execution_count": 51,
   "id": "c6d60bd3-4d5d-4b35-a2b4-9af7f96886f3",
   "metadata": {},
   "outputs": [],
   "source": [
    "df_acc[\"Same Data\"] = df_acc.models.apply(calculate_accuracy) #by using this function, we calculate the first function value for each model"
   ]
  },
  {
   "cell_type": "code",
   "execution_count": 52,
   "id": "6239277c-926a-4e56-bb44-1dfd6fbaa83b",
   "metadata": {},
   "outputs": [
    {
     "data": {
      "text/html": [
       "<div>\n",
       "<style scoped>\n",
       "    .dataframe tbody tr th:only-of-type {\n",
       "        vertical-align: middle;\n",
       "    }\n",
       "\n",
       "    .dataframe tbody tr th {\n",
       "        vertical-align: top;\n",
       "    }\n",
       "\n",
       "    .dataframe thead th {\n",
       "        text-align: right;\n",
       "    }\n",
       "</style>\n",
       "<table border=\"1\" class=\"dataframe\">\n",
       "  <thead>\n",
       "    <tr style=\"text-align: right;\">\n",
       "      <th></th>\n",
       "      <th>models</th>\n",
       "      <th>Same Data</th>\n",
       "    </tr>\n",
       "  </thead>\n",
       "  <tbody>\n",
       "    <tr>\n",
       "      <th>0</th>\n",
       "      <td>DecisionTreeClassifier()</td>\n",
       "      <td>0.859878</td>\n",
       "    </tr>\n",
       "    <tr>\n",
       "      <th>1</th>\n",
       "      <td>SVC()</td>\n",
       "      <td>0.783707</td>\n",
       "    </tr>\n",
       "    <tr>\n",
       "      <th>2</th>\n",
       "      <td>LogisticRegression(max_iter=1000)</td>\n",
       "      <td>0.833401</td>\n",
       "    </tr>\n",
       "  </tbody>\n",
       "</table>\n",
       "</div>"
      ],
      "text/plain": [
       "                              models  Same Data\n",
       "0           DecisionTreeClassifier()   0.859878\n",
       "1                              SVC()   0.783707\n",
       "2  LogisticRegression(max_iter=1000)   0.833401"
      ]
     },
     "execution_count": 52,
     "metadata": {},
     "output_type": "execute_result"
    }
   ],
   "source": [
    "df_acc"
   ]
  },
  {
   "cell_type": "markdown",
   "id": "92889ed8-b7db-46b9-95a4-3b5f4c402a95",
   "metadata": {},
   "source": [
    "*And now we do the same but calculating the score using the data that models haven´t seen before*"
   ]
  },
  {
   "cell_type": "code",
   "execution_count": 53,
   "id": "4bf3ac9c-2bd5-496d-9f0c-4eea0674fe06",
   "metadata": {},
   "outputs": [],
   "source": [
    "df_acc[\"Test Data\"] = df_acc.models.apply(calculate_accuracy_test)"
   ]
  },
  {
   "cell_type": "markdown",
   "id": "89bffde4-175b-49ff-92f0-2b4ffea8e196",
   "metadata": {},
   "source": [
    "*We make to the dataframe some colour*"
   ]
  },
  {
   "cell_type": "code",
   "execution_count": 55,
   "id": "10f4f9ed-20b9-4eaa-a87a-6248f8fc9c38",
   "metadata": {},
   "outputs": [
    {
     "data": {
      "text/html": [
       "<style type=\"text/css\">\n",
       "#T_21b1b_row0_col1, #T_21b1b_row2_col2 {\n",
       "  background-color: #023858;\n",
       "  color: #f1f1f1;\n",
       "}\n",
       "#T_21b1b_row0_col2 {\n",
       "  background-color: #bdc8e1;\n",
       "  color: #000000;\n",
       "}\n",
       "#T_21b1b_row1_col1, #T_21b1b_row1_col2 {\n",
       "  background-color: #fff7fb;\n",
       "  color: #000000;\n",
       "}\n",
       "#T_21b1b_row2_col1 {\n",
       "  background-color: #2a88bc;\n",
       "  color: #f1f1f1;\n",
       "}\n",
       "</style>\n",
       "<table id=\"T_21b1b\">\n",
       "  <thead>\n",
       "    <tr>\n",
       "      <th class=\"blank level0\" >&nbsp;</th>\n",
       "      <th id=\"T_21b1b_level0_col0\" class=\"col_heading level0 col0\" >models</th>\n",
       "      <th id=\"T_21b1b_level0_col1\" class=\"col_heading level0 col1\" >Same Data</th>\n",
       "      <th id=\"T_21b1b_level0_col2\" class=\"col_heading level0 col2\" >Test Data</th>\n",
       "    </tr>\n",
       "  </thead>\n",
       "  <tbody>\n",
       "    <tr>\n",
       "      <th id=\"T_21b1b_level0_row0\" class=\"row_heading level0 row0\" >0</th>\n",
       "      <td id=\"T_21b1b_row0_col0\" class=\"data row0 col0\" >DecisionTreeClassifier()</td>\n",
       "      <td id=\"T_21b1b_row0_col1\" class=\"data row0 col1\" >0.859878</td>\n",
       "      <td id=\"T_21b1b_row0_col2\" class=\"data row0 col2\" >0.806412</td>\n",
       "    </tr>\n",
       "    <tr>\n",
       "      <th id=\"T_21b1b_level0_row1\" class=\"row_heading level0 row1\" >1</th>\n",
       "      <td id=\"T_21b1b_row1_col0\" class=\"data row1 col0\" >SVC()</td>\n",
       "      <td id=\"T_21b1b_row1_col1\" class=\"data row1 col1\" >0.783707</td>\n",
       "      <td id=\"T_21b1b_row1_col2\" class=\"data row1 col2\" >0.786683</td>\n",
       "    </tr>\n",
       "    <tr>\n",
       "      <th id=\"T_21b1b_level0_row2\" class=\"row_heading level0 row2\" >2</th>\n",
       "      <td id=\"T_21b1b_row2_col0\" class=\"data row2 col0\" >LogisticRegression(max_iter=1000)</td>\n",
       "      <td id=\"T_21b1b_row2_col1\" class=\"data row2 col1\" >0.833401</td>\n",
       "      <td id=\"T_21b1b_row2_col2\" class=\"data row2 col2\" >0.850801</td>\n",
       "    </tr>\n",
       "  </tbody>\n",
       "</table>\n"
      ],
      "text/plain": [
       "<pandas.io.formats.style.Styler at 0x172f5d303d0>"
      ]
     },
     "execution_count": 55,
     "metadata": {},
     "output_type": "execute_result"
    }
   ],
   "source": [
    "df_acc.style.background_gradient()"
   ]
  },
  {
   "cell_type": "code",
   "execution_count": null,
   "id": "ab6f99c4-5880-44c0-8357-d12779d8a60c",
   "metadata": {},
   "outputs": [],
   "source": []
  }
 ],
 "metadata": {
  "kernelspec": {
   "display_name": "Python 3 (ipykernel)",
   "language": "python",
   "name": "python3"
  },
  "language_info": {
   "codemirror_mode": {
    "name": "ipython",
    "version": 3
   },
   "file_extension": ".py",
   "mimetype": "text/x-python",
   "name": "python",
   "nbconvert_exporter": "python",
   "pygments_lexer": "ipython3",
   "version": "3.9.12"
  },
  "toc-autonumbering": true
 },
 "nbformat": 4,
 "nbformat_minor": 5
}
